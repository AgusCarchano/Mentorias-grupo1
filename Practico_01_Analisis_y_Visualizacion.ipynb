{
  "nbformat": 4,
  "nbformat_minor": 5,
  "metadata": {
    "kernelspec": {
      "display_name": "Python 3",
      "language": "python",
      "name": "python3"
    },
    "language_info": {
      "codemirror_mode": {
        "name": "ipython",
        "version": 3
      },
      "file_extension": ".py",
      "mimetype": "text/x-python",
      "name": "python",
      "nbconvert_exporter": "python",
      "pygments_lexer": "ipython3",
      "version": "3.8.8"
    },
    "toc-autonumbering": true,
    "colab": {
      "name": "Practico_01_Analisis_y_Visualizacion.ipynb",
      "provenance": [],
      "include_colab_link": true
    }
  },
  "cells": [
    {
      "cell_type": "markdown",
      "metadata": {
        "id": "view-in-github",
        "colab_type": "text"
      },
      "source": [
        "<a href=\"https://colab.research.google.com/github/AgusCarchano/Mentorias-grupo1/blob/editado/Practico_01_Analisis_y_Visualizacion.ipynb\" target=\"_parent\"><img src=\"https://colab.research.google.com/assets/colab-badge.svg\" alt=\"Open In Colab\"/></a>"
      ]
    },
    {
      "cell_type": "code",
      "metadata": {
        "id": "d6e3a8e9-d57f-43bc-8574-cb8b8640cf95"
      },
      "source": [
        "import numpy as np\n",
        "import pandas as pd\n",
        "import matplotlib.pyplot as plt\n",
        "import seaborn as sns\n",
        "import plotly.express as px"
      ],
      "id": "d6e3a8e9-d57f-43bc-8574-cb8b8640cf95",
      "execution_count": null,
      "outputs": []
    },
    {
      "cell_type": "code",
      "metadata": {
        "id": "66f58817-99a9-420e-ba98-8515f8d7b153"
      },
      "source": [
        "# Opción para ver todas las columnas del dataset en el notebook\n",
        "pd.set_option('display.max_columns', 50)"
      ],
      "id": "66f58817-99a9-420e-ba98-8515f8d7b153",
      "execution_count": null,
      "outputs": []
    },
    {
      "cell_type": "markdown",
      "metadata": {
        "id": "3d777221-43e0-4eec-86f9-ecc19f327675"
      },
      "source": [
        "# Práctico 01: Análisis y Visualización"
      ],
      "id": "3d777221-43e0-4eec-86f9-ecc19f327675"
    },
    {
      "cell_type": "markdown",
      "metadata": {
        "id": "1d5644cf-2c4f-4693-a3f7-22bc4e20fcc2"
      },
      "source": [
        "## Descripción del dataset\n",
        "El dataset se basa en una campaña de marketing de un banco de Portugal. Consiste en llamadas telefónicas a clientes para que adquieran un depósito de plazo fijo.\n",
        "El objetivo consiste en predecir si el cliente va a adquirir el producto o no (clasificación binaria). Este es un problema muy interesante ya que la mayoría de las empresas hacen campañas de marketing directo y necesitan saber cuáles son los clientes más propensos a adquirir los productos que ofrece.\n"
      ],
      "id": "1d5644cf-2c4f-4693-a3f7-22bc4e20fcc2"
    },
    {
      "cell_type": "markdown",
      "metadata": {
        "id": "650b2d81-ab2e-4a6e-b50a-96b6f24ea078"
      },
      "source": [
        "Si querés inspeccionar el conjunto de datos, lo encontrarás en el repositorio UCI:\n",
        " https://archive.ics.uci.edu/ml/datasets/Bank+Marketing  \n",
        " \n",
        "Utilizaremos el archivo más completo: bank-additional-full.csv, consiste en alrededor de 40.000 llamadas realizadas a clientes del banco (algunas llamadas son hacia el mismo cliente pero en otro momento).\n"
      ],
      "id": "650b2d81-ab2e-4a6e-b50a-96b6f24ea078"
    },
    {
      "cell_type": "markdown",
      "metadata": {
        "id": "c5a7e865-52b6-44cf-9304-9bf9f9f8de3c"
      },
      "source": [
        "## Objetivo del práctico"
      ],
      "id": "c5a7e865-52b6-44cf-9304-9bf9f9f8de3c"
    },
    {
      "cell_type": "markdown",
      "metadata": {
        "id": "ad2e5dd3-2d30-4466-b791-d592c992867f"
      },
      "source": [
        "### Conocer los datos en forma global\n",
        "- Cantidad de registros\n",
        "- Cantidad de variables\n",
        "- Variables dependientes e independientes\n",
        "- Distribuciones en general\n",
        "- Entendimiento de cada variable  \n",
        "\n",
        "Es recomendable elaborar un diccionario de datos con el significado de cada variable"
      ],
      "id": "ad2e5dd3-2d30-4466-b791-d592c992867f"
    },
    {
      "cell_type": "markdown",
      "metadata": {
        "id": "6a5ebc3d-05ce-4054-8c85-e0dcdd1ce1c1"
      },
      "source": [
        "### Dar respuesta a hipótesis - Encontrar \"insights\""
      ],
      "id": "6a5ebc3d-05ce-4054-8c85-e0dcdd1ce1c1"
    },
    {
      "cell_type": "markdown",
      "metadata": {
        "id": "e50c78c7-480c-412d-9d54-e509416d2dfc"
      },
      "source": [
        "Además de conocer los datos en forma global y hacer un análisis descriptivo, es necesario responder preguntas sobre hipótesis que pueden surgir.  \n",
        "Por ejemplo:  \n",
        "- ¿Es la edad un factor significativo?\n",
        "- ¿Influye el nivel de educación?\n",
        "- ¿Qué insights podemos encontrar en los datos?  \n"
      ],
      "id": "e50c78c7-480c-412d-9d54-e509416d2dfc"
    },
    {
      "cell_type": "markdown",
      "metadata": {
        "id": "7d3f5365-e26a-43ec-a2c3-d32af19f1277"
      },
      "source": [
        "### Presentación"
      ],
      "id": "7d3f5365-e26a-43ec-a2c3-d32af19f1277"
    },
    {
      "cell_type": "markdown",
      "metadata": {
        "id": "016b43f4-f32c-4633-b9ac-11b588309a40"
      },
      "source": [
        "Al final del práctico, es necesario hacer 3 o 4 slides que irán incluidos en la presentación final.  \n",
        "Los slides deberán contener los principales insights encontrados."
      ],
      "id": "016b43f4-f32c-4633-b9ac-11b588309a40"
    },
    {
      "cell_type": "markdown",
      "metadata": {
        "id": "9d816609-1700-4638-a473-f89f92561cd0"
      },
      "source": [
        "### Librerías recomendadas para visualización"
      ],
      "id": "9d816609-1700-4638-a473-f89f92561cd0"
    },
    {
      "cell_type": "markdown",
      "metadata": {
        "id": "f6a9029c-0df9-4b15-96f8-fdc0464cd561"
      },
      "source": [
        "Se recomiendan las siguientes librerías para visualización:  \n",
        "- Seaborn: permite hacer gráficos estáticos, su fuerte son los gráficos estadísticos (dispersión, boxplot, etc).\n",
        "- Plotly: permite hacer gráficos dinámicos (es posible hacer zoom, etc). Es bastante fácil de usar y muy buena para hacer gráficos finales para una presentación. Es un poco complicada la instalación."
      ],
      "id": "f6a9029c-0df9-4b15-96f8-fdc0464cd561"
    },
    {
      "cell_type": "code",
      "metadata": {
        "id": "ef4594bb-0bbd-469a-9939-fd19c2fef8c5"
      },
      "source": [
        ""
      ],
      "id": "ef4594bb-0bbd-469a-9939-fd19c2fef8c5",
      "execution_count": null,
      "outputs": []
    },
    {
      "cell_type": "code",
      "metadata": {
        "id": "c01e7413-474e-43dc-90ec-dad4e074bd45"
      },
      "source": [
        ""
      ],
      "id": "c01e7413-474e-43dc-90ec-dad4e074bd45",
      "execution_count": null,
      "outputs": []
    },
    {
      "cell_type": "code",
      "metadata": {
        "id": "db951002-b093-44c6-a46f-a8d08ab5df44"
      },
      "source": [
        ""
      ],
      "id": "db951002-b093-44c6-a46f-a8d08ab5df44",
      "execution_count": null,
      "outputs": []
    },
    {
      "cell_type": "markdown",
      "metadata": {
        "id": "6aebe6c2-201c-4a50-9a23-5ac2b45e7e65"
      },
      "source": [
        "## Práctico 01: Análisis y Visualización - Resolución"
      ],
      "id": "6aebe6c2-201c-4a50-9a23-5ac2b45e7e65"
    },
    {
      "cell_type": "markdown",
      "metadata": {
        "id": "5de799ed-8976-4434-8553-33224957c10f"
      },
      "source": [
        "### Leer el dataset"
      ],
      "id": "5de799ed-8976-4434-8553-33224957c10f"
    },
    {
      "cell_type": "code",
      "metadata": {
        "id": "bf3b1566-2bb9-446e-8f3d-bacbeca84539"
      },
      "source": [
        "# Leemos el dataset con la función de pandas \"read_csv\"\n",
        "df = pd.read_csv(\"data/bank-additional-full.csv\", sep=\";\")"
      ],
      "id": "bf3b1566-2bb9-446e-8f3d-bacbeca84539",
      "execution_count": null,
      "outputs": []
    },
    {
      "cell_type": "code",
      "metadata": {
        "id": "5cc33131-1f42-4c15-a16a-1bf6259f7d26",
        "outputId": "42e7e67b-81c1-4099-c1be-2ee77f15325c"
      },
      "source": [
        "df"
      ],
      "id": "5cc33131-1f42-4c15-a16a-1bf6259f7d26",
      "execution_count": null,
      "outputs": [
        {
          "output_type": "execute_result",
          "data": {
            "text/html": [
              "<div>\n",
              "<style scoped>\n",
              "    .dataframe tbody tr th:only-of-type {\n",
              "        vertical-align: middle;\n",
              "    }\n",
              "\n",
              "    .dataframe tbody tr th {\n",
              "        vertical-align: top;\n",
              "    }\n",
              "\n",
              "    .dataframe thead th {\n",
              "        text-align: right;\n",
              "    }\n",
              "</style>\n",
              "<table border=\"1\" class=\"dataframe\">\n",
              "  <thead>\n",
              "    <tr style=\"text-align: right;\">\n",
              "      <th></th>\n",
              "      <th>age</th>\n",
              "      <th>job</th>\n",
              "      <th>marital</th>\n",
              "      <th>education</th>\n",
              "      <th>default</th>\n",
              "      <th>housing</th>\n",
              "      <th>loan</th>\n",
              "      <th>contact</th>\n",
              "      <th>month</th>\n",
              "      <th>day_of_week</th>\n",
              "      <th>duration</th>\n",
              "      <th>campaign</th>\n",
              "      <th>pdays</th>\n",
              "      <th>previous</th>\n",
              "      <th>poutcome</th>\n",
              "      <th>emp.var.rate</th>\n",
              "      <th>cons.price.idx</th>\n",
              "      <th>cons.conf.idx</th>\n",
              "      <th>euribor3m</th>\n",
              "      <th>nr.employed</th>\n",
              "      <th>y</th>\n",
              "    </tr>\n",
              "  </thead>\n",
              "  <tbody>\n",
              "    <tr>\n",
              "      <th>0</th>\n",
              "      <td>56</td>\n",
              "      <td>housemaid</td>\n",
              "      <td>married</td>\n",
              "      <td>basic.4y</td>\n",
              "      <td>no</td>\n",
              "      <td>no</td>\n",
              "      <td>no</td>\n",
              "      <td>telephone</td>\n",
              "      <td>may</td>\n",
              "      <td>mon</td>\n",
              "      <td>261</td>\n",
              "      <td>1</td>\n",
              "      <td>999</td>\n",
              "      <td>0</td>\n",
              "      <td>nonexistent</td>\n",
              "      <td>1.1</td>\n",
              "      <td>93.994</td>\n",
              "      <td>-36.4</td>\n",
              "      <td>4.857</td>\n",
              "      <td>5191.0</td>\n",
              "      <td>no</td>\n",
              "    </tr>\n",
              "    <tr>\n",
              "      <th>1</th>\n",
              "      <td>57</td>\n",
              "      <td>services</td>\n",
              "      <td>married</td>\n",
              "      <td>high.school</td>\n",
              "      <td>unknown</td>\n",
              "      <td>no</td>\n",
              "      <td>no</td>\n",
              "      <td>telephone</td>\n",
              "      <td>may</td>\n",
              "      <td>mon</td>\n",
              "      <td>149</td>\n",
              "      <td>1</td>\n",
              "      <td>999</td>\n",
              "      <td>0</td>\n",
              "      <td>nonexistent</td>\n",
              "      <td>1.1</td>\n",
              "      <td>93.994</td>\n",
              "      <td>-36.4</td>\n",
              "      <td>4.857</td>\n",
              "      <td>5191.0</td>\n",
              "      <td>no</td>\n",
              "    </tr>\n",
              "    <tr>\n",
              "      <th>2</th>\n",
              "      <td>37</td>\n",
              "      <td>services</td>\n",
              "      <td>married</td>\n",
              "      <td>high.school</td>\n",
              "      <td>no</td>\n",
              "      <td>yes</td>\n",
              "      <td>no</td>\n",
              "      <td>telephone</td>\n",
              "      <td>may</td>\n",
              "      <td>mon</td>\n",
              "      <td>226</td>\n",
              "      <td>1</td>\n",
              "      <td>999</td>\n",
              "      <td>0</td>\n",
              "      <td>nonexistent</td>\n",
              "      <td>1.1</td>\n",
              "      <td>93.994</td>\n",
              "      <td>-36.4</td>\n",
              "      <td>4.857</td>\n",
              "      <td>5191.0</td>\n",
              "      <td>no</td>\n",
              "    </tr>\n",
              "    <tr>\n",
              "      <th>3</th>\n",
              "      <td>40</td>\n",
              "      <td>admin.</td>\n",
              "      <td>married</td>\n",
              "      <td>basic.6y</td>\n",
              "      <td>no</td>\n",
              "      <td>no</td>\n",
              "      <td>no</td>\n",
              "      <td>telephone</td>\n",
              "      <td>may</td>\n",
              "      <td>mon</td>\n",
              "      <td>151</td>\n",
              "      <td>1</td>\n",
              "      <td>999</td>\n",
              "      <td>0</td>\n",
              "      <td>nonexistent</td>\n",
              "      <td>1.1</td>\n",
              "      <td>93.994</td>\n",
              "      <td>-36.4</td>\n",
              "      <td>4.857</td>\n",
              "      <td>5191.0</td>\n",
              "      <td>no</td>\n",
              "    </tr>\n",
              "    <tr>\n",
              "      <th>4</th>\n",
              "      <td>56</td>\n",
              "      <td>services</td>\n",
              "      <td>married</td>\n",
              "      <td>high.school</td>\n",
              "      <td>no</td>\n",
              "      <td>no</td>\n",
              "      <td>yes</td>\n",
              "      <td>telephone</td>\n",
              "      <td>may</td>\n",
              "      <td>mon</td>\n",
              "      <td>307</td>\n",
              "      <td>1</td>\n",
              "      <td>999</td>\n",
              "      <td>0</td>\n",
              "      <td>nonexistent</td>\n",
              "      <td>1.1</td>\n",
              "      <td>93.994</td>\n",
              "      <td>-36.4</td>\n",
              "      <td>4.857</td>\n",
              "      <td>5191.0</td>\n",
              "      <td>no</td>\n",
              "    </tr>\n",
              "    <tr>\n",
              "      <th>...</th>\n",
              "      <td>...</td>\n",
              "      <td>...</td>\n",
              "      <td>...</td>\n",
              "      <td>...</td>\n",
              "      <td>...</td>\n",
              "      <td>...</td>\n",
              "      <td>...</td>\n",
              "      <td>...</td>\n",
              "      <td>...</td>\n",
              "      <td>...</td>\n",
              "      <td>...</td>\n",
              "      <td>...</td>\n",
              "      <td>...</td>\n",
              "      <td>...</td>\n",
              "      <td>...</td>\n",
              "      <td>...</td>\n",
              "      <td>...</td>\n",
              "      <td>...</td>\n",
              "      <td>...</td>\n",
              "      <td>...</td>\n",
              "      <td>...</td>\n",
              "    </tr>\n",
              "    <tr>\n",
              "      <th>41183</th>\n",
              "      <td>73</td>\n",
              "      <td>retired</td>\n",
              "      <td>married</td>\n",
              "      <td>professional.course</td>\n",
              "      <td>no</td>\n",
              "      <td>yes</td>\n",
              "      <td>no</td>\n",
              "      <td>cellular</td>\n",
              "      <td>nov</td>\n",
              "      <td>fri</td>\n",
              "      <td>334</td>\n",
              "      <td>1</td>\n",
              "      <td>999</td>\n",
              "      <td>0</td>\n",
              "      <td>nonexistent</td>\n",
              "      <td>-1.1</td>\n",
              "      <td>94.767</td>\n",
              "      <td>-50.8</td>\n",
              "      <td>1.028</td>\n",
              "      <td>4963.6</td>\n",
              "      <td>yes</td>\n",
              "    </tr>\n",
              "    <tr>\n",
              "      <th>41184</th>\n",
              "      <td>46</td>\n",
              "      <td>blue-collar</td>\n",
              "      <td>married</td>\n",
              "      <td>professional.course</td>\n",
              "      <td>no</td>\n",
              "      <td>no</td>\n",
              "      <td>no</td>\n",
              "      <td>cellular</td>\n",
              "      <td>nov</td>\n",
              "      <td>fri</td>\n",
              "      <td>383</td>\n",
              "      <td>1</td>\n",
              "      <td>999</td>\n",
              "      <td>0</td>\n",
              "      <td>nonexistent</td>\n",
              "      <td>-1.1</td>\n",
              "      <td>94.767</td>\n",
              "      <td>-50.8</td>\n",
              "      <td>1.028</td>\n",
              "      <td>4963.6</td>\n",
              "      <td>no</td>\n",
              "    </tr>\n",
              "    <tr>\n",
              "      <th>41185</th>\n",
              "      <td>56</td>\n",
              "      <td>retired</td>\n",
              "      <td>married</td>\n",
              "      <td>university.degree</td>\n",
              "      <td>no</td>\n",
              "      <td>yes</td>\n",
              "      <td>no</td>\n",
              "      <td>cellular</td>\n",
              "      <td>nov</td>\n",
              "      <td>fri</td>\n",
              "      <td>189</td>\n",
              "      <td>2</td>\n",
              "      <td>999</td>\n",
              "      <td>0</td>\n",
              "      <td>nonexistent</td>\n",
              "      <td>-1.1</td>\n",
              "      <td>94.767</td>\n",
              "      <td>-50.8</td>\n",
              "      <td>1.028</td>\n",
              "      <td>4963.6</td>\n",
              "      <td>no</td>\n",
              "    </tr>\n",
              "    <tr>\n",
              "      <th>41186</th>\n",
              "      <td>44</td>\n",
              "      <td>technician</td>\n",
              "      <td>married</td>\n",
              "      <td>professional.course</td>\n",
              "      <td>no</td>\n",
              "      <td>no</td>\n",
              "      <td>no</td>\n",
              "      <td>cellular</td>\n",
              "      <td>nov</td>\n",
              "      <td>fri</td>\n",
              "      <td>442</td>\n",
              "      <td>1</td>\n",
              "      <td>999</td>\n",
              "      <td>0</td>\n",
              "      <td>nonexistent</td>\n",
              "      <td>-1.1</td>\n",
              "      <td>94.767</td>\n",
              "      <td>-50.8</td>\n",
              "      <td>1.028</td>\n",
              "      <td>4963.6</td>\n",
              "      <td>yes</td>\n",
              "    </tr>\n",
              "    <tr>\n",
              "      <th>41187</th>\n",
              "      <td>74</td>\n",
              "      <td>retired</td>\n",
              "      <td>married</td>\n",
              "      <td>professional.course</td>\n",
              "      <td>no</td>\n",
              "      <td>yes</td>\n",
              "      <td>no</td>\n",
              "      <td>cellular</td>\n",
              "      <td>nov</td>\n",
              "      <td>fri</td>\n",
              "      <td>239</td>\n",
              "      <td>3</td>\n",
              "      <td>999</td>\n",
              "      <td>1</td>\n",
              "      <td>failure</td>\n",
              "      <td>-1.1</td>\n",
              "      <td>94.767</td>\n",
              "      <td>-50.8</td>\n",
              "      <td>1.028</td>\n",
              "      <td>4963.6</td>\n",
              "      <td>no</td>\n",
              "    </tr>\n",
              "  </tbody>\n",
              "</table>\n",
              "<p>41188 rows × 21 columns</p>\n",
              "</div>"
            ],
            "text/plain": [
              "       age          job  marital            education  default housing loan  \\\n",
              "0       56    housemaid  married             basic.4y       no      no   no   \n",
              "1       57     services  married          high.school  unknown      no   no   \n",
              "2       37     services  married          high.school       no     yes   no   \n",
              "3       40       admin.  married             basic.6y       no      no   no   \n",
              "4       56     services  married          high.school       no      no  yes   \n",
              "...    ...          ...      ...                  ...      ...     ...  ...   \n",
              "41183   73      retired  married  professional.course       no     yes   no   \n",
              "41184   46  blue-collar  married  professional.course       no      no   no   \n",
              "41185   56      retired  married    university.degree       no     yes   no   \n",
              "41186   44   technician  married  professional.course       no      no   no   \n",
              "41187   74      retired  married  professional.course       no     yes   no   \n",
              "\n",
              "         contact month day_of_week  duration  campaign  pdays  previous  \\\n",
              "0      telephone   may         mon       261         1    999         0   \n",
              "1      telephone   may         mon       149         1    999         0   \n",
              "2      telephone   may         mon       226         1    999         0   \n",
              "3      telephone   may         mon       151         1    999         0   \n",
              "4      telephone   may         mon       307         1    999         0   \n",
              "...          ...   ...         ...       ...       ...    ...       ...   \n",
              "41183   cellular   nov         fri       334         1    999         0   \n",
              "41184   cellular   nov         fri       383         1    999         0   \n",
              "41185   cellular   nov         fri       189         2    999         0   \n",
              "41186   cellular   nov         fri       442         1    999         0   \n",
              "41187   cellular   nov         fri       239         3    999         1   \n",
              "\n",
              "          poutcome  emp.var.rate  cons.price.idx  cons.conf.idx  euribor3m  \\\n",
              "0      nonexistent           1.1          93.994          -36.4      4.857   \n",
              "1      nonexistent           1.1          93.994          -36.4      4.857   \n",
              "2      nonexistent           1.1          93.994          -36.4      4.857   \n",
              "3      nonexistent           1.1          93.994          -36.4      4.857   \n",
              "4      nonexistent           1.1          93.994          -36.4      4.857   \n",
              "...            ...           ...             ...            ...        ...   \n",
              "41183  nonexistent          -1.1          94.767          -50.8      1.028   \n",
              "41184  nonexistent          -1.1          94.767          -50.8      1.028   \n",
              "41185  nonexistent          -1.1          94.767          -50.8      1.028   \n",
              "41186  nonexistent          -1.1          94.767          -50.8      1.028   \n",
              "41187      failure          -1.1          94.767          -50.8      1.028   \n",
              "\n",
              "       nr.employed    y  \n",
              "0           5191.0   no  \n",
              "1           5191.0   no  \n",
              "2           5191.0   no  \n",
              "3           5191.0   no  \n",
              "4           5191.0   no  \n",
              "...            ...  ...  \n",
              "41183       4963.6  yes  \n",
              "41184       4963.6   no  \n",
              "41185       4963.6   no  \n",
              "41186       4963.6  yes  \n",
              "41187       4963.6   no  \n",
              "\n",
              "[41188 rows x 21 columns]"
            ]
          },
          "metadata": {
            "tags": []
          },
          "execution_count": 4
        }
      ]
    },
    {
      "cell_type": "code",
      "metadata": {
        "id": "dc60b659-4d7b-4494-af6e-a7b4c84e89a3",
        "outputId": "08b88856-aa8a-4b30-ff89-6a3b76278082"
      },
      "source": [
        "# Descripción de las variables numéricas\n",
        "df.describe()"
      ],
      "id": "dc60b659-4d7b-4494-af6e-a7b4c84e89a3",
      "execution_count": null,
      "outputs": [
        {
          "output_type": "execute_result",
          "data": {
            "text/html": [
              "<div>\n",
              "<style scoped>\n",
              "    .dataframe tbody tr th:only-of-type {\n",
              "        vertical-align: middle;\n",
              "    }\n",
              "\n",
              "    .dataframe tbody tr th {\n",
              "        vertical-align: top;\n",
              "    }\n",
              "\n",
              "    .dataframe thead th {\n",
              "        text-align: right;\n",
              "    }\n",
              "</style>\n",
              "<table border=\"1\" class=\"dataframe\">\n",
              "  <thead>\n",
              "    <tr style=\"text-align: right;\">\n",
              "      <th></th>\n",
              "      <th>age</th>\n",
              "      <th>duration</th>\n",
              "      <th>campaign</th>\n",
              "      <th>pdays</th>\n",
              "      <th>previous</th>\n",
              "      <th>emp.var.rate</th>\n",
              "      <th>cons.price.idx</th>\n",
              "      <th>cons.conf.idx</th>\n",
              "      <th>euribor3m</th>\n",
              "      <th>nr.employed</th>\n",
              "    </tr>\n",
              "  </thead>\n",
              "  <tbody>\n",
              "    <tr>\n",
              "      <th>count</th>\n",
              "      <td>41188.00000</td>\n",
              "      <td>41188.000000</td>\n",
              "      <td>41188.000000</td>\n",
              "      <td>41188.000000</td>\n",
              "      <td>41188.000000</td>\n",
              "      <td>41188.000000</td>\n",
              "      <td>41188.000000</td>\n",
              "      <td>41188.000000</td>\n",
              "      <td>41188.000000</td>\n",
              "      <td>41188.000000</td>\n",
              "    </tr>\n",
              "    <tr>\n",
              "      <th>mean</th>\n",
              "      <td>40.02406</td>\n",
              "      <td>258.285010</td>\n",
              "      <td>2.567593</td>\n",
              "      <td>962.475454</td>\n",
              "      <td>0.172963</td>\n",
              "      <td>0.081886</td>\n",
              "      <td>93.575664</td>\n",
              "      <td>-40.502600</td>\n",
              "      <td>3.621291</td>\n",
              "      <td>5167.035911</td>\n",
              "    </tr>\n",
              "    <tr>\n",
              "      <th>std</th>\n",
              "      <td>10.42125</td>\n",
              "      <td>259.279249</td>\n",
              "      <td>2.770014</td>\n",
              "      <td>186.910907</td>\n",
              "      <td>0.494901</td>\n",
              "      <td>1.570960</td>\n",
              "      <td>0.578840</td>\n",
              "      <td>4.628198</td>\n",
              "      <td>1.734447</td>\n",
              "      <td>72.251528</td>\n",
              "    </tr>\n",
              "    <tr>\n",
              "      <th>min</th>\n",
              "      <td>17.00000</td>\n",
              "      <td>0.000000</td>\n",
              "      <td>1.000000</td>\n",
              "      <td>0.000000</td>\n",
              "      <td>0.000000</td>\n",
              "      <td>-3.400000</td>\n",
              "      <td>92.201000</td>\n",
              "      <td>-50.800000</td>\n",
              "      <td>0.634000</td>\n",
              "      <td>4963.600000</td>\n",
              "    </tr>\n",
              "    <tr>\n",
              "      <th>25%</th>\n",
              "      <td>32.00000</td>\n",
              "      <td>102.000000</td>\n",
              "      <td>1.000000</td>\n",
              "      <td>999.000000</td>\n",
              "      <td>0.000000</td>\n",
              "      <td>-1.800000</td>\n",
              "      <td>93.075000</td>\n",
              "      <td>-42.700000</td>\n",
              "      <td>1.344000</td>\n",
              "      <td>5099.100000</td>\n",
              "    </tr>\n",
              "    <tr>\n",
              "      <th>50%</th>\n",
              "      <td>38.00000</td>\n",
              "      <td>180.000000</td>\n",
              "      <td>2.000000</td>\n",
              "      <td>999.000000</td>\n",
              "      <td>0.000000</td>\n",
              "      <td>1.100000</td>\n",
              "      <td>93.749000</td>\n",
              "      <td>-41.800000</td>\n",
              "      <td>4.857000</td>\n",
              "      <td>5191.000000</td>\n",
              "    </tr>\n",
              "    <tr>\n",
              "      <th>75%</th>\n",
              "      <td>47.00000</td>\n",
              "      <td>319.000000</td>\n",
              "      <td>3.000000</td>\n",
              "      <td>999.000000</td>\n",
              "      <td>0.000000</td>\n",
              "      <td>1.400000</td>\n",
              "      <td>93.994000</td>\n",
              "      <td>-36.400000</td>\n",
              "      <td>4.961000</td>\n",
              "      <td>5228.100000</td>\n",
              "    </tr>\n",
              "    <tr>\n",
              "      <th>max</th>\n",
              "      <td>98.00000</td>\n",
              "      <td>4918.000000</td>\n",
              "      <td>56.000000</td>\n",
              "      <td>999.000000</td>\n",
              "      <td>7.000000</td>\n",
              "      <td>1.400000</td>\n",
              "      <td>94.767000</td>\n",
              "      <td>-26.900000</td>\n",
              "      <td>5.045000</td>\n",
              "      <td>5228.100000</td>\n",
              "    </tr>\n",
              "  </tbody>\n",
              "</table>\n",
              "</div>"
            ],
            "text/plain": [
              "               age      duration      campaign         pdays      previous  \\\n",
              "count  41188.00000  41188.000000  41188.000000  41188.000000  41188.000000   \n",
              "mean      40.02406    258.285010      2.567593    962.475454      0.172963   \n",
              "std       10.42125    259.279249      2.770014    186.910907      0.494901   \n",
              "min       17.00000      0.000000      1.000000      0.000000      0.000000   \n",
              "25%       32.00000    102.000000      1.000000    999.000000      0.000000   \n",
              "50%       38.00000    180.000000      2.000000    999.000000      0.000000   \n",
              "75%       47.00000    319.000000      3.000000    999.000000      0.000000   \n",
              "max       98.00000   4918.000000     56.000000    999.000000      7.000000   \n",
              "\n",
              "       emp.var.rate  cons.price.idx  cons.conf.idx     euribor3m   nr.employed  \n",
              "count  41188.000000    41188.000000   41188.000000  41188.000000  41188.000000  \n",
              "mean       0.081886       93.575664     -40.502600      3.621291   5167.035911  \n",
              "std        1.570960        0.578840       4.628198      1.734447     72.251528  \n",
              "min       -3.400000       92.201000     -50.800000      0.634000   4963.600000  \n",
              "25%       -1.800000       93.075000     -42.700000      1.344000   5099.100000  \n",
              "50%        1.100000       93.749000     -41.800000      4.857000   5191.000000  \n",
              "75%        1.400000       93.994000     -36.400000      4.961000   5228.100000  \n",
              "max        1.400000       94.767000     -26.900000      5.045000   5228.100000  "
            ]
          },
          "metadata": {
            "tags": []
          },
          "execution_count": 5
        }
      ]
    },
    {
      "cell_type": "code",
      "metadata": {
        "id": "e58ef83e-a6bc-4bc4-be1a-73b5cabf2dc0",
        "outputId": "1f470afe-4588-4e1a-fbbf-2b7111e6c6f9"
      },
      "source": [
        "# Ejemplo de distribución de educación\n",
        "df.education.value_counts()"
      ],
      "id": "e58ef83e-a6bc-4bc4-be1a-73b5cabf2dc0",
      "execution_count": null,
      "outputs": [
        {
          "output_type": "execute_result",
          "data": {
            "text/plain": [
              "university.degree      12168\n",
              "high.school             9515\n",
              "basic.9y                6045\n",
              "professional.course     5243\n",
              "basic.4y                4176\n",
              "basic.6y                2292\n",
              "unknown                 1731\n",
              "illiterate                18\n",
              "Name: education, dtype: int64"
            ]
          },
          "metadata": {
            "tags": []
          },
          "execution_count": 6
        }
      ]
    },
    {
      "cell_type": "code",
      "metadata": {
        "id": "7bf19da0-4484-417f-9afa-5a4e7bb2f8c2",
        "outputId": "c129d3ee-f0eb-42d2-f846-2ee6ea044d31"
      },
      "source": [
        "# Ejemplo de gráfico que permite analizar la distribución de la edad con respeto al nivel de educación\n",
        "ax = sns.catplot(x=\"education\", y=\"age\", kind=\"box\", data=df, height=5, aspect=2.5)\n",
        "ax.fig.suptitle('Distribución de edad por nivel de educación');"
      ],
      "id": "7bf19da0-4484-417f-9afa-5a4e7bb2f8c2",
      "execution_count": null,
      "outputs": [
        {
          "output_type": "display_data",
          "data": {
            "image/png": "[encoded data removed]",
            "text/plain": [
              "<Figure size 900x360 with 1 Axes>"
            ]
          },
          "metadata": {
            "tags": [],
            "needs_background": "light"
          }
        }
      ]
    },
    {
      "cell_type": "code",
      "metadata": {
        "id": "b7911592-cc52-4ba9-9053-2e3a356d5f70"
      },
      "source": [
        ""
      ],
      "id": "b7911592-cc52-4ba9-9053-2e3a356d5f70",
      "execution_count": null,
      "outputs": []
    },
    {
      "cell_type": "code",
      "metadata": {
        "id": "ada6c27c-0b59-4f7d-87f0-a4b29f1b1aaf"
      },
      "source": [
        ""
      ],
      "id": "ada6c27c-0b59-4f7d-87f0-a4b29f1b1aaf",
      "execution_count": null,
      "outputs": []
    },
    {
      "cell_type": "code",
      "metadata": {
        "id": "b7595de3-100f-4936-bff2-abb31f41961f"
      },
      "source": [
        ""
      ],
      "id": "b7595de3-100f-4936-bff2-abb31f41961f",
      "execution_count": null,
      "outputs": []
    }
  ]
}