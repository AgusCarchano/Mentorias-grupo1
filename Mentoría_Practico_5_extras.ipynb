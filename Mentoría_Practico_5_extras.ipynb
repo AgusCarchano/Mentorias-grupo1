{
  "nbformat": 4,
  "nbformat_minor": 5,
  "metadata": {
    "kernelspec": {
      "display_name": "Python 3",
      "language": "python",
      "name": "python3"
    },
    "language_info": {
      "codemirror_mode": {
        "name": "ipython",
        "version": 3
      },
      "file_extension": ".py",
      "mimetype": "text/x-python",
      "name": "python",
      "nbconvert_exporter": "python",
      "pygments_lexer": "ipython3",
      "version": "3.9.5"
    },
    "toc-autonumbering": true,
    "colab": {
      "name": "Mentoría_Practico_05_extras.ipynb",
      "provenance": []
    }
  },
  "cells": [
    {
      "cell_type": "code",
      "metadata": {
        "id": "d6e3a8e9-d57f-43bc-8574-cb8b8640cf95"
      },
      "source": [
        "import numpy as np\n",
        "import pandas as pd\n",
        "import matplotlib.pyplot as plt\n",
        "import seaborn as sns\n",
        "\n",
        "from sklearn.cluster import KMeans, DBSCAN, AgglomerativeClustering"
      ],
      "id": "d6e3a8e9-d57f-43bc-8574-cb8b8640cf95",
      "execution_count": 1,
      "outputs": []
    },
    {
      "cell_type": "code",
      "metadata": {
        "id": "CANf8A6ULOg3"
      },
      "source": [
        "from sklearn.impute import SimpleImputer\n",
        "from sklearn.preprocessing import OneHotEncoder, StandardScaler, Normalizer, OrdinalEncoder, RobustScaler\n",
        "from sklearn.pipeline import Pipeline\n",
        "from sklearn.compose import ColumnTransformer"
      ],
      "id": "CANf8A6ULOg3",
      "execution_count": 2,
      "outputs": []
    },
    {
      "cell_type": "code",
      "metadata": {
        "id": "66f58817-99a9-420e-ba98-8515f8d7b153"
      },
      "source": [
        "# Opción para ver todas las columnas del dataset en el notebook\n",
        "pd.set_option('display.max_columns', 50)"
      ],
      "id": "66f58817-99a9-420e-ba98-8515f8d7b153",
      "execution_count": 3,
      "outputs": []
    },
    {
      "cell_type": "markdown",
      "metadata": {
        "id": "3d777221-43e0-4eec-86f9-ecc19f327675"
      },
      "source": [
        "# Práctico 05: Aprendizaje No Supervisado"
      ],
      "id": "3d777221-43e0-4eec-86f9-ecc19f327675"
    },
    {
      "cell_type": "markdown",
      "metadata": {
        "id": "0Inr1LbvMXtL"
      },
      "source": [
        "Algunos links que voy viendo: \n",
        "- https://medium.com/analytics-vidhya/clustering-on-mixed-data-types-in-python-7c22b3898086 y la notebook que compartió Santi\n",
        "- https://bpostance.github.io/posts/clustering-mixed-data/. Muy bueno, llegué hasta el 3.2.2.\n",
        "- un paper teorico: https://arxiv.org/pdf/1811.04364.pdf#:~:text=Clustering%20is%20often%20applied%20to,feature%20values%20of%20these%20datasets.\n",
        "- No vi aun: https://towardsdatascience.com/clustering-on-numerical-and-categorical-features-6e0ebcf1cbad"
      ],
      "id": "0Inr1LbvMXtL"
    },
    {
      "cell_type": "markdown",
      "metadata": {
        "id": "5e4a8a37-b485-472c-a083-d12e6535641b"
      },
      "source": [
        "Realizaremos estudios de segmentación de clientes. Para ello utilizaremos varios métodos de clustering como K-means y DBSCAN ¿Podemos agrupar a clientes propensos a adquirir un plazo fijo? ¿Bajo qué características pueden agruparse esos clientes?"
      ],
      "id": "5e4a8a37-b485-472c-a083-d12e6535641b"
    },
    {
      "cell_type": "markdown",
      "metadata": {
        "id": "6aebe6c2-201c-4a50-9a23-5ac2b45e7e65"
      },
      "source": [
        "## Práctico 05: Aprendizaje Supervisado - Resolución"
      ],
      "id": "6aebe6c2-201c-4a50-9a23-5ac2b45e7e65"
    },
    {
      "cell_type": "code",
      "metadata": {
        "id": "bf3b1566-2bb9-446e-8f3d-bacbeca84539"
      },
      "source": [
        "# Leemos el dataset original\n",
        "df = pd.read_csv(\"https://raw.githubusercontent.com/AgusCarchano/Mentorias-grupo1/master/data/bank-additional-full.csv\", sep=\";\")"
      ],
      "id": "bf3b1566-2bb9-446e-8f3d-bacbeca84539",
      "execution_count": 4,
      "outputs": []
    },
    {
      "cell_type": "code",
      "metadata": {
        "colab": {
          "base_uri": "https://localhost:8080/",
          "height": 130
        },
        "id": "xjf7BP1v9xCv",
        "outputId": "9bd52843-1ca5-4ecf-a5a0-796d854667b7"
      },
      "source": [
        "df.head(2)"
      ],
      "id": "xjf7BP1v9xCv",
      "execution_count": 5,
      "outputs": [
        {
          "output_type": "execute_result",
          "data": {
            "text/html": [
              "<div>\n",
              "<style scoped>\n",
              "    .dataframe tbody tr th:only-of-type {\n",
              "        vertical-align: middle;\n",
              "    }\n",
              "\n",
              "    .dataframe tbody tr th {\n",
              "        vertical-align: top;\n",
              "    }\n",
              "\n",
              "    .dataframe thead th {\n",
              "        text-align: right;\n",
              "    }\n",
              "</style>\n",
              "<table border=\"1\" class=\"dataframe\">\n",
              "  <thead>\n",
              "    <tr style=\"text-align: right;\">\n",
              "      <th></th>\n",
              "      <th>age</th>\n",
              "      <th>job</th>\n",
              "      <th>marital</th>\n",
              "      <th>education</th>\n",
              "      <th>default</th>\n",
              "      <th>housing</th>\n",
              "      <th>loan</th>\n",
              "      <th>contact</th>\n",
              "      <th>month</th>\n",
              "      <th>day_of_week</th>\n",
              "      <th>duration</th>\n",
              "      <th>campaign</th>\n",
              "      <th>pdays</th>\n",
              "      <th>previous</th>\n",
              "      <th>poutcome</th>\n",
              "      <th>emp.var.rate</th>\n",
              "      <th>cons.price.idx</th>\n",
              "      <th>cons.conf.idx</th>\n",
              "      <th>euribor3m</th>\n",
              "      <th>nr.employed</th>\n",
              "      <th>y</th>\n",
              "    </tr>\n",
              "  </thead>\n",
              "  <tbody>\n",
              "    <tr>\n",
              "      <th>0</th>\n",
              "      <td>56</td>\n",
              "      <td>housemaid</td>\n",
              "      <td>married</td>\n",
              "      <td>basic.4y</td>\n",
              "      <td>no</td>\n",
              "      <td>no</td>\n",
              "      <td>no</td>\n",
              "      <td>telephone</td>\n",
              "      <td>may</td>\n",
              "      <td>mon</td>\n",
              "      <td>261</td>\n",
              "      <td>1</td>\n",
              "      <td>999</td>\n",
              "      <td>0</td>\n",
              "      <td>nonexistent</td>\n",
              "      <td>1.1</td>\n",
              "      <td>93.994</td>\n",
              "      <td>-36.4</td>\n",
              "      <td>4.857</td>\n",
              "      <td>5191.0</td>\n",
              "      <td>no</td>\n",
              "    </tr>\n",
              "    <tr>\n",
              "      <th>1</th>\n",
              "      <td>57</td>\n",
              "      <td>services</td>\n",
              "      <td>married</td>\n",
              "      <td>high.school</td>\n",
              "      <td>unknown</td>\n",
              "      <td>no</td>\n",
              "      <td>no</td>\n",
              "      <td>telephone</td>\n",
              "      <td>may</td>\n",
              "      <td>mon</td>\n",
              "      <td>149</td>\n",
              "      <td>1</td>\n",
              "      <td>999</td>\n",
              "      <td>0</td>\n",
              "      <td>nonexistent</td>\n",
              "      <td>1.1</td>\n",
              "      <td>93.994</td>\n",
              "      <td>-36.4</td>\n",
              "      <td>4.857</td>\n",
              "      <td>5191.0</td>\n",
              "      <td>no</td>\n",
              "    </tr>\n",
              "  </tbody>\n",
              "</table>\n",
              "</div>"
            ],
            "text/plain": [
              "   age        job  marital    education  default housing loan    contact  \\\n",
              "0   56  housemaid  married     basic.4y       no      no   no  telephone   \n",
              "1   57   services  married  high.school  unknown      no   no  telephone   \n",
              "\n",
              "  month day_of_week  duration  campaign  pdays  previous     poutcome  \\\n",
              "0   may         mon       261         1    999         0  nonexistent   \n",
              "1   may         mon       149         1    999         0  nonexistent   \n",
              "\n",
              "   emp.var.rate  cons.price.idx  cons.conf.idx  euribor3m  nr.employed   y  \n",
              "0           1.1          93.994          -36.4      4.857       5191.0  no  \n",
              "1           1.1          93.994          -36.4      4.857       5191.0  no  "
            ]
          },
          "metadata": {},
          "execution_count": 5
        }
      ]
    },
    {
      "cell_type": "code",
      "metadata": {
        "id": "iqzhtdS2ueeQ"
      },
      "source": [
        "# Leer el data set que obtuvimos a partir del análisis y curación de los datos que realizamos en el Práctico 2\n",
        "df_pp=pd.read_csv(\"/content/bank_preprocessed_df.csv\", sep=\",\")\n",
        "#desde el repo\n",
        "### df_pp=pd.read_csv(\"https://github.com/AgusCarchano/Mentorias-grupo1/blob/master/data/bank_preprocessed_df.csv\", sep=\",\")"
      ],
      "id": "iqzhtdS2ueeQ",
      "execution_count": 7,
      "outputs": []
    },
    {
      "cell_type": "code",
      "metadata": {
        "colab": {
          "base_uri": "https://localhost:8080/",
          "height": 146
        },
        "id": "OehneNgrKdJx",
        "outputId": "6ece15a2-9d04-4bfd-e1e5-d19f96894d13"
      },
      "source": [
        "df_pp.head(2)"
      ],
      "id": "OehneNgrKdJx",
      "execution_count": 8,
      "outputs": [
        {
          "output_type": "execute_result",
          "data": {
            "text/html": [
              "<div>\n",
              "<style scoped>\n",
              "    .dataframe tbody tr th:only-of-type {\n",
              "        vertical-align: middle;\n",
              "    }\n",
              "\n",
              "    .dataframe tbody tr th {\n",
              "        vertical-align: top;\n",
              "    }\n",
              "\n",
              "    .dataframe thead th {\n",
              "        text-align: right;\n",
              "    }\n",
              "</style>\n",
              "<table border=\"1\" class=\"dataframe\">\n",
              "  <thead>\n",
              "    <tr style=\"text-align: right;\">\n",
              "      <th></th>\n",
              "      <th>id</th>\n",
              "      <th>age</th>\n",
              "      <th>job</th>\n",
              "      <th>marital</th>\n",
              "      <th>education</th>\n",
              "      <th>housing</th>\n",
              "      <th>loan</th>\n",
              "      <th>contact</th>\n",
              "      <th>campaign</th>\n",
              "      <th>previous</th>\n",
              "      <th>poutcome</th>\n",
              "      <th>cons.conf.idx</th>\n",
              "      <th>euribor3m</th>\n",
              "      <th>y</th>\n",
              "      <th>job_groups</th>\n",
              "      <th>education_groups</th>\n",
              "    </tr>\n",
              "  </thead>\n",
              "  <tbody>\n",
              "    <tr>\n",
              "      <th>0</th>\n",
              "      <td>0</td>\n",
              "      <td>56</td>\n",
              "      <td>housemaid</td>\n",
              "      <td>married</td>\n",
              "      <td>basic.4y</td>\n",
              "      <td>0</td>\n",
              "      <td>0</td>\n",
              "      <td>telephone</td>\n",
              "      <td>1</td>\n",
              "      <td>0</td>\n",
              "      <td>nonexistent</td>\n",
              "      <td>-36.4</td>\n",
              "      <td>4.857</td>\n",
              "      <td>0</td>\n",
              "      <td>Sin ingreso Propio</td>\n",
              "      <td>Basic or less</td>\n",
              "    </tr>\n",
              "    <tr>\n",
              "      <th>1</th>\n",
              "      <td>1</td>\n",
              "      <td>57</td>\n",
              "      <td>services</td>\n",
              "      <td>married</td>\n",
              "      <td>high.school</td>\n",
              "      <td>0</td>\n",
              "      <td>0</td>\n",
              "      <td>telephone</td>\n",
              "      <td>1</td>\n",
              "      <td>0</td>\n",
              "      <td>nonexistent</td>\n",
              "      <td>-36.4</td>\n",
              "      <td>4.857</td>\n",
              "      <td>0</td>\n",
              "      <td>Servicios</td>\n",
              "      <td>High School</td>\n",
              "    </tr>\n",
              "  </tbody>\n",
              "</table>\n",
              "</div>"
            ],
            "text/plain": [
              "   id  age        job  marital    education  housing  loan    contact  \\\n",
              "0   0   56  housemaid  married     basic.4y        0     0  telephone   \n",
              "1   1   57   services  married  high.school        0     0  telephone   \n",
              "\n",
              "   campaign  previous     poutcome  cons.conf.idx  euribor3m  y  \\\n",
              "0         1         0  nonexistent          -36.4      4.857  0   \n",
              "1         1         0  nonexistent          -36.4      4.857  0   \n",
              "\n",
              "           job_groups education_groups  \n",
              "0  Sin ingreso Propio    Basic or less  \n",
              "1           Servicios      High School  "
            ]
          },
          "metadata": {},
          "execution_count": 8
        }
      ]
    },
    {
      "cell_type": "markdown",
      "metadata": {
        "id": "5de799ed-8976-4434-8553-33224957c10f"
      },
      "source": [
        "### Exploración de variables interesantes"
      ],
      "id": "5de799ed-8976-4434-8553-33224957c10f"
    },
    {
      "cell_type": "markdown",
      "metadata": {
        "id": "iX15gsVo_XiN"
      },
      "source": [
        "Las variables más relevantes para identificar clusters de clientes deberían ser aquellas que representen características personales de los clientes, las cuales puedan ser asociadas luego a una mayor o menor probabilidad de contratar un Plazo Fijo.\n",
        "\n",
        "En tal sentido, podríamos enfocar el análisis en las siguientes:\n",
        "- \"job\"\n",
        "- \"marital\"\n",
        "- \"education\"\n",
        "- \"default\"\n",
        "- \"housing\"\n",
        "- \"loan\"\n",
        "\n",
        "O aquellas referidas a la manera y cantidad de veces que fue contactado por campañas de marketing:\n",
        "- \"campaing\"\n",
        "- \"previous\"\n",
        "- \"poutcome\"\n"
      ],
      "id": "iX15gsVo_XiN"
    },
    {
      "cell_type": "markdown",
      "metadata": {
        "id": "b5b89edf-2da1-4fcb-a03a-7c5d200b4944"
      },
      "source": [
        "### Preprocesamiento"
      ],
      "id": "b5b89edf-2da1-4fcb-a03a-7c5d200b4944"
    },
    {
      "cell_type": "markdown",
      "metadata": {
        "id": "uIw15_R0ENMk"
      },
      "source": [
        "En los análisis preliminares también advertimos que la variable Campaing presenta outliers, los cuales podrían afectar significativamente el análisis de clusters que aquí se procura realizar. Por tanto, los mismo serán eliminados tomando los mismos criterios que se tomaron anteriormente."
      ],
      "id": "uIw15_R0ENMk"
    },
    {
      "cell_type": "markdown",
      "metadata": {
        "id": "SrGUgiZJCvJB"
      },
      "source": [
        "Debido a los análisis presentados anteriormente, se tomó la definición de dejar de lado las siguientes variables: \n",
        "- Duration. Dado que solo se conoce luego de que finalice la llamada al cliente, y por ende está muy asociada a la decisión de contratar o no el PF.\n",
        "- Pdays. Debido a inconsistencia y falta de datos.\n",
        "- Default. Debido al alto porcentaje de datos faltantes que presenta."
      ],
      "id": "SrGUgiZJCvJB"
    },
    {
      "cell_type": "code",
      "metadata": {
        "id": "kfEKpfAgEhY2"
      },
      "source": [
        "#Eliminamos los outliers de Campaign:\n",
        "q975_campaign=df.campaign.quantile(0.975)\n",
        "df.drop(df[df.campaign >= q975_campaign].index, inplace = True)"
      ],
      "id": "kfEKpfAgEhY2",
      "execution_count": 9,
      "outputs": []
    },
    {
      "cell_type": "markdown",
      "metadata": {
        "id": "507c7144-1ac1-498b-8a86-6addf3815e65"
      },
      "source": [
        "Las variables a emplear para el análisis de clúster necesitan cumplir con ciertas características, por lo cual en algunos casos será necesario hacer un pre-procesamiento.\n",
        "\n",
        "Dado que en el Práctico 2 ya habíamos realizado un análisis y curación de los datos, partiremos del conjunto de datos que obtuvimos como resultado en tal ocasión para realizar los análisis de clusters. Dado que también habíamos realizado la eliminación de outliers de la variable campaign, ambos datasets tienen la misma cantidad de observaciones, mientras que las categorías desconocido de las variables categóricas se encuentra imputada en df_pp así como también agregamos variables reduciendo la dimensionalidad de las variables categóricas."
      ],
      "id": "507c7144-1ac1-498b-8a86-6addf3815e65"
    },
    {
      "cell_type": "code",
      "metadata": {
        "colab": {
          "base_uri": "https://localhost:8080/"
        },
        "id": "hdhdUYwP6VgT",
        "outputId": "1a1fa22e-e3a4-4ce4-9177-c18ed5e427be"
      },
      "source": [
        "df.info()"
      ],
      "id": "hdhdUYwP6VgT",
      "execution_count": 10,
      "outputs": [
        {
          "output_type": "stream",
          "name": "stdout",
          "text": [
            "<class 'pandas.core.frame.DataFrame'>\n",
            "Int64Index: 40094 entries, 0 to 41187\n",
            "Data columns (total 21 columns):\n",
            " #   Column          Non-Null Count  Dtype  \n",
            "---  ------          --------------  -----  \n",
            " 0   age             40094 non-null  int64  \n",
            " 1   job             40094 non-null  object \n",
            " 2   marital         40094 non-null  object \n",
            " 3   education       40094 non-null  object \n",
            " 4   default         40094 non-null  object \n",
            " 5   housing         40094 non-null  object \n",
            " 6   loan            40094 non-null  object \n",
            " 7   contact         40094 non-null  object \n",
            " 8   month           40094 non-null  object \n",
            " 9   day_of_week     40094 non-null  object \n",
            " 10  duration        40094 non-null  int64  \n",
            " 11  campaign        40094 non-null  int64  \n",
            " 12  pdays           40094 non-null  int64  \n",
            " 13  previous        40094 non-null  int64  \n",
            " 14  poutcome        40094 non-null  object \n",
            " 15  emp.var.rate    40094 non-null  float64\n",
            " 16  cons.price.idx  40094 non-null  float64\n",
            " 17  cons.conf.idx   40094 non-null  float64\n",
            " 18  euribor3m       40094 non-null  float64\n",
            " 19  nr.employed     40094 non-null  float64\n",
            " 20  y               40094 non-null  object \n",
            "dtypes: float64(5), int64(5), object(11)\n",
            "memory usage: 6.7+ MB\n"
          ]
        }
      ]
    },
    {
      "cell_type": "code",
      "metadata": {
        "colab": {
          "base_uri": "https://localhost:8080/"
        },
        "id": "AJsSsIwE6Xw6",
        "outputId": "2a934c13-5876-41da-92f5-8b63f78ff8ab"
      },
      "source": [
        "df_pp.info()"
      ],
      "id": "AJsSsIwE6Xw6",
      "execution_count": 11,
      "outputs": [
        {
          "output_type": "stream",
          "name": "stdout",
          "text": [
            "<class 'pandas.core.frame.DataFrame'>\n",
            "RangeIndex: 40094 entries, 0 to 40093\n",
            "Data columns (total 16 columns):\n",
            " #   Column            Non-Null Count  Dtype  \n",
            "---  ------            --------------  -----  \n",
            " 0   id                40094 non-null  int64  \n",
            " 1   age               40094 non-null  int64  \n",
            " 2   job               40094 non-null  object \n",
            " 3   marital           40094 non-null  object \n",
            " 4   education         40094 non-null  object \n",
            " 5   housing           40094 non-null  int64  \n",
            " 6   loan              40094 non-null  int64  \n",
            " 7   contact           40094 non-null  object \n",
            " 8   campaign          40094 non-null  int64  \n",
            " 9   previous          40094 non-null  int64  \n",
            " 10  poutcome          40094 non-null  object \n",
            " 11  cons.conf.idx     40094 non-null  float64\n",
            " 12  euribor3m         40094 non-null  float64\n",
            " 13  y                 40094 non-null  int64  \n",
            " 14  job_groups        40094 non-null  object \n",
            " 15  education_groups  40094 non-null  object \n",
            "dtypes: float64(2), int64(7), object(7)\n",
            "memory usage: 4.9+ MB\n"
          ]
        }
      ]
    },
    {
      "cell_type": "markdown",
      "metadata": {
        "id": "CxdfXxmHHdE9"
      },
      "source": [
        "Vamos a incluir la categorización de la variable edad que empleamos en el Práctico 1, como alternativa para realizar análisis de cluster exclusivamente con variables categóricas."
      ],
      "id": "CxdfXxmHHdE9"
    },
    {
      "cell_type": "code",
      "metadata": {
        "id": "HoJ2TmA6HcSD"
      },
      "source": [
        "def to_categorical(column, bin_size=10, min_cut=15, max_cut=65):\n",
        "    if min_cut is None:\n",
        "        min_cut = int(round(column.min())) - 1\n",
        "    value_max = int(np.ceil(column.max()))\n",
        "    max_cut = min(max_cut, value_max)\n",
        "    intervals = [(x, x + bin_size) for x in np.arange(min_cut, max_cut, bin_size)]\n",
        "    if max_cut != value_max:\n",
        "        intervals.append((max_cut, value_max))\n",
        "    return pd.cut(column, pd.IntervalIndex.from_tuples(intervals))"
      ],
      "id": "HoJ2TmA6HcSD",
      "execution_count": 12,
      "outputs": []
    },
    {
      "cell_type": "code",
      "metadata": {
        "id": "oHaVe_feHixy"
      },
      "source": [
        "df_pp['age_groups'] = to_categorical(df_pp.age,bin_size=10, min_cut=15, max_cut=65)"
      ],
      "id": "oHaVe_feHixy",
      "execution_count": 13,
      "outputs": []
    },
    {
      "cell_type": "markdown",
      "metadata": {
        "id": "u9o046Qz7yIi"
      },
      "source": [
        "#### Pre-procesamiento previo al análisis de clústers"
      ],
      "id": "u9o046Qz7yIi"
    },
    {
      "cell_type": "markdown",
      "metadata": {
        "id": "uCoX6ljM7_gF"
      },
      "source": [
        "Tipos de variables con las que contamos para realizar los análisis de clústers"
      ],
      "id": "uCoX6ljM7_gF"
    },
    {
      "cell_type": "code",
      "metadata": {
        "id": "AWxAlWM8Gnml"
      },
      "source": [
        "variables_categoricas = ['job', 'marital','housing', 'education', 'loan','contact','poutcome','month', 'day_of_week']  #Si usamos df\n",
        "variables_categoricas_pp = ['job', 'marital','housing', 'education', 'loan','contact','poutcome','job_groups', 'education_groups', 'age_groups']  #Si usamos df_pp\n",
        "variables_categoricas_ordinales = ['education','education_groups'] #podríamos en algún caso analizar education como ordinal\n",
        "variables_numericas = ['age', 'campaign','previous','euribor3m','cons.conf.idx']"
      ],
      "id": "AWxAlWM8Gnml",
      "execution_count": 15,
      "outputs": []
    },
    {
      "cell_type": "markdown",
      "metadata": {
        "id": "Fbk0icOBGJCq"
      },
      "source": [
        "**Alternativa de pre-procesamiento sin pipelines**"
      ],
      "id": "Fbk0icOBGJCq"
    },
    {
      "cell_type": "code",
      "metadata": {
        "colab": {
          "base_uri": "https://localhost:8080/",
          "height": 110
        },
        "id": "F1KoAQbAGL9R",
        "outputId": "8ad22b9c-1efa-46b7-9c1d-adb70f4c1781"
      },
      "source": [
        "#Transformaciones sobre variables numéricas\n",
        "scaler = StandardScaler()      #Puede ser este u otro\n",
        "scaler.fit(df_pp[variables_numericas])\n",
        "numerical_data = scaler.transform(df_pp[variables_numericas])\n",
        "numerical_data = pd.DataFrame(numerical_data,index=df_pp.index,columns=variables_numericas)\n",
        "numerical_data[:2]"
      ],
      "id": "F1KoAQbAGL9R",
      "execution_count": 16,
      "outputs": [
        {
          "output_type": "execute_result",
          "data": {
            "text/html": [
              "<div>\n",
              "<style scoped>\n",
              "    .dataframe tbody tr th:only-of-type {\n",
              "        vertical-align: middle;\n",
              "    }\n",
              "\n",
              "    .dataframe tbody tr th {\n",
              "        vertical-align: top;\n",
              "    }\n",
              "\n",
              "    .dataframe thead th {\n",
              "        text-align: right;\n",
              "    }\n",
              "</style>\n",
              "<table border=\"1\" class=\"dataframe\">\n",
              "  <thead>\n",
              "    <tr style=\"text-align: right;\">\n",
              "      <th></th>\n",
              "      <th>age</th>\n",
              "      <th>campaign</th>\n",
              "      <th>previous</th>\n",
              "      <th>euribor3m</th>\n",
              "      <th>cons.conf.idx</th>\n",
              "    </tr>\n",
              "  </thead>\n",
              "  <tbody>\n",
              "    <tr>\n",
              "      <th>0</th>\n",
              "      <td>1.530865</td>\n",
              "      <td>-0.758527</td>\n",
              "      <td>-0.354236</td>\n",
              "      <td>0.725856</td>\n",
              "      <td>0.881389</td>\n",
              "    </tr>\n",
              "    <tr>\n",
              "      <th>1</th>\n",
              "      <td>1.626640</td>\n",
              "      <td>-0.758527</td>\n",
              "      <td>-0.354236</td>\n",
              "      <td>0.725856</td>\n",
              "      <td>0.881389</td>\n",
              "    </tr>\n",
              "  </tbody>\n",
              "</table>\n",
              "</div>"
            ],
            "text/plain": [
              "        age  campaign  previous  euribor3m  cons.conf.idx\n",
              "0  1.530865 -0.758527 -0.354236   0.725856       0.881389\n",
              "1  1.626640 -0.758527 -0.354236   0.725856       0.881389"
            ]
          },
          "metadata": {},
          "execution_count": 16
        }
      ]
    },
    {
      "cell_type": "code",
      "metadata": {
        "colab": {
          "base_uri": "https://localhost:8080/",
          "height": 163
        },
        "id": "BP1MmqcIGNUY",
        "outputId": "f5a08622-ef5a-47ca-e5e0-f5b1d4df45da"
      },
      "source": [
        "#Transformaciones sobre variables categóricas\n",
        "onehot=OneHotEncoder(sparse=False)\n",
        "onehot.fit(df_pp[variables_categoricas_pp])\n",
        "categorical_data = onehot.transform(df_pp[variables_categoricas_pp])\n",
        "variable_names=onehot.get_feature_names(variables_categoricas_pp)\n",
        "categorical_data = pd.DataFrame(categorical_data,index=df_pp.index,columns=variable_names)\n",
        "categorical_data[:2]"
      ],
      "id": "BP1MmqcIGNUY",
      "execution_count": 17,
      "outputs": [
        {
          "output_type": "execute_result",
          "data": {
            "text/html": [
              "<div>\n",
              "<style scoped>\n",
              "    .dataframe tbody tr th:only-of-type {\n",
              "        vertical-align: middle;\n",
              "    }\n",
              "\n",
              "    .dataframe tbody tr th {\n",
              "        vertical-align: top;\n",
              "    }\n",
              "\n",
              "    .dataframe thead th {\n",
              "        text-align: right;\n",
              "    }\n",
              "</style>\n",
              "<table border=\"1\" class=\"dataframe\">\n",
              "  <thead>\n",
              "    <tr style=\"text-align: right;\">\n",
              "      <th></th>\n",
              "      <th>job_admin.</th>\n",
              "      <th>job_blue-collar</th>\n",
              "      <th>job_entrepreneur</th>\n",
              "      <th>job_housemaid</th>\n",
              "      <th>job_management</th>\n",
              "      <th>job_retired</th>\n",
              "      <th>job_self-employed</th>\n",
              "      <th>job_services</th>\n",
              "      <th>job_student</th>\n",
              "      <th>job_technician</th>\n",
              "      <th>job_unemployed</th>\n",
              "      <th>marital_divorced</th>\n",
              "      <th>marital_married</th>\n",
              "      <th>marital_single</th>\n",
              "      <th>housing_0</th>\n",
              "      <th>housing_1</th>\n",
              "      <th>education_basic.4y</th>\n",
              "      <th>education_basic.6y</th>\n",
              "      <th>education_basic.9y</th>\n",
              "      <th>education_high.school</th>\n",
              "      <th>education_illiterate</th>\n",
              "      <th>education_professional.course</th>\n",
              "      <th>education_university.degree</th>\n",
              "      <th>loan_0</th>\n",
              "      <th>loan_1</th>\n",
              "      <th>contact_cellular</th>\n",
              "      <th>contact_telephone</th>\n",
              "      <th>poutcome_failure</th>\n",
              "      <th>poutcome_nonexistent</th>\n",
              "      <th>poutcome_success</th>\n",
              "      <th>job_groups_Administrtivos</th>\n",
              "      <th>job_groups_Ingreso Cuenta Propia o Directivo</th>\n",
              "      <th>job_groups_Operarios</th>\n",
              "      <th>job_groups_Servicios</th>\n",
              "      <th>job_groups_Sin ingreso Propio</th>\n",
              "      <th>job_groups_Tecnicos</th>\n",
              "      <th>education_groups_Basic or less</th>\n",
              "      <th>education_groups_High School</th>\n",
              "      <th>education_groups_Professional</th>\n",
              "      <th>education_groups_University</th>\n",
              "      <th>age_groups_(15, 25]</th>\n",
              "      <th>age_groups_(25, 35]</th>\n",
              "      <th>age_groups_(35, 45]</th>\n",
              "      <th>age_groups_(45, 55]</th>\n",
              "      <th>age_groups_(55, 65]</th>\n",
              "      <th>age_groups_(65, 98]</th>\n",
              "    </tr>\n",
              "  </thead>\n",
              "  <tbody>\n",
              "    <tr>\n",
              "      <th>0</th>\n",
              "      <td>0.0</td>\n",
              "      <td>0.0</td>\n",
              "      <td>0.0</td>\n",
              "      <td>1.0</td>\n",
              "      <td>0.0</td>\n",
              "      <td>0.0</td>\n",
              "      <td>0.0</td>\n",
              "      <td>0.0</td>\n",
              "      <td>0.0</td>\n",
              "      <td>0.0</td>\n",
              "      <td>0.0</td>\n",
              "      <td>0.0</td>\n",
              "      <td>1.0</td>\n",
              "      <td>0.0</td>\n",
              "      <td>1.0</td>\n",
              "      <td>0.0</td>\n",
              "      <td>1.0</td>\n",
              "      <td>0.0</td>\n",
              "      <td>0.0</td>\n",
              "      <td>0.0</td>\n",
              "      <td>0.0</td>\n",
              "      <td>0.0</td>\n",
              "      <td>0.0</td>\n",
              "      <td>1.0</td>\n",
              "      <td>0.0</td>\n",
              "      <td>0.0</td>\n",
              "      <td>1.0</td>\n",
              "      <td>0.0</td>\n",
              "      <td>1.0</td>\n",
              "      <td>0.0</td>\n",
              "      <td>0.0</td>\n",
              "      <td>0.0</td>\n",
              "      <td>0.0</td>\n",
              "      <td>0.0</td>\n",
              "      <td>1.0</td>\n",
              "      <td>0.0</td>\n",
              "      <td>1.0</td>\n",
              "      <td>0.0</td>\n",
              "      <td>0.0</td>\n",
              "      <td>0.0</td>\n",
              "      <td>0.0</td>\n",
              "      <td>0.0</td>\n",
              "      <td>0.0</td>\n",
              "      <td>0.0</td>\n",
              "      <td>1.0</td>\n",
              "      <td>0.0</td>\n",
              "    </tr>\n",
              "    <tr>\n",
              "      <th>1</th>\n",
              "      <td>0.0</td>\n",
              "      <td>0.0</td>\n",
              "      <td>0.0</td>\n",
              "      <td>0.0</td>\n",
              "      <td>0.0</td>\n",
              "      <td>0.0</td>\n",
              "      <td>0.0</td>\n",
              "      <td>1.0</td>\n",
              "      <td>0.0</td>\n",
              "      <td>0.0</td>\n",
              "      <td>0.0</td>\n",
              "      <td>0.0</td>\n",
              "      <td>1.0</td>\n",
              "      <td>0.0</td>\n",
              "      <td>1.0</td>\n",
              "      <td>0.0</td>\n",
              "      <td>0.0</td>\n",
              "      <td>0.0</td>\n",
              "      <td>0.0</td>\n",
              "      <td>1.0</td>\n",
              "      <td>0.0</td>\n",
              "      <td>0.0</td>\n",
              "      <td>0.0</td>\n",
              "      <td>1.0</td>\n",
              "      <td>0.0</td>\n",
              "      <td>0.0</td>\n",
              "      <td>1.0</td>\n",
              "      <td>0.0</td>\n",
              "      <td>1.0</td>\n",
              "      <td>0.0</td>\n",
              "      <td>0.0</td>\n",
              "      <td>0.0</td>\n",
              "      <td>0.0</td>\n",
              "      <td>1.0</td>\n",
              "      <td>0.0</td>\n",
              "      <td>0.0</td>\n",
              "      <td>0.0</td>\n",
              "      <td>1.0</td>\n",
              "      <td>0.0</td>\n",
              "      <td>0.0</td>\n",
              "      <td>0.0</td>\n",
              "      <td>0.0</td>\n",
              "      <td>0.0</td>\n",
              "      <td>0.0</td>\n",
              "      <td>1.0</td>\n",
              "      <td>0.0</td>\n",
              "    </tr>\n",
              "  </tbody>\n",
              "</table>\n",
              "</div>"
            ],
            "text/plain": [
              "   job_admin.  job_blue-collar  job_entrepreneur  job_housemaid  \\\n",
              "0         0.0              0.0               0.0            1.0   \n",
              "1         0.0              0.0               0.0            0.0   \n",
              "\n",
              "   job_management  job_retired  job_self-employed  job_services  job_student  \\\n",
              "0             0.0          0.0                0.0           0.0          0.0   \n",
              "1             0.0          0.0                0.0           1.0          0.0   \n",
              "\n",
              "   job_technician  job_unemployed  marital_divorced  marital_married  \\\n",
              "0             0.0             0.0               0.0              1.0   \n",
              "1             0.0             0.0               0.0              1.0   \n",
              "\n",
              "   marital_single  housing_0  housing_1  education_basic.4y  \\\n",
              "0             0.0        1.0        0.0                 1.0   \n",
              "1             0.0        1.0        0.0                 0.0   \n",
              "\n",
              "   education_basic.6y  education_basic.9y  education_high.school  \\\n",
              "0                 0.0                 0.0                    0.0   \n",
              "1                 0.0                 0.0                    1.0   \n",
              "\n",
              "   education_illiterate  education_professional.course  \\\n",
              "0                   0.0                            0.0   \n",
              "1                   0.0                            0.0   \n",
              "\n",
              "   education_university.degree  loan_0  loan_1  contact_cellular  \\\n",
              "0                          0.0     1.0     0.0               0.0   \n",
              "1                          0.0     1.0     0.0               0.0   \n",
              "\n",
              "   contact_telephone  poutcome_failure  poutcome_nonexistent  \\\n",
              "0                1.0               0.0                   1.0   \n",
              "1                1.0               0.0                   1.0   \n",
              "\n",
              "   poutcome_success  job_groups_Administrtivos  \\\n",
              "0               0.0                        0.0   \n",
              "1               0.0                        0.0   \n",
              "\n",
              "   job_groups_Ingreso Cuenta Propia o Directivo  job_groups_Operarios  \\\n",
              "0                                           0.0                   0.0   \n",
              "1                                           0.0                   0.0   \n",
              "\n",
              "   job_groups_Servicios  job_groups_Sin ingreso Propio  job_groups_Tecnicos  \\\n",
              "0                   0.0                            1.0                  0.0   \n",
              "1                   1.0                            0.0                  0.0   \n",
              "\n",
              "   education_groups_Basic or less  education_groups_High School  \\\n",
              "0                             1.0                           0.0   \n",
              "1                             0.0                           1.0   \n",
              "\n",
              "   education_groups_Professional  education_groups_University  \\\n",
              "0                            0.0                          0.0   \n",
              "1                            0.0                          0.0   \n",
              "\n",
              "   age_groups_(15, 25]  age_groups_(25, 35]  age_groups_(35, 45]  \\\n",
              "0                  0.0                  0.0                  0.0   \n",
              "1                  0.0                  0.0                  0.0   \n",
              "\n",
              "   age_groups_(45, 55]  age_groups_(55, 65]  age_groups_(65, 98]  \n",
              "0                  0.0                  1.0                  0.0  \n",
              "1                  0.0                  1.0                  0.0  "
            ]
          },
          "metadata": {},
          "execution_count": 17
        }
      ]
    },
    {
      "cell_type": "code",
      "metadata": {
        "colab": {
          "base_uri": "https://localhost:8080/",
          "height": 192
        },
        "id": "p-BpWt19GNII",
        "outputId": "c3aae046-5678-4854-9e82-b1945e9fb94c"
      },
      "source": [
        "df_pp2 = pd.concat([numerical_data,categorical_data],axis=1)\n",
        "df_pp2.head(2)"
      ],
      "id": "p-BpWt19GNII",
      "execution_count": 18,
      "outputs": [
        {
          "output_type": "execute_result",
          "data": {
            "text/html": [
              "<div>\n",
              "<style scoped>\n",
              "    .dataframe tbody tr th:only-of-type {\n",
              "        vertical-align: middle;\n",
              "    }\n",
              "\n",
              "    .dataframe tbody tr th {\n",
              "        vertical-align: top;\n",
              "    }\n",
              "\n",
              "    .dataframe thead th {\n",
              "        text-align: right;\n",
              "    }\n",
              "</style>\n",
              "<table border=\"1\" class=\"dataframe\">\n",
              "  <thead>\n",
              "    <tr style=\"text-align: right;\">\n",
              "      <th></th>\n",
              "      <th>age</th>\n",
              "      <th>campaign</th>\n",
              "      <th>previous</th>\n",
              "      <th>euribor3m</th>\n",
              "      <th>cons.conf.idx</th>\n",
              "      <th>job_admin.</th>\n",
              "      <th>job_blue-collar</th>\n",
              "      <th>job_entrepreneur</th>\n",
              "      <th>job_housemaid</th>\n",
              "      <th>job_management</th>\n",
              "      <th>job_retired</th>\n",
              "      <th>job_self-employed</th>\n",
              "      <th>job_services</th>\n",
              "      <th>job_student</th>\n",
              "      <th>job_technician</th>\n",
              "      <th>job_unemployed</th>\n",
              "      <th>marital_divorced</th>\n",
              "      <th>marital_married</th>\n",
              "      <th>marital_single</th>\n",
              "      <th>housing_0</th>\n",
              "      <th>housing_1</th>\n",
              "      <th>education_basic.4y</th>\n",
              "      <th>education_basic.6y</th>\n",
              "      <th>education_basic.9y</th>\n",
              "      <th>education_high.school</th>\n",
              "      <th>...</th>\n",
              "      <th>education_professional.course</th>\n",
              "      <th>education_university.degree</th>\n",
              "      <th>loan_0</th>\n",
              "      <th>loan_1</th>\n",
              "      <th>contact_cellular</th>\n",
              "      <th>contact_telephone</th>\n",
              "      <th>poutcome_failure</th>\n",
              "      <th>poutcome_nonexistent</th>\n",
              "      <th>poutcome_success</th>\n",
              "      <th>job_groups_Administrtivos</th>\n",
              "      <th>job_groups_Ingreso Cuenta Propia o Directivo</th>\n",
              "      <th>job_groups_Operarios</th>\n",
              "      <th>job_groups_Servicios</th>\n",
              "      <th>job_groups_Sin ingreso Propio</th>\n",
              "      <th>job_groups_Tecnicos</th>\n",
              "      <th>education_groups_Basic or less</th>\n",
              "      <th>education_groups_High School</th>\n",
              "      <th>education_groups_Professional</th>\n",
              "      <th>education_groups_University</th>\n",
              "      <th>age_groups_(15, 25]</th>\n",
              "      <th>age_groups_(25, 35]</th>\n",
              "      <th>age_groups_(35, 45]</th>\n",
              "      <th>age_groups_(45, 55]</th>\n",
              "      <th>age_groups_(55, 65]</th>\n",
              "      <th>age_groups_(65, 98]</th>\n",
              "    </tr>\n",
              "  </thead>\n",
              "  <tbody>\n",
              "    <tr>\n",
              "      <th>0</th>\n",
              "      <td>1.530865</td>\n",
              "      <td>-0.758527</td>\n",
              "      <td>-0.354236</td>\n",
              "      <td>0.725856</td>\n",
              "      <td>0.881389</td>\n",
              "      <td>0.0</td>\n",
              "      <td>0.0</td>\n",
              "      <td>0.0</td>\n",
              "      <td>1.0</td>\n",
              "      <td>0.0</td>\n",
              "      <td>0.0</td>\n",
              "      <td>0.0</td>\n",
              "      <td>0.0</td>\n",
              "      <td>0.0</td>\n",
              "      <td>0.0</td>\n",
              "      <td>0.0</td>\n",
              "      <td>0.0</td>\n",
              "      <td>1.0</td>\n",
              "      <td>0.0</td>\n",
              "      <td>1.0</td>\n",
              "      <td>0.0</td>\n",
              "      <td>1.0</td>\n",
              "      <td>0.0</td>\n",
              "      <td>0.0</td>\n",
              "      <td>0.0</td>\n",
              "      <td>...</td>\n",
              "      <td>0.0</td>\n",
              "      <td>0.0</td>\n",
              "      <td>1.0</td>\n",
              "      <td>0.0</td>\n",
              "      <td>0.0</td>\n",
              "      <td>1.0</td>\n",
              "      <td>0.0</td>\n",
              "      <td>1.0</td>\n",
              "      <td>0.0</td>\n",
              "      <td>0.0</td>\n",
              "      <td>0.0</td>\n",
              "      <td>0.0</td>\n",
              "      <td>0.0</td>\n",
              "      <td>1.0</td>\n",
              "      <td>0.0</td>\n",
              "      <td>1.0</td>\n",
              "      <td>0.0</td>\n",
              "      <td>0.0</td>\n",
              "      <td>0.0</td>\n",
              "      <td>0.0</td>\n",
              "      <td>0.0</td>\n",
              "      <td>0.0</td>\n",
              "      <td>0.0</td>\n",
              "      <td>1.0</td>\n",
              "      <td>0.0</td>\n",
              "    </tr>\n",
              "    <tr>\n",
              "      <th>1</th>\n",
              "      <td>1.626640</td>\n",
              "      <td>-0.758527</td>\n",
              "      <td>-0.354236</td>\n",
              "      <td>0.725856</td>\n",
              "      <td>0.881389</td>\n",
              "      <td>0.0</td>\n",
              "      <td>0.0</td>\n",
              "      <td>0.0</td>\n",
              "      <td>0.0</td>\n",
              "      <td>0.0</td>\n",
              "      <td>0.0</td>\n",
              "      <td>0.0</td>\n",
              "      <td>1.0</td>\n",
              "      <td>0.0</td>\n",
              "      <td>0.0</td>\n",
              "      <td>0.0</td>\n",
              "      <td>0.0</td>\n",
              "      <td>1.0</td>\n",
              "      <td>0.0</td>\n",
              "      <td>1.0</td>\n",
              "      <td>0.0</td>\n",
              "      <td>0.0</td>\n",
              "      <td>0.0</td>\n",
              "      <td>0.0</td>\n",
              "      <td>1.0</td>\n",
              "      <td>...</td>\n",
              "      <td>0.0</td>\n",
              "      <td>0.0</td>\n",
              "      <td>1.0</td>\n",
              "      <td>0.0</td>\n",
              "      <td>0.0</td>\n",
              "      <td>1.0</td>\n",
              "      <td>0.0</td>\n",
              "      <td>1.0</td>\n",
              "      <td>0.0</td>\n",
              "      <td>0.0</td>\n",
              "      <td>0.0</td>\n",
              "      <td>0.0</td>\n",
              "      <td>1.0</td>\n",
              "      <td>0.0</td>\n",
              "      <td>0.0</td>\n",
              "      <td>0.0</td>\n",
              "      <td>1.0</td>\n",
              "      <td>0.0</td>\n",
              "      <td>0.0</td>\n",
              "      <td>0.0</td>\n",
              "      <td>0.0</td>\n",
              "      <td>0.0</td>\n",
              "      <td>0.0</td>\n",
              "      <td>1.0</td>\n",
              "      <td>0.0</td>\n",
              "    </tr>\n",
              "  </tbody>\n",
              "</table>\n",
              "<p>2 rows × 51 columns</p>\n",
              "</div>"
            ],
            "text/plain": [
              "        age  campaign  previous  euribor3m  cons.conf.idx  job_admin.  \\\n",
              "0  1.530865 -0.758527 -0.354236   0.725856       0.881389         0.0   \n",
              "1  1.626640 -0.758527 -0.354236   0.725856       0.881389         0.0   \n",
              "\n",
              "   job_blue-collar  job_entrepreneur  job_housemaid  job_management  \\\n",
              "0              0.0               0.0            1.0             0.0   \n",
              "1              0.0               0.0            0.0             0.0   \n",
              "\n",
              "   job_retired  job_self-employed  job_services  job_student  job_technician  \\\n",
              "0          0.0                0.0           0.0          0.0             0.0   \n",
              "1          0.0                0.0           1.0          0.0             0.0   \n",
              "\n",
              "   job_unemployed  marital_divorced  marital_married  marital_single  \\\n",
              "0             0.0               0.0              1.0             0.0   \n",
              "1             0.0               0.0              1.0             0.0   \n",
              "\n",
              "   housing_0  housing_1  education_basic.4y  education_basic.6y  \\\n",
              "0        1.0        0.0                 1.0                 0.0   \n",
              "1        1.0        0.0                 0.0                 0.0   \n",
              "\n",
              "   education_basic.9y  education_high.school  ...  \\\n",
              "0                 0.0                    0.0  ...   \n",
              "1                 0.0                    1.0  ...   \n",
              "\n",
              "   education_professional.course  education_university.degree  loan_0  loan_1  \\\n",
              "0                            0.0                          0.0     1.0     0.0   \n",
              "1                            0.0                          0.0     1.0     0.0   \n",
              "\n",
              "   contact_cellular  contact_telephone  poutcome_failure  \\\n",
              "0               0.0                1.0               0.0   \n",
              "1               0.0                1.0               0.0   \n",
              "\n",
              "   poutcome_nonexistent  poutcome_success  job_groups_Administrtivos  \\\n",
              "0                   1.0               0.0                        0.0   \n",
              "1                   1.0               0.0                        0.0   \n",
              "\n",
              "   job_groups_Ingreso Cuenta Propia o Directivo  job_groups_Operarios  \\\n",
              "0                                           0.0                   0.0   \n",
              "1                                           0.0                   0.0   \n",
              "\n",
              "   job_groups_Servicios  job_groups_Sin ingreso Propio  job_groups_Tecnicos  \\\n",
              "0                   0.0                            1.0                  0.0   \n",
              "1                   1.0                            0.0                  0.0   \n",
              "\n",
              "   education_groups_Basic or less  education_groups_High School  \\\n",
              "0                             1.0                           0.0   \n",
              "1                             0.0                           1.0   \n",
              "\n",
              "   education_groups_Professional  education_groups_University  \\\n",
              "0                            0.0                          0.0   \n",
              "1                            0.0                          0.0   \n",
              "\n",
              "   age_groups_(15, 25]  age_groups_(25, 35]  age_groups_(35, 45]  \\\n",
              "0                  0.0                  0.0                  0.0   \n",
              "1                  0.0                  0.0                  0.0   \n",
              "\n",
              "   age_groups_(45, 55]  age_groups_(55, 65]  age_groups_(65, 98]  \n",
              "0                  0.0                  1.0                  0.0  \n",
              "1                  0.0                  1.0                  0.0  \n",
              "\n",
              "[2 rows x 51 columns]"
            ]
          },
          "metadata": {},
          "execution_count": 18
        }
      ]
    },
    {
      "cell_type": "code",
      "metadata": {
        "colab": {
          "base_uri": "https://localhost:8080/"
        },
        "id": "2gdP5Y9cIqAU",
        "outputId": "594a1a08-9c9e-44e7-ac88-cfc26427432a"
      },
      "source": [
        "df_pp2.columns"
      ],
      "id": "2gdP5Y9cIqAU",
      "execution_count": 19,
      "outputs": [
        {
          "output_type": "execute_result",
          "data": {
            "text/plain": [
              "Index(['age', 'campaign', 'previous', 'euribor3m', 'cons.conf.idx',\n",
              "       'job_admin.', 'job_blue-collar', 'job_entrepreneur', 'job_housemaid',\n",
              "       'job_management', 'job_retired', 'job_self-employed', 'job_services',\n",
              "       'job_student', 'job_technician', 'job_unemployed', 'marital_divorced',\n",
              "       'marital_married', 'marital_single', 'housing_0', 'housing_1',\n",
              "       'education_basic.4y', 'education_basic.6y', 'education_basic.9y',\n",
              "       'education_high.school', 'education_illiterate',\n",
              "       'education_professional.course', 'education_university.degree',\n",
              "       'loan_0', 'loan_1', 'contact_cellular', 'contact_telephone',\n",
              "       'poutcome_failure', 'poutcome_nonexistent', 'poutcome_success',\n",
              "       'job_groups_Administrtivos',\n",
              "       'job_groups_Ingreso Cuenta Propia o Directivo', 'job_groups_Operarios',\n",
              "       'job_groups_Servicios', 'job_groups_Sin ingreso Propio',\n",
              "       'job_groups_Tecnicos', 'education_groups_Basic or less',\n",
              "       'education_groups_High School', 'education_groups_Professional',\n",
              "       'education_groups_University', 'age_groups_(15, 25]',\n",
              "       'age_groups_(25, 35]', 'age_groups_(35, 45]', 'age_groups_(45, 55]',\n",
              "       'age_groups_(55, 65]', 'age_groups_(65, 98]'],\n",
              "      dtype='object')"
            ]
          },
          "metadata": {},
          "execution_count": 19
        }
      ]
    },
    {
      "cell_type": "markdown",
      "metadata": {
        "id": "7e1f0445-3f27-4987-8c43-f97264e219af"
      },
      "source": [
        "### KMeans"
      ],
      "id": "7e1f0445-3f27-4987-8c43-f97264e219af"
    },
    {
      "cell_type": "markdown",
      "metadata": {
        "id": "KQOYPpN4JtTA"
      },
      "source": [
        "Aclaración: \"Numerical variables only. K-means uses distance-based measurements to determine the similarity between data points. If you have categorical data, use K-modes clustering, if data is mixed, use K-prototype clustering.\"\n",
        "\n",
        "https://medium.com/@evgen.ryzhkov/5-stages-of-data-preprocessing-for-k-means-clustering-b755426f9932"
      ],
      "id": "KQOYPpN4JtTA"
    },
    {
      "cell_type": "markdown",
      "metadata": {
        "id": "e467068b-1b2e-4abe-8688-125bfb191b18"
      },
      "source": [
        "#### Selección de variables a clusterizar"
      ],
      "id": "e467068b-1b2e-4abe-8688-125bfb191b18"
    },
    {
      "cell_type": "markdown",
      "metadata": {
        "id": "ncnrd8_Ysj_v"
      },
      "source": [
        "Para complementar el análisis presentado en la notebook \"Práctico_05\", se realizaron algunas pruebas del método KMeans utilizando la variable edad y alguna de las variables personales (categóricas) encodeadas."
      ],
      "id": "ncnrd8_Ysj_v"
    },
    {
      "cell_type": "code",
      "metadata": {
        "id": "Tz0wrHXQi325"
      },
      "source": [
        "#Alternativas que se fueron analizando\n",
        "X=df_pp2[[\"age\", 'marital_divorced', 'marital_married', 'marital_single']]  #3C: se forman clusters claros respecto a las variables de análisis, pero no mucha dif en prop de PF\n",
        "X=df_pp2[[\"age\", 'campaign', 'previous']]   #4C: diferencia un cluster con mayor probabilidad de contratar PF, pero no difiere mucho de otros en fc de características\n",
        "X=df_pp2[[\"age\", 'campaign']]   #3C: no diferencia mucho la proba de PF en cada cluster\n",
        "X=df_pp2[[\"age\", 'poutcome_failure', 'poutcome_nonexistent', 'poutcome_success']] #4C: logra armar un cluster con proba mayor (cluster formado por los que fueron contactados en campañas previas), pero en términos de estas variables es más complejo ver la relación \n",
        "#Con las variables de jobs y education no logra identificar cuál sería el clúster optimo. Con education se puede mas o menos forzar algo, complejo"
      ],
      "id": "Tz0wrHXQi325",
      "execution_count": null,
      "outputs": []
    },
    {
      "cell_type": "code",
      "metadata": {
        "id": "KGukzdUJ_Lai"
      },
      "source": [
        "#Variables a tomar para el análisis de clústers\n",
        "X=df_pp2[[\"age\",'education_groups_Basic or less',\n",
        "       'education_groups_High School', 'education_groups_Professional',\n",
        "       'education_groups_University']]"
      ],
      "id": "KGukzdUJ_Lai",
      "execution_count": null,
      "outputs": []
    },
    {
      "cell_type": "markdown",
      "metadata": {
        "id": "aecb880f-c0d7-4637-9089-1758975f760b"
      },
      "source": [
        "#### Elbow method"
      ],
      "id": "aecb880f-c0d7-4637-9089-1758975f760b"
    },
    {
      "cell_type": "code",
      "metadata": {
        "id": "0bdaddf2-4294-4b91-b7f0-9cd1d72cd9a5",
        "colab": {
          "base_uri": "https://localhost:8080/",
          "height": 311
        },
        "outputId": "7f164eee-d7e2-404a-b12a-50eaed7d5ac6"
      },
      "source": [
        "# Graficar el método elbow para determinar el número de clusters\n",
        "#Para elegir la cantidad de clusters que se podrían armar en base a los datos, variando de 2 a 11 clusters\n",
        "scores = [KMeans(n_clusters=i).fit(X).inertia_ for i in range(2,12)]\n",
        "\n",
        "plt.plot(np.arange(2, 12), scores)\n",
        "plt.xlabel('Number of clusters')\n",
        "plt.ylabel(\"Inertia\")\n",
        "plt.title(\"Inertia of k-Means versus number of clusters\")"
      ],
      "id": "0bdaddf2-4294-4b91-b7f0-9cd1d72cd9a5",
      "execution_count": null,
      "outputs": [
        {
          "output_type": "execute_result",
          "data": {
            "text/plain": [
              "Text(0.5, 1.0, 'Inertia of k-Means versus number of clusters')"
            ]
          },
          "metadata": {},
          "execution_count": 20
        },
        {
          "output_type": "display_data",
          "data": {
            "image/png": "[encoded data removed]",
            "text/plain": [
              "<Figure size 432x288 with 1 Axes>"
            ]
          },
          "metadata": {
            "needs_background": "light"
          }
        }
      ]
    },
    {
      "cell_type": "markdown",
      "metadata": {
        "id": "XvPnvhnqNSQk"
      },
      "source": [
        "A partir del análisis presentado en el gráfico anterior, se eligirían 3 cantidad de clusters a partir de los datos."
      ],
      "id": "XvPnvhnqNSQk"
    },
    {
      "cell_type": "code",
      "metadata": {
        "id": "arx5pmCnLvX-",
        "colab": {
          "base_uri": "https://localhost:8080/"
        },
        "outputId": "042482ce-809e-4c60-bb86-f5e592158511"
      },
      "source": [
        "# Número de clusters buscado\n",
        "n_clust = 4\n",
        "\n",
        "km = KMeans(n_clusters=n_clust)\n",
        "km.fit(X) #Solamente usando tres variables numéricas más relevantes\n",
        "\n",
        "# Recuperacion de etiquetas\n",
        "clusters = km.labels_\n",
        "print('Suma de los cuadrados de las distancias al cluster=Inertia= ', km.inertia_)"
      ],
      "id": "arx5pmCnLvX-",
      "execution_count": null,
      "outputs": [
        {
          "output_type": "stream",
          "name": "stdout",
          "text": [
            "Suma de los cuadrados de las distancias al cluster=Inertia=  26483.673782171754\n"
          ]
        }
      ]
    },
    {
      "cell_type": "code",
      "metadata": {
        "id": "hJxQDIJhJyuy"
      },
      "source": [
        "df_clusters_kmeans=df_pp.copy()\n",
        "df_clusters_kmeans['kmeans'] = km.labels_   #clusters"
      ],
      "id": "hJxQDIJhJyuy",
      "execution_count": null,
      "outputs": []
    },
    {
      "cell_type": "code",
      "metadata": {
        "colab": {
          "base_uri": "https://localhost:8080/",
          "height": 170
        },
        "id": "EXiSLLOfJ6S_",
        "outputId": "8fe7a068-67f7-455d-ef57-939d5629a32a"
      },
      "source": [
        "df_clusters_kmeans.head(3)"
      ],
      "id": "EXiSLLOfJ6S_",
      "execution_count": null,
      "outputs": [
        {
          "output_type": "execute_result",
          "data": {
            "text/html": [
              "<div>\n",
              "<style scoped>\n",
              "    .dataframe tbody tr th:only-of-type {\n",
              "        vertical-align: middle;\n",
              "    }\n",
              "\n",
              "    .dataframe tbody tr th {\n",
              "        vertical-align: top;\n",
              "    }\n",
              "\n",
              "    .dataframe thead th {\n",
              "        text-align: right;\n",
              "    }\n",
              "</style>\n",
              "<table border=\"1\" class=\"dataframe\">\n",
              "  <thead>\n",
              "    <tr style=\"text-align: right;\">\n",
              "      <th></th>\n",
              "      <th>id</th>\n",
              "      <th>age</th>\n",
              "      <th>job</th>\n",
              "      <th>marital</th>\n",
              "      <th>education</th>\n",
              "      <th>housing</th>\n",
              "      <th>loan</th>\n",
              "      <th>contact</th>\n",
              "      <th>campaign</th>\n",
              "      <th>previous</th>\n",
              "      <th>poutcome</th>\n",
              "      <th>cons.conf.idx</th>\n",
              "      <th>euribor3m</th>\n",
              "      <th>y</th>\n",
              "      <th>job_groups</th>\n",
              "      <th>education_groups</th>\n",
              "      <th>age_groups</th>\n",
              "      <th>kmeans</th>\n",
              "    </tr>\n",
              "  </thead>\n",
              "  <tbody>\n",
              "    <tr>\n",
              "      <th>0</th>\n",
              "      <td>0</td>\n",
              "      <td>56</td>\n",
              "      <td>housemaid</td>\n",
              "      <td>married</td>\n",
              "      <td>basic.4y</td>\n",
              "      <td>0</td>\n",
              "      <td>0</td>\n",
              "      <td>telephone</td>\n",
              "      <td>1</td>\n",
              "      <td>0</td>\n",
              "      <td>nonexistent</td>\n",
              "      <td>-36.4</td>\n",
              "      <td>4.857</td>\n",
              "      <td>0</td>\n",
              "      <td>Sin ingreso Propio</td>\n",
              "      <td>Basic or less</td>\n",
              "      <td>(55, 65]</td>\n",
              "      <td>1</td>\n",
              "    </tr>\n",
              "    <tr>\n",
              "      <th>1</th>\n",
              "      <td>1</td>\n",
              "      <td>57</td>\n",
              "      <td>services</td>\n",
              "      <td>married</td>\n",
              "      <td>high.school</td>\n",
              "      <td>0</td>\n",
              "      <td>0</td>\n",
              "      <td>telephone</td>\n",
              "      <td>1</td>\n",
              "      <td>0</td>\n",
              "      <td>nonexistent</td>\n",
              "      <td>-36.4</td>\n",
              "      <td>4.857</td>\n",
              "      <td>0</td>\n",
              "      <td>Servicios</td>\n",
              "      <td>High School</td>\n",
              "      <td>(55, 65]</td>\n",
              "      <td>1</td>\n",
              "    </tr>\n",
              "    <tr>\n",
              "      <th>2</th>\n",
              "      <td>2</td>\n",
              "      <td>37</td>\n",
              "      <td>services</td>\n",
              "      <td>married</td>\n",
              "      <td>high.school</td>\n",
              "      <td>1</td>\n",
              "      <td>0</td>\n",
              "      <td>telephone</td>\n",
              "      <td>1</td>\n",
              "      <td>0</td>\n",
              "      <td>nonexistent</td>\n",
              "      <td>-36.4</td>\n",
              "      <td>4.857</td>\n",
              "      <td>0</td>\n",
              "      <td>Servicios</td>\n",
              "      <td>High School</td>\n",
              "      <td>(35, 45]</td>\n",
              "      <td>0</td>\n",
              "    </tr>\n",
              "  </tbody>\n",
              "</table>\n",
              "</div>"
            ],
            "text/plain": [
              "   id  age        job  marital    education  housing  loan    contact  \\\n",
              "0   0   56  housemaid  married     basic.4y        0     0  telephone   \n",
              "1   1   57   services  married  high.school        0     0  telephone   \n",
              "2   2   37   services  married  high.school        1     0  telephone   \n",
              "\n",
              "   campaign  previous     poutcome  cons.conf.idx  euribor3m  y  \\\n",
              "0         1         0  nonexistent          -36.4      4.857  0   \n",
              "1         1         0  nonexistent          -36.4      4.857  0   \n",
              "2         1         0  nonexistent          -36.4      4.857  0   \n",
              "\n",
              "           job_groups education_groups age_groups  kmeans  \n",
              "0  Sin ingreso Propio    Basic or less   (55, 65]       1  \n",
              "1           Servicios      High School   (55, 65]       1  \n",
              "2           Servicios      High School   (35, 45]       0  "
            ]
          },
          "metadata": {},
          "execution_count": 23
        }
      ]
    },
    {
      "cell_type": "markdown",
      "metadata": {
        "id": "ca288372-2e4e-49fe-b285-4c936676a17e"
      },
      "source": [
        "#### Intentar explicar los clusters"
      ],
      "id": "ca288372-2e4e-49fe-b285-4c936676a17e"
    },
    {
      "cell_type": "code",
      "metadata": {
        "colab": {
          "base_uri": "https://localhost:8080/",
          "height": 347
        },
        "id": "S7olI2zOKJlz",
        "outputId": "d2b190c6-2bec-4a77-f1e7-74c316086d93"
      },
      "source": [
        "sns.countplot(df_clusters_kmeans.kmeans, order=df_clusters_kmeans.kmeans.value_counts().index)\n",
        "plt.title(\"Cantidad de casos por cluster generado\")\n",
        "plt.show()"
      ],
      "id": "S7olI2zOKJlz",
      "execution_count": null,
      "outputs": [
        {
          "output_type": "stream",
          "name": "stderr",
          "text": [
            "/usr/local/lib/python3.7/dist-packages/seaborn/_decorators.py:43: FutureWarning: Pass the following variable as a keyword arg: x. From version 0.12, the only valid positional argument will be `data`, and passing other arguments without an explicit keyword will result in an error or misinterpretation.\n",
            "  FutureWarning\n"
          ]
        },
        {
          "output_type": "display_data",
          "data": {
            "image/png": "[encoded data removed]",
            "text/plain": [
              "<Figure size 432x288 with 1 Axes>"
            ]
          },
          "metadata": {
            "needs_background": "light"
          }
        }
      ]
    },
    {
      "cell_type": "code",
      "metadata": {
        "colab": {
          "base_uri": "https://localhost:8080/",
          "height": 191
        },
        "id": "eKjrGxORKtOf",
        "outputId": "a8eff0c2-f251-402e-8eac-9be760514f55"
      },
      "source": [
        "pd.crosstab(df_clusters_kmeans.kmeans, df_clusters_kmeans.y, normalize='index')   #no se ve una diferencia muy marcada entre la propensión a contratar PF entre los clústers encontrados"
      ],
      "id": "eKjrGxORKtOf",
      "execution_count": null,
      "outputs": [
        {
          "output_type": "execute_result",
          "data": {
            "text/html": [
              "<div>\n",
              "<style scoped>\n",
              "    .dataframe tbody tr th:only-of-type {\n",
              "        vertical-align: middle;\n",
              "    }\n",
              "\n",
              "    .dataframe tbody tr th {\n",
              "        vertical-align: top;\n",
              "    }\n",
              "\n",
              "    .dataframe thead th {\n",
              "        text-align: right;\n",
              "    }\n",
              "</style>\n",
              "<table border=\"1\" class=\"dataframe\">\n",
              "  <thead>\n",
              "    <tr style=\"text-align: right;\">\n",
              "      <th>y</th>\n",
              "      <th>0</th>\n",
              "      <th>1</th>\n",
              "    </tr>\n",
              "    <tr>\n",
              "      <th>kmeans</th>\n",
              "      <th></th>\n",
              "      <th></th>\n",
              "    </tr>\n",
              "  </thead>\n",
              "  <tbody>\n",
              "    <tr>\n",
              "      <th>0</th>\n",
              "      <td>0.887426</td>\n",
              "      <td>0.112574</td>\n",
              "    </tr>\n",
              "    <tr>\n",
              "      <th>1</th>\n",
              "      <td>0.872516</td>\n",
              "      <td>0.127484</td>\n",
              "    </tr>\n",
              "    <tr>\n",
              "      <th>2</th>\n",
              "      <td>0.923496</td>\n",
              "      <td>0.076504</td>\n",
              "    </tr>\n",
              "    <tr>\n",
              "      <th>3</th>\n",
              "      <td>0.860670</td>\n",
              "      <td>0.139330</td>\n",
              "    </tr>\n",
              "  </tbody>\n",
              "</table>\n",
              "</div>"
            ],
            "text/plain": [
              "y              0         1\n",
              "kmeans                    \n",
              "0       0.887426  0.112574\n",
              "1       0.872516  0.127484\n",
              "2       0.923496  0.076504\n",
              "3       0.860670  0.139330"
            ]
          },
          "metadata": {},
          "execution_count": 25
        }
      ]
    },
    {
      "cell_type": "code",
      "metadata": {
        "colab": {
          "base_uri": "https://localhost:8080/",
          "height": 352
        },
        "id": "rjJ5mUitKUX6",
        "outputId": "8e5de338-269b-43e5-bf5c-bbab7117ca9c"
      },
      "source": [
        "sns.countplot(df_clusters_kmeans.kmeans, order=df_clusters_kmeans.kmeans.value_counts().index, hue=df_clusters_kmeans.y)\n",
        "plt.title(\"Cantidad de casos por cluster generado\")\n",
        "plt.show()"
      ],
      "id": "rjJ5mUitKUX6",
      "execution_count": null,
      "outputs": [
        {
          "output_type": "stream",
          "name": "stderr",
          "text": [
            "/usr/local/lib/python3.7/dist-packages/seaborn/_decorators.py:43: FutureWarning: Pass the following variable as a keyword arg: x. From version 0.12, the only valid positional argument will be `data`, and passing other arguments without an explicit keyword will result in an error or misinterpretation.\n",
            "  FutureWarning\n"
          ]
        },
        {
          "output_type": "display_data",
          "data": {
            "image/png": "[encoded data removed]",
            "text/plain": [
              "<Figure size 432x288 with 1 Axes>"
            ]
          },
          "metadata": {
            "needs_background": "light"
          }
        }
      ]
    },
    {
      "cell_type": "code",
      "metadata": {
        "colab": {
          "base_uri": "https://localhost:8080/",
          "height": 206
        },
        "id": "hnxG_z1GLUGJ",
        "outputId": "27b7851f-1709-4a05-98f9-4822ebbeba35"
      },
      "source": [
        "pd.crosstab(df_clusters_kmeans.kmeans, df_clusters_kmeans.education_groups, normalize='index')  "
      ],
      "id": "hnxG_z1GLUGJ",
      "execution_count": null,
      "outputs": [
        {
          "output_type": "execute_result",
          "data": {
            "text/html": [
              "<div>\n",
              "<style scoped>\n",
              "    .dataframe tbody tr th:only-of-type {\n",
              "        vertical-align: middle;\n",
              "    }\n",
              "\n",
              "    .dataframe tbody tr th {\n",
              "        vertical-align: top;\n",
              "    }\n",
              "\n",
              "    .dataframe thead th {\n",
              "        text-align: right;\n",
              "    }\n",
              "</style>\n",
              "<table border=\"1\" class=\"dataframe\">\n",
              "  <thead>\n",
              "    <tr style=\"text-align: right;\">\n",
              "      <th>education_groups</th>\n",
              "      <th>Basic or less</th>\n",
              "      <th>High School</th>\n",
              "      <th>Professional</th>\n",
              "      <th>University</th>\n",
              "    </tr>\n",
              "    <tr>\n",
              "      <th>kmeans</th>\n",
              "      <th></th>\n",
              "      <th></th>\n",
              "      <th></th>\n",
              "      <th></th>\n",
              "    </tr>\n",
              "  </thead>\n",
              "  <tbody>\n",
              "    <tr>\n",
              "      <th>0</th>\n",
              "      <td>0.000000</td>\n",
              "      <td>0.670716</td>\n",
              "      <td>0.329284</td>\n",
              "      <td>0.000000</td>\n",
              "    </tr>\n",
              "    <tr>\n",
              "      <th>1</th>\n",
              "      <td>0.000000</td>\n",
              "      <td>0.000000</td>\n",
              "      <td>0.000000</td>\n",
              "      <td>1.000000</td>\n",
              "    </tr>\n",
              "    <tr>\n",
              "      <th>2</th>\n",
              "      <td>1.000000</td>\n",
              "      <td>0.000000</td>\n",
              "      <td>0.000000</td>\n",
              "      <td>0.000000</td>\n",
              "    </tr>\n",
              "    <tr>\n",
              "      <th>3</th>\n",
              "      <td>0.400162</td>\n",
              "      <td>0.192394</td>\n",
              "      <td>0.167311</td>\n",
              "      <td>0.240133</td>\n",
              "    </tr>\n",
              "  </tbody>\n",
              "</table>\n",
              "</div>"
            ],
            "text/plain": [
              "education_groups  Basic or less  High School  Professional  University\n",
              "kmeans                                                                \n",
              "0                      0.000000     0.670716      0.329284    0.000000\n",
              "1                      0.000000     0.000000      0.000000    1.000000\n",
              "2                      1.000000     0.000000      0.000000    0.000000\n",
              "3                      0.400162     0.192394      0.167311    0.240133"
            ]
          },
          "metadata": {},
          "execution_count": 61
        }
      ]
    },
    {
      "cell_type": "code",
      "metadata": {
        "colab": {
          "base_uri": "https://localhost:8080/",
          "height": 206
        },
        "id": "r6tYoKj2LcHO",
        "outputId": "4a509d89-bcd5-48b0-886c-1babb36361de"
      },
      "source": [
        "pd.crosstab(df_clusters_kmeans.kmeans, df_clusters_kmeans.age_groups, normalize='index')   "
      ],
      "id": "r6tYoKj2LcHO",
      "execution_count": null,
      "outputs": [
        {
          "output_type": "execute_result",
          "data": {
            "text/html": [
              "<div>\n",
              "<style scoped>\n",
              "    .dataframe tbody tr th:only-of-type {\n",
              "        vertical-align: middle;\n",
              "    }\n",
              "\n",
              "    .dataframe tbody tr th {\n",
              "        vertical-align: top;\n",
              "    }\n",
              "\n",
              "    .dataframe thead th {\n",
              "        text-align: right;\n",
              "    }\n",
              "</style>\n",
              "<table border=\"1\" class=\"dataframe\">\n",
              "  <thead>\n",
              "    <tr style=\"text-align: right;\">\n",
              "      <th>age_groups</th>\n",
              "      <th>(15, 25]</th>\n",
              "      <th>(25, 35]</th>\n",
              "      <th>(35, 45]</th>\n",
              "      <th>(45, 55]</th>\n",
              "      <th>(55, 65]</th>\n",
              "      <th>(65, 98]</th>\n",
              "    </tr>\n",
              "    <tr>\n",
              "      <th>kmeans</th>\n",
              "      <th></th>\n",
              "      <th></th>\n",
              "      <th></th>\n",
              "      <th></th>\n",
              "      <th></th>\n",
              "      <th></th>\n",
              "    </tr>\n",
              "  </thead>\n",
              "  <tbody>\n",
              "    <tr>\n",
              "      <th>0</th>\n",
              "      <td>0.077708</td>\n",
              "      <td>0.520122</td>\n",
              "      <td>0.402170</td>\n",
              "      <td>0.000000</td>\n",
              "      <td>0.000000</td>\n",
              "      <td>0.000000</td>\n",
              "    </tr>\n",
              "    <tr>\n",
              "      <th>1</th>\n",
              "      <td>0.031434</td>\n",
              "      <td>0.573961</td>\n",
              "      <td>0.368827</td>\n",
              "      <td>0.025778</td>\n",
              "      <td>0.000000</td>\n",
              "      <td>0.000000</td>\n",
              "    </tr>\n",
              "    <tr>\n",
              "      <th>2</th>\n",
              "      <td>0.055488</td>\n",
              "      <td>0.398977</td>\n",
              "      <td>0.497943</td>\n",
              "      <td>0.047593</td>\n",
              "      <td>0.000000</td>\n",
              "      <td>0.000000</td>\n",
              "    </tr>\n",
              "    <tr>\n",
              "      <th>3</th>\n",
              "      <td>0.000000</td>\n",
              "      <td>0.000000</td>\n",
              "      <td>0.026432</td>\n",
              "      <td>0.659714</td>\n",
              "      <td>0.258653</td>\n",
              "      <td>0.055201</td>\n",
              "    </tr>\n",
              "  </tbody>\n",
              "</table>\n",
              "</div>"
            ],
            "text/plain": [
              "age_groups  (15, 25]  (25, 35]  (35, 45]  (45, 55]  (55, 65]  (65, 98]\n",
              "kmeans                                                                \n",
              "0           0.077708  0.520122  0.402170  0.000000  0.000000  0.000000\n",
              "1           0.031434  0.573961  0.368827  0.025778  0.000000  0.000000\n",
              "2           0.055488  0.398977  0.497943  0.047593  0.000000  0.000000\n",
              "3           0.000000  0.000000  0.026432  0.659714  0.258653  0.055201"
            ]
          },
          "metadata": {},
          "execution_count": 62
        }
      ]
    },
    {
      "cell_type": "code",
      "metadata": {
        "colab": {
          "base_uri": "https://localhost:8080/",
          "height": 206
        },
        "id": "giHSMLgklyCE",
        "outputId": "5282d05d-a480-4c72-a89b-2993bc9bf674"
      },
      "source": [
        "pd.crosstab(df_clusters_kmeans.kmeans, df_clusters_kmeans.poutcome, normalize='index') "
      ],
      "id": "giHSMLgklyCE",
      "execution_count": null,
      "outputs": [
        {
          "output_type": "execute_result",
          "data": {
            "text/html": [
              "<div>\n",
              "<style scoped>\n",
              "    .dataframe tbody tr th:only-of-type {\n",
              "        vertical-align: middle;\n",
              "    }\n",
              "\n",
              "    .dataframe tbody tr th {\n",
              "        vertical-align: top;\n",
              "    }\n",
              "\n",
              "    .dataframe thead th {\n",
              "        text-align: right;\n",
              "    }\n",
              "</style>\n",
              "<table border=\"1\" class=\"dataframe\">\n",
              "  <thead>\n",
              "    <tr style=\"text-align: right;\">\n",
              "      <th>poutcome</th>\n",
              "      <th>failure</th>\n",
              "      <th>nonexistent</th>\n",
              "      <th>success</th>\n",
              "    </tr>\n",
              "    <tr>\n",
              "      <th>kmeans</th>\n",
              "      <th></th>\n",
              "      <th></th>\n",
              "      <th></th>\n",
              "    </tr>\n",
              "  </thead>\n",
              "  <tbody>\n",
              "    <tr>\n",
              "      <th>0</th>\n",
              "      <td>0.114522</td>\n",
              "      <td>0.852745</td>\n",
              "      <td>0.032734</td>\n",
              "    </tr>\n",
              "    <tr>\n",
              "      <th>1</th>\n",
              "      <td>0.102893</td>\n",
              "      <td>0.855776</td>\n",
              "      <td>0.041331</td>\n",
              "    </tr>\n",
              "    <tr>\n",
              "      <th>2</th>\n",
              "      <td>0.101968</td>\n",
              "      <td>0.880574</td>\n",
              "      <td>0.017458</td>\n",
              "    </tr>\n",
              "    <tr>\n",
              "      <th>3</th>\n",
              "      <td>0.102400</td>\n",
              "      <td>0.854176</td>\n",
              "      <td>0.043424</td>\n",
              "    </tr>\n",
              "  </tbody>\n",
              "</table>\n",
              "</div>"
            ],
            "text/plain": [
              "poutcome   failure  nonexistent   success\n",
              "kmeans                                   \n",
              "0         0.114522     0.852745  0.032734\n",
              "1         0.102893     0.855776  0.041331\n",
              "2         0.101968     0.880574  0.017458\n",
              "3         0.102400     0.854176  0.043424"
            ]
          },
          "metadata": {},
          "execution_count": 63
        }
      ]
    },
    {
      "cell_type": "markdown",
      "metadata": {
        "id": "qnDhTQ9JtTQe"
      },
      "source": [
        "Fue posible identificar grupos de clientes diferenciados, por ejemplo: \n",
        "- jóvenes de entre 25-45 años con alto nivel educativo, \n",
        "- jóvenes de entre 25-45 años con bajo nivel educativo, \n",
        "- adultos de 45 años o más con nivel educativo medio-bajo. \n",
        "\n",
        "No obstante, no fue posible encontrar diferencias significativas en la propensión a contratar PF entre los grupos identificados. "
      ],
      "id": "qnDhTQ9JtTQe"
    },
    {
      "cell_type": "markdown",
      "metadata": {
        "id": "hit-Ff5wnxdP"
      },
      "source": [
        "#### **Pruebas con Kmodes**"
      ],
      "id": "hit-Ff5wnxdP"
    },
    {
      "cell_type": "code",
      "metadata": {
        "id": "3gW8mSJKVu6c",
        "colab": {
          "base_uri": "https://localhost:8080/"
        },
        "outputId": "dbf6451e-9443-43e1-900e-5727537036b3"
      },
      "source": [
        "pip install kmodes"
      ],
      "id": "3gW8mSJKVu6c",
      "execution_count": 21,
      "outputs": [
        {
          "output_type": "stream",
          "name": "stdout",
          "text": [
            "Collecting kmodes\n",
            "  Downloading kmodes-0.11.1-py2.py3-none-any.whl (19 kB)\n",
            "Requirement already satisfied: scipy>=0.13.3 in /usr/local/lib/python3.7/dist-packages (from kmodes) (1.4.1)\n",
            "Requirement already satisfied: joblib>=0.11 in /usr/local/lib/python3.7/dist-packages (from kmodes) (1.0.1)\n",
            "Requirement already satisfied: scikit-learn>=0.22.0 in /usr/local/lib/python3.7/dist-packages (from kmodes) (0.22.2.post1)\n",
            "Requirement already satisfied: numpy>=1.10.4 in /usr/local/lib/python3.7/dist-packages (from kmodes) (1.19.5)\n",
            "Installing collected packages: kmodes\n",
            "Successfully installed kmodes-0.11.1\n"
          ]
        }
      ]
    },
    {
      "cell_type": "code",
      "metadata": {
        "id": "qCAdkhfjoAPA"
      },
      "source": [
        "from kmodes.kmodes import KModes\n",
        "from kmodes.kprototypes import KPrototypes\n",
        "from plotnine import *\n",
        "import plotnine"
      ],
      "id": "qCAdkhfjoAPA",
      "execution_count": 22,
      "outputs": []
    },
    {
      "cell_type": "markdown",
      "metadata": {
        "id": "jjx1ApCnuU2Q"
      },
      "source": [
        "Un método alternativo para el análisis de clusters a partir de variables categóricas, es Kmeans. Realizaremos algunas pruebas a partir de este método para ver si mejoran los resultados del análisis que obtuvimos anteriormente."
      ],
      "id": "jjx1ApCnuU2Q"
    },
    {
      "cell_type": "code",
      "metadata": {
        "id": "jfu69MRuoPTi"
      },
      "source": [
        "#variables_categoricas_pp = ['job', 'marital','housing', 'education', 'loan','contact','poutcome','job_groups', 'education_groups', 'age_groups']  #Si usamos df_pp\n",
        "X=['education', 'age_groups', 'job_groups']"
      ],
      "id": "jfu69MRuoPTi",
      "execution_count": 23,
      "outputs": []
    },
    {
      "cell_type": "code",
      "metadata": {
        "colab": {
          "base_uri": "https://localhost:8080/"
        },
        "id": "uol7jRQEoJr9",
        "outputId": "4061217e-3f9d-4716-cfe0-22e97aeff553"
      },
      "source": [
        "kmodes = KModes(n_clusters=4, init='Huang', n_init=5, verbose=1)\n",
        "\n",
        "clusters = kmodes.fit_predict(df_pp[X])    #Con KModes no se calcula la inertia, ver de qué manera uno podría elegir la cantidad de clústers"
      ],
      "id": "uol7jRQEoJr9",
      "execution_count": 24,
      "outputs": [
        {
          "output_type": "stream",
          "name": "stdout",
          "text": [
            "Init: initializing centroids\n",
            "Init: initializing clusters\n",
            "Starting iterations...\n",
            "Run 1, iteration: 1/100, moves: 10097, cost: 54946.0\n",
            "Init: initializing centroids\n",
            "Init: initializing clusters\n",
            "Starting iterations...\n",
            "Run 2, iteration: 1/100, moves: 2478, cost: 52907.0\n",
            "Run 2, iteration: 2/100, moves: 2867, cost: 52907.0\n",
            "Init: initializing centroids\n",
            "Init: initializing clusters\n",
            "Starting iterations...\n",
            "Run 3, iteration: 1/100, moves: 3586, cost: 55192.0\n",
            "Run 3, iteration: 2/100, moves: 6316, cost: 52569.0\n",
            "Run 3, iteration: 3/100, moves: 5063, cost: 52569.0\n",
            "Init: initializing centroids\n",
            "Init: initializing clusters\n",
            "Starting iterations...\n",
            "Run 4, iteration: 1/100, moves: 0, cost: 53275.0\n",
            "Init: initializing centroids\n",
            "Init: initializing clusters\n",
            "Starting iterations...\n",
            "Run 5, iteration: 1/100, moves: 4818, cost: 55504.0\n",
            "Best run was number 3\n"
          ]
        }
      ]
    },
    {
      "cell_type": "code",
      "metadata": {
        "id": "sByHr7_Ns0dN"
      },
      "source": [
        "KModes?"
      ],
      "id": "sByHr7_Ns0dN",
      "execution_count": null,
      "outputs": []
    },
    {
      "cell_type": "code",
      "metadata": {
        "id": "S_ffSmcjqKVA"
      },
      "source": [
        "df_clusters_kmodes=df_pp.copy()\n",
        "df_clusters_kmodes['kmodes'] = kmodes.labels_   #clusters"
      ],
      "id": "S_ffSmcjqKVA",
      "execution_count": 25,
      "outputs": []
    },
    {
      "cell_type": "code",
      "metadata": {
        "colab": {
          "base_uri": "https://localhost:8080/",
          "height": 350
        },
        "id": "GkHXuzZTzt_1",
        "outputId": "edf488cb-6cbb-488f-e8f5-d504d3268083"
      },
      "source": [
        "sns.countplot(df_clusters_kmodes.kmodes, order=df_clusters_kmodes.kmodes.value_counts().index)\n",
        "plt.title(\"Cantidad de casos por cluster generado\")\n",
        "plt.show()"
      ],
      "id": "GkHXuzZTzt_1",
      "execution_count": 27,
      "outputs": [
        {
          "output_type": "stream",
          "name": "stderr",
          "text": [
            "/usr/local/lib/python3.7/dist-packages/seaborn/_decorators.py:43: FutureWarning: Pass the following variable as a keyword arg: x. From version 0.12, the only valid positional argument will be `data`, and passing other arguments without an explicit keyword will result in an error or misinterpretation.\n",
            "  FutureWarning\n"
          ]
        },
        {
          "output_type": "display_data",
          "data": {
            "image/png": "[encoded data removed]",
            "text/plain": [
              "<Figure size 432x288 with 1 Axes>"
            ]
          },
          "metadata": {
            "needs_background": "light"
          }
        }
      ]
    },
    {
      "cell_type": "code",
      "metadata": {
        "colab": {
          "base_uri": "https://localhost:8080/",
          "height": 202
        },
        "id": "sFTYkK82qxQd",
        "outputId": "26f4d152-79e5-4a0a-e75f-6e22c42312b7"
      },
      "source": [
        "pd.crosstab(df_clusters_kmodes.kmodes, df_clusters_kmodes.y, normalize='index')   #no se ve una diferencia muy marcada entre la propensión a contratar PF entre los clústers encontrados"
      ],
      "id": "sFTYkK82qxQd",
      "execution_count": 26,
      "outputs": [
        {
          "output_type": "execute_result",
          "data": {
            "text/html": [
              "<div>\n",
              "<style scoped>\n",
              "    .dataframe tbody tr th:only-of-type {\n",
              "        vertical-align: middle;\n",
              "    }\n",
              "\n",
              "    .dataframe tbody tr th {\n",
              "        vertical-align: top;\n",
              "    }\n",
              "\n",
              "    .dataframe thead th {\n",
              "        text-align: right;\n",
              "    }\n",
              "</style>\n",
              "<table border=\"1\" class=\"dataframe\">\n",
              "  <thead>\n",
              "    <tr style=\"text-align: right;\">\n",
              "      <th>y</th>\n",
              "      <th>0</th>\n",
              "      <th>1</th>\n",
              "    </tr>\n",
              "    <tr>\n",
              "      <th>kmodes</th>\n",
              "      <th></th>\n",
              "      <th></th>\n",
              "    </tr>\n",
              "  </thead>\n",
              "  <tbody>\n",
              "    <tr>\n",
              "      <th>0</th>\n",
              "      <td>0.872942</td>\n",
              "      <td>0.127058</td>\n",
              "    </tr>\n",
              "    <tr>\n",
              "      <th>1</th>\n",
              "      <td>0.883123</td>\n",
              "      <td>0.116877</td>\n",
              "    </tr>\n",
              "    <tr>\n",
              "      <th>2</th>\n",
              "      <td>0.885923</td>\n",
              "      <td>0.114077</td>\n",
              "    </tr>\n",
              "    <tr>\n",
              "      <th>3</th>\n",
              "      <td>0.927759</td>\n",
              "      <td>0.072241</td>\n",
              "    </tr>\n",
              "  </tbody>\n",
              "</table>\n",
              "</div>"
            ],
            "text/plain": [
              "y              0         1\n",
              "kmodes                    \n",
              "0       0.872942  0.127058\n",
              "1       0.883123  0.116877\n",
              "2       0.885923  0.114077\n",
              "3       0.927759  0.072241"
            ]
          },
          "metadata": {},
          "execution_count": 26
        }
      ]
    },
    {
      "cell_type": "code",
      "metadata": {
        "colab": {
          "base_uri": "https://localhost:8080/",
          "height": 202
        },
        "id": "RHFVsAyOzoGO",
        "outputId": "f71d2437-8c42-455d-e579-5e2f4022d3ea"
      },
      "source": [
        "pd.crosstab(df_clusters_kmodes.kmodes, df_clusters_kmodes.education_groups, normalize='index')  "
      ],
      "id": "RHFVsAyOzoGO",
      "execution_count": 28,
      "outputs": [
        {
          "output_type": "execute_result",
          "data": {
            "text/html": [
              "<div>\n",
              "<style scoped>\n",
              "    .dataframe tbody tr th:only-of-type {\n",
              "        vertical-align: middle;\n",
              "    }\n",
              "\n",
              "    .dataframe tbody tr th {\n",
              "        vertical-align: top;\n",
              "    }\n",
              "\n",
              "    .dataframe thead th {\n",
              "        text-align: right;\n",
              "    }\n",
              "</style>\n",
              "<table border=\"1\" class=\"dataframe\">\n",
              "  <thead>\n",
              "    <tr style=\"text-align: right;\">\n",
              "      <th>education_groups</th>\n",
              "      <th>Basic or less</th>\n",
              "      <th>High School</th>\n",
              "      <th>Professional</th>\n",
              "      <th>University</th>\n",
              "    </tr>\n",
              "    <tr>\n",
              "      <th>kmodes</th>\n",
              "      <th></th>\n",
              "      <th></th>\n",
              "      <th></th>\n",
              "      <th></th>\n",
              "    </tr>\n",
              "  </thead>\n",
              "  <tbody>\n",
              "    <tr>\n",
              "      <th>0</th>\n",
              "      <td>0.206616</td>\n",
              "      <td>0.311135</td>\n",
              "      <td>0.021678</td>\n",
              "      <td>0.460570</td>\n",
              "    </tr>\n",
              "    <tr>\n",
              "      <th>1</th>\n",
              "      <td>0.104423</td>\n",
              "      <td>0.139071</td>\n",
              "      <td>0.756506</td>\n",
              "      <td>0.000000</td>\n",
              "    </tr>\n",
              "    <tr>\n",
              "      <th>2</th>\n",
              "      <td>0.442601</td>\n",
              "      <td>0.203627</td>\n",
              "      <td>0.014942</td>\n",
              "      <td>0.338829</td>\n",
              "    </tr>\n",
              "    <tr>\n",
              "      <th>3</th>\n",
              "      <td>0.840527</td>\n",
              "      <td>0.134008</td>\n",
              "      <td>0.022756</td>\n",
              "      <td>0.002709</td>\n",
              "    </tr>\n",
              "  </tbody>\n",
              "</table>\n",
              "</div>"
            ],
            "text/plain": [
              "education_groups  Basic or less  High School  Professional  University\n",
              "kmodes                                                                \n",
              "0                      0.206616     0.311135      0.021678    0.460570\n",
              "1                      0.104423     0.139071      0.756506    0.000000\n",
              "2                      0.442601     0.203627      0.014942    0.338829\n",
              "3                      0.840527     0.134008      0.022756    0.002709"
            ]
          },
          "metadata": {},
          "execution_count": 28
        }
      ]
    },
    {
      "cell_type": "code",
      "metadata": {
        "colab": {
          "base_uri": "https://localhost:8080/",
          "height": 202
        },
        "id": "VVMlBIs5zn5-",
        "outputId": "04828684-edb5-49b6-fb07-8a2f9567eb4e"
      },
      "source": [
        "pd.crosstab(df_clusters_kmodes.kmodes, df_clusters_kmodes.age_groups, normalize='index')   "
      ],
      "id": "VVMlBIs5zn5-",
      "execution_count": 29,
      "outputs": [
        {
          "output_type": "execute_result",
          "data": {
            "text/html": [
              "<div>\n",
              "<style scoped>\n",
              "    .dataframe tbody tr th:only-of-type {\n",
              "        vertical-align: middle;\n",
              "    }\n",
              "\n",
              "    .dataframe tbody tr th {\n",
              "        vertical-align: top;\n",
              "    }\n",
              "\n",
              "    .dataframe thead th {\n",
              "        text-align: right;\n",
              "    }\n",
              "</style>\n",
              "<table border=\"1\" class=\"dataframe\">\n",
              "  <thead>\n",
              "    <tr style=\"text-align: right;\">\n",
              "      <th>age_groups</th>\n",
              "      <th>(15, 25]</th>\n",
              "      <th>(25, 35]</th>\n",
              "      <th>(35, 45]</th>\n",
              "      <th>(45, 55]</th>\n",
              "      <th>(55, 65]</th>\n",
              "      <th>(65, 98]</th>\n",
              "    </tr>\n",
              "    <tr>\n",
              "      <th>kmodes</th>\n",
              "      <th></th>\n",
              "      <th></th>\n",
              "      <th></th>\n",
              "      <th></th>\n",
              "      <th></th>\n",
              "      <th></th>\n",
              "    </tr>\n",
              "  </thead>\n",
              "  <tbody>\n",
              "    <tr>\n",
              "      <th>0</th>\n",
              "      <td>0.053685</td>\n",
              "      <td>0.627757</td>\n",
              "      <td>0.166218</td>\n",
              "      <td>0.110974</td>\n",
              "      <td>0.040344</td>\n",
              "      <td>0.001022</td>\n",
              "    </tr>\n",
              "    <tr>\n",
              "      <th>1</th>\n",
              "      <td>0.032732</td>\n",
              "      <td>0.375699</td>\n",
              "      <td>0.311672</td>\n",
              "      <td>0.191601</td>\n",
              "      <td>0.074884</td>\n",
              "      <td>0.013412</td>\n",
              "    </tr>\n",
              "    <tr>\n",
              "      <th>2</th>\n",
              "      <td>0.009378</td>\n",
              "      <td>0.000000</td>\n",
              "      <td>0.687345</td>\n",
              "      <td>0.139839</td>\n",
              "      <td>0.114489</td>\n",
              "      <td>0.048949</td>\n",
              "    </tr>\n",
              "    <tr>\n",
              "      <th>3</th>\n",
              "      <td>0.059960</td>\n",
              "      <td>0.081452</td>\n",
              "      <td>0.142315</td>\n",
              "      <td>0.610981</td>\n",
              "      <td>0.098790</td>\n",
              "      <td>0.006502</td>\n",
              "    </tr>\n",
              "  </tbody>\n",
              "</table>\n",
              "</div>"
            ],
            "text/plain": [
              "age_groups  (15, 25]  (25, 35]  (35, 45]  (45, 55]  (55, 65]  (65, 98]\n",
              "kmodes                                                                \n",
              "0           0.053685  0.627757  0.166218  0.110974  0.040344  0.001022\n",
              "1           0.032732  0.375699  0.311672  0.191601  0.074884  0.013412\n",
              "2           0.009378  0.000000  0.687345  0.139839  0.114489  0.048949\n",
              "3           0.059960  0.081452  0.142315  0.610981  0.098790  0.006502"
            ]
          },
          "metadata": {},
          "execution_count": 29
        }
      ]
    },
    {
      "cell_type": "code",
      "metadata": {
        "colab": {
          "base_uri": "https://localhost:8080/",
          "height": 202
        },
        "id": "246mnsTRznu0",
        "outputId": "ec3d55f7-837e-4380-c739-c4aa31ea8057"
      },
      "source": [
        "pd.crosstab(df_clusters_kmodes.kmodes, df_clusters_kmodes.poutcome, normalize='index') "
      ],
      "id": "246mnsTRznu0",
      "execution_count": 30,
      "outputs": [
        {
          "output_type": "execute_result",
          "data": {
            "text/html": [
              "<div>\n",
              "<style scoped>\n",
              "    .dataframe tbody tr th:only-of-type {\n",
              "        vertical-align: middle;\n",
              "    }\n",
              "\n",
              "    .dataframe tbody tr th {\n",
              "        vertical-align: top;\n",
              "    }\n",
              "\n",
              "    .dataframe thead th {\n",
              "        text-align: right;\n",
              "    }\n",
              "</style>\n",
              "<table border=\"1\" class=\"dataframe\">\n",
              "  <thead>\n",
              "    <tr style=\"text-align: right;\">\n",
              "      <th>poutcome</th>\n",
              "      <th>failure</th>\n",
              "      <th>nonexistent</th>\n",
              "      <th>success</th>\n",
              "    </tr>\n",
              "    <tr>\n",
              "      <th>kmodes</th>\n",
              "      <th></th>\n",
              "      <th></th>\n",
              "      <th></th>\n",
              "    </tr>\n",
              "  </thead>\n",
              "  <tbody>\n",
              "    <tr>\n",
              "      <th>0</th>\n",
              "      <td>0.112480</td>\n",
              "      <td>0.848951</td>\n",
              "      <td>0.038569</td>\n",
              "    </tr>\n",
              "    <tr>\n",
              "      <th>1</th>\n",
              "      <td>0.095641</td>\n",
              "      <td>0.867635</td>\n",
              "      <td>0.036724</td>\n",
              "    </tr>\n",
              "    <tr>\n",
              "      <th>2</th>\n",
              "      <td>0.111603</td>\n",
              "      <td>0.853462</td>\n",
              "      <td>0.034934</td>\n",
              "    </tr>\n",
              "    <tr>\n",
              "      <th>3</th>\n",
              "      <td>0.083800</td>\n",
              "      <td>0.900488</td>\n",
              "      <td>0.015712</td>\n",
              "    </tr>\n",
              "  </tbody>\n",
              "</table>\n",
              "</div>"
            ],
            "text/plain": [
              "poutcome   failure  nonexistent   success\n",
              "kmodes                                   \n",
              "0         0.112480     0.848951  0.038569\n",
              "1         0.095641     0.867635  0.036724\n",
              "2         0.111603     0.853462  0.034934\n",
              "3         0.083800     0.900488  0.015712"
            ]
          },
          "metadata": {},
          "execution_count": 30
        }
      ]
    },
    {
      "cell_type": "markdown",
      "metadata": {
        "id": "9o8En_-B0tJ2"
      },
      "source": [
        "Nuevamente, no fue posible encontrar diferencias importantes en la propensión a contratar PF aunque en uno de los clusters el porcentaje de clientes que contrató PF fue inferior al resto (7% aprox). Este cluster estaba conformado mayormente por adultos de entre 45 y 55 años, con nivel educativos básico o inferior. A la vez, se observa en este grupo que es el que había tenido menor porcentaje de clientes contactados en campañas previas."
      ],
      "id": "9o8En_-B0tJ2"
    },
    {
      "cell_type": "markdown",
      "metadata": {
        "id": "EZrs677oweWs"
      },
      "source": [
        "#### **Prueba con KPrototypes**"
      ],
      "id": "EZrs677oweWs"
    },
    {
      "cell_type": "markdown",
      "metadata": {
        "id": "qHaquxUiwiBt"
      },
      "source": [
        "Finalmente, otra alternativa que permite utilizar de manera conjunta a las variables continuas y categóricas es KPrototypes.\n",
        "\n",
        "\n",
        "Viendo referencias acá: https://towardsdatascience.com/the-k-prototype-as-clustering-algorithm-for-mixed-data-type-categorical-and-numerical-fe7c50538ebb\n"
      ],
      "id": "qHaquxUiwiBt"
    },
    {
      "cell_type": "code",
      "metadata": {
        "colab": {
          "base_uri": "https://localhost:8080/"
        },
        "id": "N_gq41utx63t",
        "outputId": "ef4813bd-f50a-40fd-bb91-722adcaf9d37"
      },
      "source": [
        "df_pp.columns"
      ],
      "id": "N_gq41utx63t",
      "execution_count": 31,
      "outputs": [
        {
          "output_type": "execute_result",
          "data": {
            "text/plain": [
              "Index(['id', 'age', 'job', 'marital', 'education', 'housing', 'loan',\n",
              "       'contact', 'campaign', 'previous', 'poutcome', 'cons.conf.idx',\n",
              "       'euribor3m', 'y', 'job_groups', 'education_groups', 'age_groups'],\n",
              "      dtype='object')"
            ]
          },
          "metadata": {},
          "execution_count": 31
        }
      ]
    },
    {
      "cell_type": "code",
      "metadata": {
        "colab": {
          "base_uri": "https://localhost:8080/"
        },
        "id": "idrVpDURxQ7y",
        "outputId": "eb909f15-3daa-41d4-cdd1-2538250d6dc8"
      },
      "source": [
        "df_kp=df_pp[['age','euribor3m', 'marital', 'education_groups']].copy()\n",
        "# Get the position of categorical columns\n",
        "catColumnsPos = [df_kp.columns.get_loc(col) for col in list(df_kp.select_dtypes('object').columns)]\n",
        "print('Categorical columns           : {}'.format(list(df_kp.select_dtypes('object').columns)))\n",
        "print('Categorical columns position  : {}'.format(catColumnsPos))"
      ],
      "id": "idrVpDURxQ7y",
      "execution_count": 32,
      "outputs": [
        {
          "output_type": "stream",
          "name": "stdout",
          "text": [
            "Categorical columns           : ['marital', 'education_groups']\n",
            "Categorical columns position  : [2, 3]\n"
          ]
        }
      ]
    },
    {
      "cell_type": "code",
      "metadata": {
        "id": "1Mopjjmby1TL"
      },
      "source": [
        "df_kp_Matrix=df_kp.to_numpy()"
      ],
      "id": "1Mopjjmby1TL",
      "execution_count": 33,
      "outputs": []
    },
    {
      "cell_type": "code",
      "metadata": {
        "colab": {
          "base_uri": "https://localhost:8080/",
          "height": 596
        },
        "id": "H2gDENIozBXO",
        "outputId": "62290d67-1429-43c9-f06b-7d037d7fcb8d"
      },
      "source": [
        "# Choose optimal K using Elbow method\n",
        "cost = []\n",
        "for cluster in range(1, 6):\n",
        "    try:\n",
        "        kprototype = KPrototypes(n_jobs = -1, n_clusters = cluster, init = 'Huang', random_state = 0)\n",
        "        kprototype.fit_predict(df_kp_Matrix, categorical = catColumnsPos)\n",
        "        cost.append(kprototype.cost_)\n",
        "        print('Cluster initiation: {}'.format(cluster))\n",
        "    except:\n",
        "        break\n",
        "# Converting the results into a dataframe and plotting them\n",
        "df_cost = pd.DataFrame({'Cluster':range(1, 6), 'Cost':cost})\n",
        "# Data viz\n",
        "plotnine.options.figure_size = (8, 4.8)\n",
        "(\n",
        "    ggplot(data = df_cost)+\n",
        "    geom_line(aes(x = 'Cluster',\n",
        "                  y = 'Cost'))+\n",
        "    geom_point(aes(x = 'Cluster',\n",
        "                   y = 'Cost'))+\n",
        "    geom_label(aes(x = 'Cluster',\n",
        "                   y = 'Cost',\n",
        "                   label = 'Cluster'),\n",
        "               size = 10,\n",
        "               nudge_y = 1000) +\n",
        "    labs(title = 'Optimal number of cluster with Elbow Method')+\n",
        "    xlab('Number of Clusters k')+\n",
        "    ylab('Cost')+\n",
        "    theme_minimal()\n",
        ")"
      ],
      "id": "H2gDENIozBXO",
      "execution_count": null,
      "outputs": [
        {
          "output_type": "stream",
          "name": "stdout",
          "text": [
            "Cluster initiation: 1\n",
            "Cluster initiation: 2\n",
            "Cluster initiation: 3\n",
            "Cluster initiation: 4\n",
            "Cluster initiation: 5\n"
          ]
        },
        {
          "output_type": "display_data",
          "data": {
            "image/png": "[encoded data removed]",
            "text/plain": [
              "<Figure size 800x480 with 1 Axes>"
            ]
          },
          "metadata": {
            "needs_background": "light"
          }
        },
        {
          "output_type": "execute_result",
          "data": {
            "text/plain": [
              "<ggplot: (8759658049685)>"
            ]
          },
          "metadata": {},
          "execution_count": 45
        }
      ]
    },
    {
      "cell_type": "markdown",
      "metadata": {
        "id": "89jfU1HCvISd"
      },
      "source": [
        "Este método tiende a reportar siempre un valor pequeño para la cantidad de cluster óptimos (2), los cuales suelen ser muy similares entre si en cuanto a su propensión a adquirir PF. \n",
        "\n",
        "Luego de cierto análisis, y estrechamente vinculado a lo observado en los Prácticos 1 y 2, es de esperar que se requiera una cantidad mayor de clusters para poder caracterizar o diferenciar grupos de clientes. "
      ],
      "id": "89jfU1HCvISd"
    },
    {
      "cell_type": "markdown",
      "metadata": {
        "id": "6y4CkA0UvyLv"
      },
      "source": [
        "Tomando las variables \"age\" y \"Education_groups\" identificó dos clusters como mejor opción, los cuales presentaban la siguiente probabilidad de contratar PF. \n",
        "\n",
        "                  y\n",
        "\t            0\t       1\t\t\n",
        "Cluster 0\t0.886377\t0.113623\n",
        "\n",
        "Cluster 1\t0.883261\t0.116739"
      ],
      "id": "6y4CkA0UvyLv"
    },
    {
      "cell_type": "code",
      "metadata": {
        "colab": {
          "base_uri": "https://localhost:8080/"
        },
        "id": "2agkbjxQ2T64",
        "outputId": "f959606e-98a4-49e5-c20c-cbce70b48b3f"
      },
      "source": [
        "# Fit con la cantidad de cluster optima encontrada (En este caso, aumenté la cantidad de cluster para ver si se encuentran diferencias en la propensión a contratar PF)\n",
        "kprototype = KPrototypes(n_jobs = -1, n_clusters = 4, init = 'Huang', random_state = 0)\n",
        "kprototype.fit_predict(df_kp_Matrix, categorical = catColumnsPos)"
      ],
      "id": "2agkbjxQ2T64",
      "execution_count": 34,
      "outputs": [
        {
          "output_type": "execute_result",
          "data": {
            "text/plain": [
              "array([0, 0, 3, ..., 0, 1, 0], dtype=uint16)"
            ]
          },
          "metadata": {},
          "execution_count": 34
        }
      ]
    },
    {
      "cell_type": "code",
      "metadata": {
        "id": "_B8upE8w1-s-"
      },
      "source": [
        "df_pp['kp'] = kprototype.labels_"
      ],
      "id": "_B8upE8w1-s-",
      "execution_count": 35,
      "outputs": []
    },
    {
      "cell_type": "code",
      "metadata": {
        "id": "4GH2Or409uAE",
        "colab": {
          "base_uri": "https://localhost:8080/",
          "height": 202
        },
        "outputId": "5d505046-07e9-45cf-ec42-4212f7c8257d"
      },
      "source": [
        "pd.crosstab(df_pp.kp, df_pp.y, normalize='index')   "
      ],
      "id": "4GH2Or409uAE",
      "execution_count": 36,
      "outputs": [
        {
          "output_type": "execute_result",
          "data": {
            "text/html": [
              "<div>\n",
              "<style scoped>\n",
              "    .dataframe tbody tr th:only-of-type {\n",
              "        vertical-align: middle;\n",
              "    }\n",
              "\n",
              "    .dataframe tbody tr th {\n",
              "        vertical-align: top;\n",
              "    }\n",
              "\n",
              "    .dataframe thead th {\n",
              "        text-align: right;\n",
              "    }\n",
              "</style>\n",
              "<table border=\"1\" class=\"dataframe\">\n",
              "  <thead>\n",
              "    <tr style=\"text-align: right;\">\n",
              "      <th>y</th>\n",
              "      <th>0</th>\n",
              "      <th>1</th>\n",
              "    </tr>\n",
              "    <tr>\n",
              "      <th>kp</th>\n",
              "      <th></th>\n",
              "      <th></th>\n",
              "    </tr>\n",
              "  </thead>\n",
              "  <tbody>\n",
              "    <tr>\n",
              "      <th>0</th>\n",
              "      <td>0.838891</td>\n",
              "      <td>0.161109</td>\n",
              "    </tr>\n",
              "    <tr>\n",
              "      <th>1</th>\n",
              "      <td>0.918969</td>\n",
              "      <td>0.081031</td>\n",
              "    </tr>\n",
              "    <tr>\n",
              "      <th>2</th>\n",
              "      <td>0.856873</td>\n",
              "      <td>0.143127</td>\n",
              "    </tr>\n",
              "    <tr>\n",
              "      <th>3</th>\n",
              "      <td>0.904052</td>\n",
              "      <td>0.095948</td>\n",
              "    </tr>\n",
              "  </tbody>\n",
              "</table>\n",
              "</div>"
            ],
            "text/plain": [
              "y          0         1\n",
              "kp                    \n",
              "0   0.838891  0.161109\n",
              "1   0.918969  0.081031\n",
              "2   0.856873  0.143127\n",
              "3   0.904052  0.095948"
            ]
          },
          "metadata": {},
          "execution_count": 36
        }
      ]
    },
    {
      "cell_type": "code",
      "metadata": {
        "id": "hjKxD6BLJH7y"
      },
      "source": [
        "df_pp['Segment'] = df_pp['kp'].map({0:'First', 1:'Second', 2:'Third',3:'Forth'})"
      ],
      "id": "hjKxD6BLJH7y",
      "execution_count": 37,
      "outputs": []
    },
    {
      "cell_type": "code",
      "metadata": {
        "id": "KE1-kJzoI0kN",
        "colab": {
          "base_uri": "https://localhost:8080/",
          "height": 171
        },
        "outputId": "78e64852-e9d1-4e9f-c2c7-1ec67b7af008"
      },
      "source": [
        "# Cluster interpretation\n",
        "df_pp.rename(columns = {'kp':'Total'}, inplace = True)\n",
        "df_pp.groupby('Segment').agg(\n",
        "    {\n",
        "        'Total':'count',\n",
        "        'education_groups': lambda x: x.value_counts().index[0],\n",
        "        'marital': lambda x: x.value_counts().index[0],\n",
        "        'job_groups': lambda x: x.value_counts().index[0],\n",
        "        'contact': lambda x: x.value_counts().index[0],\n",
        "        'age': 'mean',\n",
        "        'campaign': 'mean'\n",
        "    }\n",
        ").reset_index()"
      ],
      "id": "KE1-kJzoI0kN",
      "execution_count": 38,
      "outputs": [
        {
          "output_type": "execute_result",
          "data": {
            "text/html": [
              "<div>\n",
              "<style scoped>\n",
              "    .dataframe tbody tr th:only-of-type {\n",
              "        vertical-align: middle;\n",
              "    }\n",
              "\n",
              "    .dataframe tbody tr th {\n",
              "        vertical-align: top;\n",
              "    }\n",
              "\n",
              "    .dataframe thead th {\n",
              "        text-align: right;\n",
              "    }\n",
              "</style>\n",
              "<table border=\"1\" class=\"dataframe\">\n",
              "  <thead>\n",
              "    <tr style=\"text-align: right;\">\n",
              "      <th></th>\n",
              "      <th>Segment</th>\n",
              "      <th>Total</th>\n",
              "      <th>education_groups</th>\n",
              "      <th>marital</th>\n",
              "      <th>job_groups</th>\n",
              "      <th>contact</th>\n",
              "      <th>age</th>\n",
              "      <th>campaign</th>\n",
              "    </tr>\n",
              "  </thead>\n",
              "  <tbody>\n",
              "    <tr>\n",
              "      <th>0</th>\n",
              "      <td>First</td>\n",
              "      <td>6238</td>\n",
              "      <td>Basic or less</td>\n",
              "      <td>married</td>\n",
              "      <td>Ingreso Cuenta Propia o Directivo</td>\n",
              "      <td>cellular</td>\n",
              "      <td>57.690766</td>\n",
              "      <td>2.219461</td>\n",
              "    </tr>\n",
              "    <tr>\n",
              "      <th>1</th>\n",
              "      <td>Forth</td>\n",
              "      <td>13007</td>\n",
              "      <td>University</td>\n",
              "      <td>married</td>\n",
              "      <td>Administrtivos</td>\n",
              "      <td>cellular</td>\n",
              "      <td>36.217729</td>\n",
              "      <td>2.234566</td>\n",
              "    </tr>\n",
              "    <tr>\n",
              "      <th>2</th>\n",
              "      <td>Second</td>\n",
              "      <td>10243</td>\n",
              "      <td>Basic or less</td>\n",
              "      <td>married</td>\n",
              "      <td>Operarios</td>\n",
              "      <td>cellular</td>\n",
              "      <td>45.784243</td>\n",
              "      <td>2.251391</td>\n",
              "    </tr>\n",
              "    <tr>\n",
              "      <th>3</th>\n",
              "      <td>Third</td>\n",
              "      <td>10606</td>\n",
              "      <td>University</td>\n",
              "      <td>single</td>\n",
              "      <td>Administrtivos</td>\n",
              "      <td>cellular</td>\n",
              "      <td>28.707901</td>\n",
              "      <td>2.211673</td>\n",
              "    </tr>\n",
              "  </tbody>\n",
              "</table>\n",
              "</div>"
            ],
            "text/plain": [
              "  Segment  Total education_groups  marital                         job_groups  \\\n",
              "0   First   6238    Basic or less  married  Ingreso Cuenta Propia o Directivo   \n",
              "1   Forth  13007       University  married                     Administrtivos   \n",
              "2  Second  10243    Basic or less  married                          Operarios   \n",
              "3   Third  10606       University   single                     Administrtivos   \n",
              "\n",
              "    contact        age  campaign  \n",
              "0  cellular  57.690766  2.219461  \n",
              "1  cellular  36.217729  2.234566  \n",
              "2  cellular  45.784243  2.251391  \n",
              "3  cellular  28.707901  2.211673  "
            ]
          },
          "metadata": {},
          "execution_count": 38
        }
      ]
    },
    {
      "cell_type": "code",
      "metadata": {
        "colab": {
          "base_uri": "https://localhost:8080/",
          "height": 202
        },
        "id": "xylhHXIz4tVq",
        "outputId": "14aab52b-66a9-48fc-b42f-3f81eec3a8ab"
      },
      "source": [
        "pd.crosstab(df_pp.Segment, df_pp.poutcome, normalize='index') "
      ],
      "id": "xylhHXIz4tVq",
      "execution_count": 39,
      "outputs": [
        {
          "output_type": "execute_result",
          "data": {
            "text/html": [
              "<div>\n",
              "<style scoped>\n",
              "    .dataframe tbody tr th:only-of-type {\n",
              "        vertical-align: middle;\n",
              "    }\n",
              "\n",
              "    .dataframe tbody tr th {\n",
              "        vertical-align: top;\n",
              "    }\n",
              "\n",
              "    .dataframe thead th {\n",
              "        text-align: right;\n",
              "    }\n",
              "</style>\n",
              "<table border=\"1\" class=\"dataframe\">\n",
              "  <thead>\n",
              "    <tr style=\"text-align: right;\">\n",
              "      <th>poutcome</th>\n",
              "      <th>failure</th>\n",
              "      <th>nonexistent</th>\n",
              "      <th>success</th>\n",
              "    </tr>\n",
              "    <tr>\n",
              "      <th>Segment</th>\n",
              "      <th></th>\n",
              "      <th></th>\n",
              "      <th></th>\n",
              "    </tr>\n",
              "  </thead>\n",
              "  <tbody>\n",
              "    <tr>\n",
              "      <th>First</th>\n",
              "      <td>0.108849</td>\n",
              "      <td>0.833601</td>\n",
              "      <td>0.057550</td>\n",
              "    </tr>\n",
              "    <tr>\n",
              "      <th>Forth</th>\n",
              "      <td>0.109249</td>\n",
              "      <td>0.863612</td>\n",
              "      <td>0.027139</td>\n",
              "    </tr>\n",
              "    <tr>\n",
              "      <th>Second</th>\n",
              "      <td>0.090110</td>\n",
              "      <td>0.889290</td>\n",
              "      <td>0.020599</td>\n",
              "    </tr>\n",
              "    <tr>\n",
              "      <th>Third</th>\n",
              "      <td>0.114464</td>\n",
              "      <td>0.843108</td>\n",
              "      <td>0.042429</td>\n",
              "    </tr>\n",
              "  </tbody>\n",
              "</table>\n",
              "</div>"
            ],
            "text/plain": [
              "poutcome   failure  nonexistent   success\n",
              "Segment                                  \n",
              "First     0.108849     0.833601  0.057550\n",
              "Forth     0.109249     0.863612  0.027139\n",
              "Second    0.090110     0.889290  0.020599\n",
              "Third     0.114464     0.843108  0.042429"
            ]
          },
          "metadata": {},
          "execution_count": 39
        }
      ]
    },
    {
      "cell_type": "markdown",
      "metadata": {
        "id": "nUslgWMx3cgb"
      },
      "source": [
        "Cabe mencionar que en este caso forzamos la selección a 4 cluster ya que el método encontraba solo 2 y no resultaba suficiente para caracterizar de manera adecuada a la población de clientes tan diversa. Por tal razón, forzamos al método a utilizar 4 cluster y reportamos estos resultados. \n",
        "\n",
        "Encontramos algunas diferencias, aunque no de gran magnitud en la propensión a contratar PF. El grupo que presenta mayor propensión a contratar PF está conformado mayormente por clientes de bajo nivel educativo, casados, con una edad promedio de entre 57-58 años que tienen trabajos del tipo Cuenta Propia o Directivo. Este resultado es similar al encontrado por el método KMeans en la notebook principal. Asimismo, en este grupo se advierte la mayor proporción de clientes contactados anteriormente y el mayor porcentaje de éxitos en campañas previas.\n",
        "\n",
        "Adicionalmente, el grupo que presenta la menor propensión a contratar PF está conformado mayormente por universitarios, casados, cuya edad promedio se encuentra en torno a los 36 años, y tienen trabajos de tipo administrativos."
      ],
      "id": "nUslgWMx3cgb"
    },
    {
      "cell_type": "markdown",
      "metadata": {
        "id": "9a5a6475-65da-4cd0-870d-a15116198684"
      },
      "source": [
        "### Conclusión"
      ],
      "id": "9a5a6475-65da-4cd0-870d-a15116198684"
    },
    {
      "cell_type": "markdown",
      "metadata": {
        "id": "KzPYa1fe5Tkb"
      },
      "source": [
        "En esta notebook complementaria se presentaron algunos resultados extras del análisis que contempló las características personales del cliente, las cuales se presentaban por medio de variables categóricas, para el análisis de clusters. Si bien no se obtuvieron resultados concluyentes, lo arriba analizado permite aportar un poco más de información sobre la segmentación de clientes y las diferencias (o no diferencias mayormente) encontradas sobre las propensiones a contratar PF."
      ],
      "id": "KzPYa1fe5Tkb"
    }
  ]
}