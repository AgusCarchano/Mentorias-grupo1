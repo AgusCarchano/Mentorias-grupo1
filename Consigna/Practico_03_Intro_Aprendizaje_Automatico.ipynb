{
  "nbformat": 4,
  "nbformat_minor": 5,
  "metadata": {
    "kernelspec": {
      "display_name": "Python 3",
      "language": "python",
      "name": "python3"
    },
    "language_info": {
      "codemirror_mode": {
        "name": "ipython",
        "version": 3
      },
      "file_extension": ".py",
      "mimetype": "text/x-python",
      "name": "python",
      "nbconvert_exporter": "python",
      "pygments_lexer": "ipython3",
      "version": "3.9.5"
    },
    "toc-autonumbering": true,
    "colab": {
      "name": "Practico_03_Intro_Aprendizaje_Automatico.ipynb",
      "provenance": []
    }
  },
  "cells": [
    {
      "cell_type": "code",
      "metadata": {
        "id": "d6e3a8e9-d57f-43bc-8574-cb8b8640cf95"
      },
      "source": [
        "import numpy as np\n",
        "import pandas as pd\n",
        "import matplotlib.pyplot as plt\n",
        "import seaborn as sns\n",
        "\n",
        "from sklearn.model_selection import train_test_split\n",
        "from sklearn.impute import SimpleImputer\n",
        "from sklearn.preprocessing import OneHotEncoder, StandardScaler\n",
        "from sklearn.pipeline import Pipeline\n",
        "from sklearn.compose import ColumnTransformer"
      ],
      "id": "d6e3a8e9-d57f-43bc-8574-cb8b8640cf95",
      "execution_count": null,
      "outputs": []
    },
    {
      "cell_type": "code",
      "metadata": {
        "id": "66f58817-99a9-420e-ba98-8515f8d7b153"
      },
      "source": [
        "# Opción para ver todas las columnas del dataset en el notebook\n",
        "pd.set_option('display.max_columns', 50)"
      ],
      "id": "66f58817-99a9-420e-ba98-8515f8d7b153",
      "execution_count": null,
      "outputs": []
    },
    {
      "cell_type": "markdown",
      "metadata": {
        "id": "3d777221-43e0-4eec-86f9-ecc19f327675"
      },
      "source": [
        "# Práctico 03: Introducción al aprendizaje automático"
      ],
      "id": "3d777221-43e0-4eec-86f9-ecc19f327675"
    },
    {
      "cell_type": "markdown",
      "metadata": {
        "id": "5e4a8a37-b485-472c-a083-d12e6535641b"
      },
      "source": [
        "Para poder desarrollar nuestro clasificador, comenzaremos con la etapa de preprocesamiento, en el que prepararemos los datos para ser insertados a nuestro modelo. Crearemos nuestro baseline y comenzaremos a crear features nuevas para nuestro modelo."
      ],
      "id": "5e4a8a37-b485-472c-a083-d12e6535641b"
    },
    {
      "cell_type": "markdown",
      "metadata": {
        "id": "c5a7e865-52b6-44cf-9304-9bf9f9f8de3c"
      },
      "source": [
        "## Objetivo del práctico"
      ],
      "id": "c5a7e865-52b6-44cf-9304-9bf9f9f8de3c"
    },
    {
      "cell_type": "markdown",
      "metadata": {
        "id": "ad2e5dd3-2d30-4466-b791-d592c992867f"
      },
      "source": [
        "### Preprocesamiento\n",
        "- Tratamiento de valores nulos\n",
        "- Estandarización\n",
        "- Encoding de variables categóricas"
      ],
      "id": "ad2e5dd3-2d30-4466-b791-d592c992867f"
    },
    {
      "cell_type": "markdown",
      "metadata": {
        "id": "970d7c4a-37e7-49f0-9239-d06e45b3f0aa"
      },
      "source": [
        "### Train-Validation-Test\n",
        "- División del dataset en train/validation/test\n",
        "- Estratificación"
      ],
      "id": "970d7c4a-37e7-49f0-9239-d06e45b3f0aa"
    },
    {
      "cell_type": "markdown",
      "metadata": {
        "id": "6a5ebc3d-05ce-4054-8c85-e0dcdd1ce1c1"
      },
      "source": [
        "### Primer modelo baseline"
      ],
      "id": "6a5ebc3d-05ce-4054-8c85-e0dcdd1ce1c1"
    },
    {
      "cell_type": "markdown",
      "metadata": {
        "id": "e50c78c7-480c-412d-9d54-e509416d2dfc"
      },
      "source": [
        "Una vez preparado el dataset nuestra tarea será elegir qué métrica utilizaremos \n",
        "y entrenar diferentes modelos.\n",
        "- ¿Es un dataset balanceado o desbalanceado?\n",
        "- ¿Qué métrica utilizaremos para medir si funciona el modelo?\n",
        "- ¿Cómo sabemos si el modelo es útil o no?\n",
        "- ¿Qué modelos podemos probar? Recordemos que es necesario distinta preparación según el modelo que utilicemos."
      ],
      "id": "e50c78c7-480c-412d-9d54-e509416d2dfc"
    },
    {
      "cell_type": "markdown",
      "metadata": {
        "id": "7d3f5365-e26a-43ec-a2c3-d32af19f1277"
      },
      "source": [
        "### Presentación"
      ],
      "id": "7d3f5365-e26a-43ec-a2c3-d32af19f1277"
    },
    {
      "cell_type": "markdown",
      "metadata": {
        "id": "016b43f4-f32c-4633-b9ac-11b588309a40"
      },
      "source": [
        "Al final del práctico, es necesario hacer 1 o 2 slides que irán incluidos en la presentación final.  \n",
        "Los slides deberán contener las etapas de preprocesamiento que utilizamos junto al modelo baseline y \n",
        "sus respectivas métricas."
      ],
      "id": "016b43f4-f32c-4633-b9ac-11b588309a40"
    },
    {
      "cell_type": "markdown",
      "metadata": {
        "id": "9d816609-1700-4638-a473-f89f92561cd0"
      },
      "source": [
        "### Librerías recomendadas"
      ],
      "id": "9d816609-1700-4638-a473-f89f92561cd0"
    },
    {
      "cell_type": "markdown",
      "metadata": {
        "id": "f6a9029c-0df9-4b15-96f8-fdc0464cd561"
      },
      "source": [
        "Utilizaremos principalmente scikit-learn, opcionalmente xgboost y lightgbm.  \n",
        "Recomiendo el siguiente material:  \n",
        "- https://www.oreilly.com/library/view/hands-on-machine-learning/9781492032632/ -> Recomiendo los primeros capitulos de este libro. Enseña a usar pipelines.\n",
        "- https://scikit-learn.org/stable/ -> Referencia de librería scikit-learn. Contiene casi todo lo que vamos a utilizar, pipelines, preprocesamiento y varios modelos.\n",
        "- https://xgboost.readthedocs.io/en/latest/ -> Librería muy utilizada debido a que tiene muy buenos resultados. Es un tipo de algoritmo \"boosting tree\"\n",
        "- https://lightgbm.readthedocs.io/en/latest/ -> Otra librería similar a xgboost, cada vez se usa más, debido a su facilidad de uso y buenos resultados.\n",
        "- https://www.youtube.com/watch?v=BFaadIqWlAg -> Charla de PyData donde muestra el uso de pipelines"
      ],
      "id": "f6a9029c-0df9-4b15-96f8-fdc0464cd561"
    },
    {
      "cell_type": "markdown",
      "metadata": {
        "id": "6aebe6c2-201c-4a50-9a23-5ac2b45e7e65"
      },
      "source": [
        "## Práctico 03: Introducción al aprendizaje automático - Resolución"
      ],
      "id": "6aebe6c2-201c-4a50-9a23-5ac2b45e7e65"
    },
    {
      "cell_type": "markdown",
      "metadata": {
        "id": "5de799ed-8976-4434-8553-33224957c10f"
      },
      "source": [
        "### Leer el dataset"
      ],
      "id": "5de799ed-8976-4434-8553-33224957c10f"
    },
    {
      "cell_type": "code",
      "metadata": {
        "id": "bf3b1566-2bb9-446e-8f3d-bacbeca84539"
      },
      "source": [
        "# Leemos el dataset con la función de pandas \"read_csv\"\n",
        "df = pd.read_csv(\"data/bank-additional-full.csv\", sep=\";\")"
      ],
      "id": "bf3b1566-2bb9-446e-8f3d-bacbeca84539",
      "execution_count": null,
      "outputs": []
    },
    {
      "cell_type": "code",
      "metadata": {
        "id": "5cc33131-1f42-4c15-a16a-1bf6259f7d26",
        "outputId": "5e1d49c2-68b7-4260-b9de-b1e9755df8d9"
      },
      "source": [
        "df"
      ],
      "id": "5cc33131-1f42-4c15-a16a-1bf6259f7d26",
      "execution_count": null,
      "outputs": [
        {
          "data": {
            "text/html": [
              "<div>\n",
              "<style scoped>\n",
              "    .dataframe tbody tr th:only-of-type {\n",
              "        vertical-align: middle;\n",
              "    }\n",
              "\n",
              "    .dataframe tbody tr th {\n",
              "        vertical-align: top;\n",
              "    }\n",
              "\n",
              "    .dataframe thead th {\n",
              "        text-align: right;\n",
              "    }\n",
              "</style>\n",
              "<table border=\"1\" class=\"dataframe\">\n",
              "  <thead>\n",
              "    <tr style=\"text-align: right;\">\n",
              "      <th></th>\n",
              "      <th>age</th>\n",
              "      <th>job</th>\n",
              "      <th>marital</th>\n",
              "      <th>education</th>\n",
              "      <th>default</th>\n",
              "      <th>housing</th>\n",
              "      <th>loan</th>\n",
              "      <th>contact</th>\n",
              "      <th>month</th>\n",
              "      <th>day_of_week</th>\n",
              "      <th>duration</th>\n",
              "      <th>campaign</th>\n",
              "      <th>pdays</th>\n",
              "      <th>previous</th>\n",
              "      <th>poutcome</th>\n",
              "      <th>emp.var.rate</th>\n",
              "      <th>cons.price.idx</th>\n",
              "      <th>cons.conf.idx</th>\n",
              "      <th>euribor3m</th>\n",
              "      <th>nr.employed</th>\n",
              "      <th>y</th>\n",
              "    </tr>\n",
              "  </thead>\n",
              "  <tbody>\n",
              "    <tr>\n",
              "      <th>0</th>\n",
              "      <td>56</td>\n",
              "      <td>housemaid</td>\n",
              "      <td>married</td>\n",
              "      <td>basic.4y</td>\n",
              "      <td>no</td>\n",
              "      <td>no</td>\n",
              "      <td>no</td>\n",
              "      <td>telephone</td>\n",
              "      <td>may</td>\n",
              "      <td>mon</td>\n",
              "      <td>261</td>\n",
              "      <td>1</td>\n",
              "      <td>999</td>\n",
              "      <td>0</td>\n",
              "      <td>nonexistent</td>\n",
              "      <td>1.1</td>\n",
              "      <td>93.994</td>\n",
              "      <td>-36.4</td>\n",
              "      <td>4.857</td>\n",
              "      <td>5191.0</td>\n",
              "      <td>no</td>\n",
              "    </tr>\n",
              "    <tr>\n",
              "      <th>1</th>\n",
              "      <td>57</td>\n",
              "      <td>services</td>\n",
              "      <td>married</td>\n",
              "      <td>high.school</td>\n",
              "      <td>unknown</td>\n",
              "      <td>no</td>\n",
              "      <td>no</td>\n",
              "      <td>telephone</td>\n",
              "      <td>may</td>\n",
              "      <td>mon</td>\n",
              "      <td>149</td>\n",
              "      <td>1</td>\n",
              "      <td>999</td>\n",
              "      <td>0</td>\n",
              "      <td>nonexistent</td>\n",
              "      <td>1.1</td>\n",
              "      <td>93.994</td>\n",
              "      <td>-36.4</td>\n",
              "      <td>4.857</td>\n",
              "      <td>5191.0</td>\n",
              "      <td>no</td>\n",
              "    </tr>\n",
              "    <tr>\n",
              "      <th>2</th>\n",
              "      <td>37</td>\n",
              "      <td>services</td>\n",
              "      <td>married</td>\n",
              "      <td>high.school</td>\n",
              "      <td>no</td>\n",
              "      <td>yes</td>\n",
              "      <td>no</td>\n",
              "      <td>telephone</td>\n",
              "      <td>may</td>\n",
              "      <td>mon</td>\n",
              "      <td>226</td>\n",
              "      <td>1</td>\n",
              "      <td>999</td>\n",
              "      <td>0</td>\n",
              "      <td>nonexistent</td>\n",
              "      <td>1.1</td>\n",
              "      <td>93.994</td>\n",
              "      <td>-36.4</td>\n",
              "      <td>4.857</td>\n",
              "      <td>5191.0</td>\n",
              "      <td>no</td>\n",
              "    </tr>\n",
              "    <tr>\n",
              "      <th>3</th>\n",
              "      <td>40</td>\n",
              "      <td>admin.</td>\n",
              "      <td>married</td>\n",
              "      <td>basic.6y</td>\n",
              "      <td>no</td>\n",
              "      <td>no</td>\n",
              "      <td>no</td>\n",
              "      <td>telephone</td>\n",
              "      <td>may</td>\n",
              "      <td>mon</td>\n",
              "      <td>151</td>\n",
              "      <td>1</td>\n",
              "      <td>999</td>\n",
              "      <td>0</td>\n",
              "      <td>nonexistent</td>\n",
              "      <td>1.1</td>\n",
              "      <td>93.994</td>\n",
              "      <td>-36.4</td>\n",
              "      <td>4.857</td>\n",
              "      <td>5191.0</td>\n",
              "      <td>no</td>\n",
              "    </tr>\n",
              "    <tr>\n",
              "      <th>4</th>\n",
              "      <td>56</td>\n",
              "      <td>services</td>\n",
              "      <td>married</td>\n",
              "      <td>high.school</td>\n",
              "      <td>no</td>\n",
              "      <td>no</td>\n",
              "      <td>yes</td>\n",
              "      <td>telephone</td>\n",
              "      <td>may</td>\n",
              "      <td>mon</td>\n",
              "      <td>307</td>\n",
              "      <td>1</td>\n",
              "      <td>999</td>\n",
              "      <td>0</td>\n",
              "      <td>nonexistent</td>\n",
              "      <td>1.1</td>\n",
              "      <td>93.994</td>\n",
              "      <td>-36.4</td>\n",
              "      <td>4.857</td>\n",
              "      <td>5191.0</td>\n",
              "      <td>no</td>\n",
              "    </tr>\n",
              "    <tr>\n",
              "      <th>...</th>\n",
              "      <td>...</td>\n",
              "      <td>...</td>\n",
              "      <td>...</td>\n",
              "      <td>...</td>\n",
              "      <td>...</td>\n",
              "      <td>...</td>\n",
              "      <td>...</td>\n",
              "      <td>...</td>\n",
              "      <td>...</td>\n",
              "      <td>...</td>\n",
              "      <td>...</td>\n",
              "      <td>...</td>\n",
              "      <td>...</td>\n",
              "      <td>...</td>\n",
              "      <td>...</td>\n",
              "      <td>...</td>\n",
              "      <td>...</td>\n",
              "      <td>...</td>\n",
              "      <td>...</td>\n",
              "      <td>...</td>\n",
              "      <td>...</td>\n",
              "    </tr>\n",
              "    <tr>\n",
              "      <th>41183</th>\n",
              "      <td>73</td>\n",
              "      <td>retired</td>\n",
              "      <td>married</td>\n",
              "      <td>professional.course</td>\n",
              "      <td>no</td>\n",
              "      <td>yes</td>\n",
              "      <td>no</td>\n",
              "      <td>cellular</td>\n",
              "      <td>nov</td>\n",
              "      <td>fri</td>\n",
              "      <td>334</td>\n",
              "      <td>1</td>\n",
              "      <td>999</td>\n",
              "      <td>0</td>\n",
              "      <td>nonexistent</td>\n",
              "      <td>-1.1</td>\n",
              "      <td>94.767</td>\n",
              "      <td>-50.8</td>\n",
              "      <td>1.028</td>\n",
              "      <td>4963.6</td>\n",
              "      <td>yes</td>\n",
              "    </tr>\n",
              "    <tr>\n",
              "      <th>41184</th>\n",
              "      <td>46</td>\n",
              "      <td>blue-collar</td>\n",
              "      <td>married</td>\n",
              "      <td>professional.course</td>\n",
              "      <td>no</td>\n",
              "      <td>no</td>\n",
              "      <td>no</td>\n",
              "      <td>cellular</td>\n",
              "      <td>nov</td>\n",
              "      <td>fri</td>\n",
              "      <td>383</td>\n",
              "      <td>1</td>\n",
              "      <td>999</td>\n",
              "      <td>0</td>\n",
              "      <td>nonexistent</td>\n",
              "      <td>-1.1</td>\n",
              "      <td>94.767</td>\n",
              "      <td>-50.8</td>\n",
              "      <td>1.028</td>\n",
              "      <td>4963.6</td>\n",
              "      <td>no</td>\n",
              "    </tr>\n",
              "    <tr>\n",
              "      <th>41185</th>\n",
              "      <td>56</td>\n",
              "      <td>retired</td>\n",
              "      <td>married</td>\n",
              "      <td>university.degree</td>\n",
              "      <td>no</td>\n",
              "      <td>yes</td>\n",
              "      <td>no</td>\n",
              "      <td>cellular</td>\n",
              "      <td>nov</td>\n",
              "      <td>fri</td>\n",
              "      <td>189</td>\n",
              "      <td>2</td>\n",
              "      <td>999</td>\n",
              "      <td>0</td>\n",
              "      <td>nonexistent</td>\n",
              "      <td>-1.1</td>\n",
              "      <td>94.767</td>\n",
              "      <td>-50.8</td>\n",
              "      <td>1.028</td>\n",
              "      <td>4963.6</td>\n",
              "      <td>no</td>\n",
              "    </tr>\n",
              "    <tr>\n",
              "      <th>41186</th>\n",
              "      <td>44</td>\n",
              "      <td>technician</td>\n",
              "      <td>married</td>\n",
              "      <td>professional.course</td>\n",
              "      <td>no</td>\n",
              "      <td>no</td>\n",
              "      <td>no</td>\n",
              "      <td>cellular</td>\n",
              "      <td>nov</td>\n",
              "      <td>fri</td>\n",
              "      <td>442</td>\n",
              "      <td>1</td>\n",
              "      <td>999</td>\n",
              "      <td>0</td>\n",
              "      <td>nonexistent</td>\n",
              "      <td>-1.1</td>\n",
              "      <td>94.767</td>\n",
              "      <td>-50.8</td>\n",
              "      <td>1.028</td>\n",
              "      <td>4963.6</td>\n",
              "      <td>yes</td>\n",
              "    </tr>\n",
              "    <tr>\n",
              "      <th>41187</th>\n",
              "      <td>74</td>\n",
              "      <td>retired</td>\n",
              "      <td>married</td>\n",
              "      <td>professional.course</td>\n",
              "      <td>no</td>\n",
              "      <td>yes</td>\n",
              "      <td>no</td>\n",
              "      <td>cellular</td>\n",
              "      <td>nov</td>\n",
              "      <td>fri</td>\n",
              "      <td>239</td>\n",
              "      <td>3</td>\n",
              "      <td>999</td>\n",
              "      <td>1</td>\n",
              "      <td>failure</td>\n",
              "      <td>-1.1</td>\n",
              "      <td>94.767</td>\n",
              "      <td>-50.8</td>\n",
              "      <td>1.028</td>\n",
              "      <td>4963.6</td>\n",
              "      <td>no</td>\n",
              "    </tr>\n",
              "  </tbody>\n",
              "</table>\n",
              "<p>41188 rows × 21 columns</p>\n",
              "</div>"
            ],
            "text/plain": [
              "       age          job  marital            education  default housing loan  \\\n",
              "0       56    housemaid  married             basic.4y       no      no   no   \n",
              "1       57     services  married          high.school  unknown      no   no   \n",
              "2       37     services  married          high.school       no     yes   no   \n",
              "3       40       admin.  married             basic.6y       no      no   no   \n",
              "4       56     services  married          high.school       no      no  yes   \n",
              "...    ...          ...      ...                  ...      ...     ...  ...   \n",
              "41183   73      retired  married  professional.course       no     yes   no   \n",
              "41184   46  blue-collar  married  professional.course       no      no   no   \n",
              "41185   56      retired  married    university.degree       no     yes   no   \n",
              "41186   44   technician  married  professional.course       no      no   no   \n",
              "41187   74      retired  married  professional.course       no     yes   no   \n",
              "\n",
              "         contact month day_of_week  duration  campaign  pdays  previous  \\\n",
              "0      telephone   may         mon       261         1    999         0   \n",
              "1      telephone   may         mon       149         1    999         0   \n",
              "2      telephone   may         mon       226         1    999         0   \n",
              "3      telephone   may         mon       151         1    999         0   \n",
              "4      telephone   may         mon       307         1    999         0   \n",
              "...          ...   ...         ...       ...       ...    ...       ...   \n",
              "41183   cellular   nov         fri       334         1    999         0   \n",
              "41184   cellular   nov         fri       383         1    999         0   \n",
              "41185   cellular   nov         fri       189         2    999         0   \n",
              "41186   cellular   nov         fri       442         1    999         0   \n",
              "41187   cellular   nov         fri       239         3    999         1   \n",
              "\n",
              "          poutcome  emp.var.rate  cons.price.idx  cons.conf.idx  euribor3m  \\\n",
              "0      nonexistent           1.1          93.994          -36.4      4.857   \n",
              "1      nonexistent           1.1          93.994          -36.4      4.857   \n",
              "2      nonexistent           1.1          93.994          -36.4      4.857   \n",
              "3      nonexistent           1.1          93.994          -36.4      4.857   \n",
              "4      nonexistent           1.1          93.994          -36.4      4.857   \n",
              "...            ...           ...             ...            ...        ...   \n",
              "41183  nonexistent          -1.1          94.767          -50.8      1.028   \n",
              "41184  nonexistent          -1.1          94.767          -50.8      1.028   \n",
              "41185  nonexistent          -1.1          94.767          -50.8      1.028   \n",
              "41186  nonexistent          -1.1          94.767          -50.8      1.028   \n",
              "41187      failure          -1.1          94.767          -50.8      1.028   \n",
              "\n",
              "       nr.employed    y  \n",
              "0           5191.0   no  \n",
              "1           5191.0   no  \n",
              "2           5191.0   no  \n",
              "3           5191.0   no  \n",
              "4           5191.0   no  \n",
              "...            ...  ...  \n",
              "41183       4963.6  yes  \n",
              "41184       4963.6   no  \n",
              "41185       4963.6   no  \n",
              "41186       4963.6  yes  \n",
              "41187       4963.6   no  \n",
              "\n",
              "[41188 rows x 21 columns]"
            ]
          },
          "execution_count": 7,
          "metadata": {},
          "output_type": "execute_result"
        }
      ]
    },
    {
      "cell_type": "code",
      "metadata": {
        "id": "ce45b4c8-6ee5-42e3-98df-6147f17d4be0"
      },
      "source": [
        ""
      ],
      "id": "ce45b4c8-6ee5-42e3-98df-6147f17d4be0",
      "execution_count": null,
      "outputs": []
    },
    {
      "cell_type": "markdown",
      "metadata": {
        "id": "21891885-8749-4bd7-80fe-42cd503fc27b"
      },
      "source": [
        "### Análisis de las variables"
      ],
      "id": "21891885-8749-4bd7-80fe-42cd503fc27b"
    },
    {
      "cell_type": "markdown",
      "metadata": {
        "id": "4fb0f243-4165-4e18-86f8-9a0edc89fa8c"
      },
      "source": [
        "#### Valores nulos"
      ],
      "id": "4fb0f243-4165-4e18-86f8-9a0edc89fa8c"
    },
    {
      "cell_type": "code",
      "metadata": {
        "id": "e4ee37b2-841d-4b69-9b06-0835511b9cda"
      },
      "source": [
        "# ¿Qué hacemos con los valores nulos? ¿Eliminar fila, columna, imputar?\n",
        "# ¿Cuál es el requerimiento de los diferentes modelos con respecto a los valore nulos? Hint: xgboost permite valores nulos"
      ],
      "id": "e4ee37b2-841d-4b69-9b06-0835511b9cda",
      "execution_count": null,
      "outputs": []
    },
    {
      "cell_type": "markdown",
      "metadata": {
        "id": "3f0604f5-3047-4f56-9d5e-6f92f39a12b5"
      },
      "source": [
        "#### Estandarización"
      ],
      "id": "3f0604f5-3047-4f56-9d5e-6f92f39a12b5"
    },
    {
      "cell_type": "code",
      "metadata": {
        "id": "0c388155-f9c1-47ec-9b67-b00349ebbd2c"
      },
      "source": [
        "# ¿Cuál es el requerimiento de los diferentes modelos con respecto a la estandarización? Hint: Los modelos de árboles no necesitan estandarización"
      ],
      "id": "0c388155-f9c1-47ec-9b67-b00349ebbd2c",
      "execution_count": null,
      "outputs": []
    },
    {
      "cell_type": "markdown",
      "metadata": {
        "id": "ef09fa6b-4504-4997-8c10-bfd162d3ab81"
      },
      "source": [
        "#### Variables categóricas y numéricas"
      ],
      "id": "ef09fa6b-4504-4997-8c10-bfd162d3ab81"
    },
    {
      "cell_type": "code",
      "metadata": {
        "id": "ffbda9f3-4f7a-4bee-9995-6340b4dcd998"
      },
      "source": [
        "# Debemos diferenciar cuáles son las variables categóricas y cuáles son numéricas\n",
        "# No es tan simple como ver el tipo, por ejemplo un ID numérico 4556 es una variable categórica\n",
        "# Si por ejemplo convertimos la variable de edad en 4 buckets (0 a 20, 21 a 40, 41 a 60, 61 a 100) pasa a ser una variable categórica"
      ],
      "id": "ffbda9f3-4f7a-4bee-9995-6340b4dcd998",
      "execution_count": null,
      "outputs": []
    },
    {
      "cell_type": "code",
      "metadata": {
        "id": "f394b2fb-08bf-4630-a7f2-bfee96d1ce74",
        "outputId": "250f8380-222d-4916-fd3e-b70af94bdb32"
      },
      "source": [
        "df.info()"
      ],
      "id": "f394b2fb-08bf-4630-a7f2-bfee96d1ce74",
      "execution_count": null,
      "outputs": [
        {
          "name": "stdout",
          "output_type": "stream",
          "text": [
            "<class 'pandas.core.frame.DataFrame'>\n",
            "RangeIndex: 41188 entries, 0 to 41187\n",
            "Data columns (total 21 columns):\n",
            " #   Column          Non-Null Count  Dtype  \n",
            "---  ------          --------------  -----  \n",
            " 0   age             41188 non-null  int64  \n",
            " 1   job             41188 non-null  object \n",
            " 2   marital         41188 non-null  object \n",
            " 3   education       41188 non-null  object \n",
            " 4   default         41188 non-null  object \n",
            " 5   housing         41188 non-null  object \n",
            " 6   loan            41188 non-null  object \n",
            " 7   contact         41188 non-null  object \n",
            " 8   month           41188 non-null  object \n",
            " 9   day_of_week     41188 non-null  object \n",
            " 10  duration        41188 non-null  int64  \n",
            " 11  campaign        41188 non-null  int64  \n",
            " 12  pdays           41188 non-null  int64  \n",
            " 13  previous        41188 non-null  int64  \n",
            " 14  poutcome        41188 non-null  object \n",
            " 15  emp.var.rate    41188 non-null  float64\n",
            " 16  cons.price.idx  41188 non-null  float64\n",
            " 17  cons.conf.idx   41188 non-null  float64\n",
            " 18  euribor3m       41188 non-null  float64\n",
            " 19  nr.employed     41188 non-null  float64\n",
            " 20  y               41188 non-null  object \n",
            "dtypes: float64(5), int64(5), object(11)\n",
            "memory usage: 6.6+ MB\n"
          ]
        }
      ]
    },
    {
      "cell_type": "code",
      "metadata": {
        "id": "1c677e19-3b05-4a40-88c9-4be0b40a15ce"
      },
      "source": [
        "variables_categoricas = ['variable1', 'variable2', ]\n",
        "variables_numericas = ['variable3', 'variable4', ]"
      ],
      "id": "1c677e19-3b05-4a40-88c9-4be0b40a15ce",
      "execution_count": null,
      "outputs": []
    },
    {
      "cell_type": "markdown",
      "metadata": {
        "id": "03d48365-353d-4858-abef-c8b858cb5acf"
      },
      "source": [
        "#### Correlación entre variables"
      ],
      "id": "03d48365-353d-4858-abef-c8b858cb5acf"
    },
    {
      "cell_type": "code",
      "metadata": {
        "id": "6bf6c7a0-0c81-4b2d-8c27-44cb720f5a33"
      },
      "source": [
        "# No olvidemos tener presente la correlación entre variables: ¿Cuáles son los pares de variables más correlacionadas?"
      ],
      "id": "6bf6c7a0-0c81-4b2d-8c27-44cb720f5a33",
      "execution_count": null,
      "outputs": []
    },
    {
      "cell_type": "markdown",
      "metadata": {
        "id": "c4e5d18a-bebb-49d6-8096-824ba4510256"
      },
      "source": [
        "### División del dataset en train/validation/test"
      ],
      "id": "c4e5d18a-bebb-49d6-8096-824ba4510256"
    },
    {
      "cell_type": "code",
      "metadata": {
        "id": "6771ad3c-a958-48e6-bb6b-af4d150bb255"
      },
      "source": [
        "# Recordemos que siempre, SIEMPRE deberemos dividir el dataset en tres\n",
        "# Train: para entrenar el modelo\n",
        "# Validation: para verificar si el modelo esta overfiteando y optimizar hiperparámetros\n",
        "# Test: para verificar si la optimización de hiperparámetros está overfiteando, es lo más parecido a la realidad"
      ],
      "id": "6771ad3c-a958-48e6-bb6b-af4d150bb255",
      "execution_count": null,
      "outputs": []
    },
    {
      "cell_type": "markdown",
      "metadata": {
        "id": "444b5058-81e6-4e7a-8a1b-c58a29d63e09"
      },
      "source": [
        "<div>\n",
        "<img src=\"https://upload.wikimedia.org/wikipedia/commons/b/bb/ML_dataset_training_validation_test_sets.png\" width=\"500\"/>\n",
        "</div>"
      ],
      "id": "444b5058-81e6-4e7a-8a1b-c58a29d63e09"
    },
    {
      "cell_type": "code",
      "metadata": {
        "id": "01fdbd9c-6ce5-4a00-a9a0-b22112e4952a"
      },
      "source": [
        "# Utilizar train test split DOS veces, de modo que el resultado sean tres datasets\n",
        "# IMPORTANTE, esta función tiene un parámetro denominado \"stratified\", para qué sirve?\n",
        "# Deberíamos utilizar ese parámetro teniendo en cuenta que nuestro dataset está desbalanceado?"
      ],
      "id": "01fdbd9c-6ce5-4a00-a9a0-b22112e4952a",
      "execution_count": null,
      "outputs": []
    },
    {
      "cell_type": "code",
      "metadata": {
        "id": "c8104dbf-63e4-4397-81ab-f7926040dac4"
      },
      "source": [
        "# Reemplazamos la columna y (target) por 1 y 0\n",
        "df.y = df.y.replace('yes', 1)\n",
        "df.y = df.y.replace('no', 0)"
      ],
      "id": "c8104dbf-63e4-4397-81ab-f7926040dac4",
      "execution_count": null,
      "outputs": []
    },
    {
      "cell_type": "code",
      "metadata": {
        "id": "769f2dba-73a6-4006-b209-6cd943778b72",
        "outputId": "35f3500a-6b03-42f8-8e28-b04b1222daa2"
      },
      "source": [
        "df.y.value_counts()"
      ],
      "id": "769f2dba-73a6-4006-b209-6cd943778b72",
      "execution_count": null,
      "outputs": [
        {
          "data": {
            "text/plain": [
              "0    36548\n",
              "1     4640\n",
              "Name: y, dtype: int64"
            ]
          },
          "execution_count": 45,
          "metadata": {},
          "output_type": "execute_result"
        }
      ]
    },
    {
      "cell_type": "code",
      "metadata": {
        "id": "7ae48ac8-802b-45a2-a1b6-15d84a78b65b"
      },
      "source": [
        "X = df.drop(columns='y')\n",
        "y = df.y"
      ],
      "id": "7ae48ac8-802b-45a2-a1b6-15d84a78b65b",
      "execution_count": null,
      "outputs": []
    },
    {
      "cell_type": "code",
      "metadata": {
        "id": "e8f76942-6d02-4153-9b07-c22a033bbbb3"
      },
      "source": [
        "X_temp, X_val, y_temp, y_val = train_test_split(X, y, test_size=0.2, stratify=y)"
      ],
      "id": "e8f76942-6d02-4153-9b07-c22a033bbbb3",
      "execution_count": null,
      "outputs": []
    },
    {
      "cell_type": "code",
      "metadata": {
        "id": "8fb97414-0f68-43e1-bd87-400750e1f1ce",
        "outputId": "febd8c8d-d696-4a34-e21f-04f2dc20a7c1"
      },
      "source": [
        "X_temp.shape, y_temp.shape, X_val.shape, y_val.shape"
      ],
      "id": "8fb97414-0f68-43e1-bd87-400750e1f1ce",
      "execution_count": null,
      "outputs": [
        {
          "data": {
            "text/plain": [
              "((32950, 20), (32950,), (8238, 20), (8238,))"
            ]
          },
          "execution_count": 109,
          "metadata": {},
          "output_type": "execute_result"
        }
      ]
    },
    {
      "cell_type": "code",
      "metadata": {
        "id": "027d679d-08bd-4dec-9bac-d11c226b4982"
      },
      "source": [
        "X_train, X_test, y_train, y_test = train_test_split(X_temp, y_temp, test_size=0.2, stratify=y_temp)"
      ],
      "id": "027d679d-08bd-4dec-9bac-d11c226b4982",
      "execution_count": null,
      "outputs": []
    },
    {
      "cell_type": "code",
      "metadata": {
        "id": "6f3ece3c-3220-4bb4-9675-721c88ae0ff8",
        "outputId": "53623034-e98d-476d-f405-0decfa5e1a4e"
      },
      "source": [
        "X_train.shape, y_train.shape, X_test.shape, y_test.shape"
      ],
      "id": "6f3ece3c-3220-4bb4-9675-721c88ae0ff8",
      "execution_count": null,
      "outputs": [
        {
          "data": {
            "text/plain": [
              "((26360, 20), (26360,), (6590, 20), (6590,))"
            ]
          },
          "execution_count": 111,
          "metadata": {},
          "output_type": "execute_result"
        }
      ]
    },
    {
      "cell_type": "markdown",
      "metadata": {
        "id": "d34976dc-0397-41d4-95ae-6a2220872522"
      },
      "source": [
        "#### Preprocesamiento con Pipelines"
      ],
      "id": "d34976dc-0397-41d4-95ae-6a2220872522"
    },
    {
      "cell_type": "code",
      "metadata": {
        "id": "78b87b14-18a2-4349-aa17-1c875031880f"
      },
      "source": [
        "# Una vez dividido el dataset, procederemos a aplicar transformaciones utilizando pipelines.\n",
        "# Los pipelines tienen varias ventajas, como organización y evitar algunos tipos de data leakage"
      ],
      "id": "78b87b14-18a2-4349-aa17-1c875031880f",
      "execution_count": null,
      "outputs": []
    },
    {
      "cell_type": "code",
      "metadata": {
        "id": "e88bd409-8954-4e4d-9201-e90524b6f5ca",
        "outputId": "4194dd8e-7642-4c7c-8145-28d34ba3c2a1"
      },
      "source": [
        "df.head(3)"
      ],
      "id": "e88bd409-8954-4e4d-9201-e90524b6f5ca",
      "execution_count": null,
      "outputs": [
        {
          "data": {
            "text/html": [
              "<div>\n",
              "<style scoped>\n",
              "    .dataframe tbody tr th:only-of-type {\n",
              "        vertical-align: middle;\n",
              "    }\n",
              "\n",
              "    .dataframe tbody tr th {\n",
              "        vertical-align: top;\n",
              "    }\n",
              "\n",
              "    .dataframe thead th {\n",
              "        text-align: right;\n",
              "    }\n",
              "</style>\n",
              "<table border=\"1\" class=\"dataframe\">\n",
              "  <thead>\n",
              "    <tr style=\"text-align: right;\">\n",
              "      <th></th>\n",
              "      <th>age</th>\n",
              "      <th>job</th>\n",
              "      <th>marital</th>\n",
              "      <th>education</th>\n",
              "      <th>default</th>\n",
              "      <th>housing</th>\n",
              "      <th>loan</th>\n",
              "      <th>contact</th>\n",
              "      <th>month</th>\n",
              "      <th>day_of_week</th>\n",
              "      <th>duration</th>\n",
              "      <th>campaign</th>\n",
              "      <th>pdays</th>\n",
              "      <th>previous</th>\n",
              "      <th>poutcome</th>\n",
              "      <th>emp.var.rate</th>\n",
              "      <th>cons.price.idx</th>\n",
              "      <th>cons.conf.idx</th>\n",
              "      <th>euribor3m</th>\n",
              "      <th>nr.employed</th>\n",
              "      <th>y</th>\n",
              "    </tr>\n",
              "  </thead>\n",
              "  <tbody>\n",
              "    <tr>\n",
              "      <th>0</th>\n",
              "      <td>56</td>\n",
              "      <td>housemaid</td>\n",
              "      <td>married</td>\n",
              "      <td>basic.4y</td>\n",
              "      <td>no</td>\n",
              "      <td>no</td>\n",
              "      <td>no</td>\n",
              "      <td>telephone</td>\n",
              "      <td>may</td>\n",
              "      <td>mon</td>\n",
              "      <td>261</td>\n",
              "      <td>1</td>\n",
              "      <td>999</td>\n",
              "      <td>0</td>\n",
              "      <td>nonexistent</td>\n",
              "      <td>1.1</td>\n",
              "      <td>93.994</td>\n",
              "      <td>-36.4</td>\n",
              "      <td>4.857</td>\n",
              "      <td>5191.0</td>\n",
              "      <td>0</td>\n",
              "    </tr>\n",
              "    <tr>\n",
              "      <th>1</th>\n",
              "      <td>57</td>\n",
              "      <td>services</td>\n",
              "      <td>married</td>\n",
              "      <td>high.school</td>\n",
              "      <td>unknown</td>\n",
              "      <td>no</td>\n",
              "      <td>no</td>\n",
              "      <td>telephone</td>\n",
              "      <td>may</td>\n",
              "      <td>mon</td>\n",
              "      <td>149</td>\n",
              "      <td>1</td>\n",
              "      <td>999</td>\n",
              "      <td>0</td>\n",
              "      <td>nonexistent</td>\n",
              "      <td>1.1</td>\n",
              "      <td>93.994</td>\n",
              "      <td>-36.4</td>\n",
              "      <td>4.857</td>\n",
              "      <td>5191.0</td>\n",
              "      <td>0</td>\n",
              "    </tr>\n",
              "    <tr>\n",
              "      <th>2</th>\n",
              "      <td>37</td>\n",
              "      <td>services</td>\n",
              "      <td>married</td>\n",
              "      <td>high.school</td>\n",
              "      <td>no</td>\n",
              "      <td>yes</td>\n",
              "      <td>no</td>\n",
              "      <td>telephone</td>\n",
              "      <td>may</td>\n",
              "      <td>mon</td>\n",
              "      <td>226</td>\n",
              "      <td>1</td>\n",
              "      <td>999</td>\n",
              "      <td>0</td>\n",
              "      <td>nonexistent</td>\n",
              "      <td>1.1</td>\n",
              "      <td>93.994</td>\n",
              "      <td>-36.4</td>\n",
              "      <td>4.857</td>\n",
              "      <td>5191.0</td>\n",
              "      <td>0</td>\n",
              "    </tr>\n",
              "  </tbody>\n",
              "</table>\n",
              "</div>"
            ],
            "text/plain": [
              "   age        job  marital    education  default housing loan    contact  \\\n",
              "0   56  housemaid  married     basic.4y       no      no   no  telephone   \n",
              "1   57   services  married  high.school  unknown      no   no  telephone   \n",
              "2   37   services  married  high.school       no     yes   no  telephone   \n",
              "\n",
              "  month day_of_week  duration  campaign  pdays  previous     poutcome  \\\n",
              "0   may         mon       261         1    999         0  nonexistent   \n",
              "1   may         mon       149         1    999         0  nonexistent   \n",
              "2   may         mon       226         1    999         0  nonexistent   \n",
              "\n",
              "   emp.var.rate  cons.price.idx  cons.conf.idx  euribor3m  nr.employed  y  \n",
              "0           1.1          93.994          -36.4      4.857       5191.0  0  \n",
              "1           1.1          93.994          -36.4      4.857       5191.0  0  \n",
              "2           1.1          93.994          -36.4      4.857       5191.0  0  "
            ]
          },
          "execution_count": 113,
          "metadata": {},
          "output_type": "execute_result"
        }
      ]
    },
    {
      "cell_type": "code",
      "metadata": {
        "id": "06be2dd9-8e9f-47d0-bf43-a23f094389c4"
      },
      "source": [
        "variables_numericas = ['cons.price.idx', 'cons.conf.idx', 'age']\n",
        "variables_categoricas = ['education', 'marital']\n",
        "\n",
        "# Filtramos las variables que seleccionamos\n",
        "X_t = X_train[variables_categoricas + variables_numericas]\n",
        "\n",
        "pipeline_numerico = Pipeline([\n",
        "                            # ('imputer', SimpleImputer(strategy='median')), # Imputador para variables nulas\n",
        "                            # ('custom_step', CustomStep()), # Proceso de pipeline propio\n",
        "                             ('standard_scaler', StandardScaler()),\n",
        "                            ])\n",
        "\n",
        "pipeline_completo = ColumnTransformer([('num', pipeline_numerico, variables_numericas),\n",
        "                                   ('cat', OneHotEncoder(), variables_categoricas),\n",
        "                                  ])\n",
        "\n",
        "train = pipeline_completo.fit_transform(X_t)"
      ],
      "id": "06be2dd9-8e9f-47d0-bf43-a23f094389c4",
      "execution_count": null,
      "outputs": []
    },
    {
      "cell_type": "code",
      "metadata": {
        "id": "deb8714b-d373-4c76-b150-86238c52ec7a",
        "outputId": "8cb4e46e-fda4-4823-a364-5f1f89d8dae8"
      },
      "source": [
        "X_t.shape, train.shape"
      ],
      "id": "deb8714b-d373-4c76-b150-86238c52ec7a",
      "execution_count": null,
      "outputs": [
        {
          "data": {
            "text/plain": [
              "((26360, 5), (26360, 15))"
            ]
          },
          "execution_count": 119,
          "metadata": {},
          "output_type": "execute_result"
        }
      ]
    },
    {
      "cell_type": "markdown",
      "metadata": {
        "id": "4e4f426c-cfb2-46db-9239-44bccd5e7a50"
      },
      "source": [
        "#### Preprocesamiento con Pipelines - Step customizado propio"
      ],
      "id": "4e4f426c-cfb2-46db-9239-44bccd5e7a50"
    },
    {
      "cell_type": "code",
      "metadata": {
        "id": "4d18960e-f5c3-4781-ab8b-d388d539d9d3"
      },
      "source": [
        "# De esta forma podemos realizar custom transformer\n",
        "# Todas las transformaciones deberían tener su propio transformer\n",
        "\n",
        "class SelectColumnsTransformer():\n",
        "    def __init__(self, columns=None):\n",
        "        self.columns = columns\n",
        "\n",
        "    def transform(self, X, **transform_params):\n",
        "        cpy_df = X[self.columns].copy()\n",
        "        return cpy_df\n",
        "\n",
        "    def fit(self, X, y=None, **fit_params):\n",
        "        return self\n",
        "})"
      ],
      "id": "4d18960e-f5c3-4781-ab8b-d388d539d9d3",
      "execution_count": null,
      "outputs": []
    },
    {
      "cell_type": "code",
      "metadata": {
        "id": "5c5f43df-704b-4353-9cc6-0130451a8c8c"
      },
      "source": [
        "variables_numericas = ['cons.price.idx', 'cons.conf.idx', 'age']\n",
        "variables_categoricas = ['education', 'marital']\n",
        "\n",
        "# Filtramos las variables que seleccionamos\n",
        "X_t = X_train[variables_categoricas + variables_numericas]\n",
        "\n",
        "pipeline_numerico = Pipeline([\n",
        "                            # ('imputer', SimpleImputer(strategy='median')), # Imputador para variables nulas\n",
        "                             ('select_numeric_columns', SelectColumnsTransformer(['cons.price.idx', 'cons.conf.idx'])), # Proceso de pipeline propio\n",
        "                             ('standard_scaler', StandardScaler()),\n",
        "                            ])\n",
        "\n",
        "pipeline_completo = ColumnTransformer([('num', pipeline_numerico, variables_numericas),\n",
        "                                   ('cat', OneHotEncoder(), variables_categoricas),\n",
        "                                  ])\n",
        "\n",
        "train = pipeline_completo.fit_transform(X_t)"
      ],
      "id": "5c5f43df-704b-4353-9cc6-0130451a8c8c",
      "execution_count": null,
      "outputs": []
    },
    {
      "cell_type": "code",
      "metadata": {
        "id": "64503952-36ef-4d7a-8b5f-ec2ae9c8dec0",
        "outputId": "8626cafe-4383-4a6d-fe9d-0d9ee6dc17e3"
      },
      "source": [
        "X_t.shape, train.shape"
      ],
      "id": "64503952-36ef-4d7a-8b5f-ec2ae9c8dec0",
      "execution_count": null,
      "outputs": [
        {
          "data": {
            "text/plain": [
              "((26360, 5), (26360, 14))"
            ]
          },
          "execution_count": 127,
          "metadata": {},
          "output_type": "execute_result"
        }
      ]
    },
    {
      "cell_type": "markdown",
      "metadata": {
        "id": "cf445a01-edbe-4e3f-af17-fe69271b25c7"
      },
      "source": [
        "### Modelo baseline"
      ],
      "id": "cf445a01-edbe-4e3f-af17-fe69271b25c7"
    },
    {
      "cell_type": "markdown",
      "metadata": {
        "id": "9aede13d-ab5a-4ab6-865b-be6132770e5c"
      },
      "source": [
        "#### Métricas"
      ],
      "id": "9aede13d-ab5a-4ab6-865b-be6132770e5c"
    },
    {
      "cell_type": "code",
      "metadata": {
        "id": "cee45716-5639-408d-a8a7-3ce8e14c42ac"
      },
      "source": [
        "# Partiendo del hecho que es un modelo de clasificación, desbalanceado\n",
        "# ¿Qué métricas utilizaremos y por qué? ¿Qué quiere decir cada métrica en términos de negocio?\n",
        "# ¿Cuál métrica sería la más útil para presentar al cliente?"
      ],
      "id": "cee45716-5639-408d-a8a7-3ce8e14c42ac",
      "execution_count": null,
      "outputs": []
    },
    {
      "cell_type": "markdown",
      "metadata": {
        "id": "cbf014ef-350a-4b19-b998-bf9c19d26d4e"
      },
      "source": [
        "#### Entrenamiento del modelo"
      ],
      "id": "cbf014ef-350a-4b19-b998-bf9c19d26d4e"
    },
    {
      "cell_type": "code",
      "metadata": {
        "id": "49b1d282-c15f-458c-b531-45ec10390eeb"
      },
      "source": [
        "# Entrenaremos varios modelos de scikit-learn que permitan clasificación binaria"
      ],
      "id": "49b1d282-c15f-458c-b531-45ec10390eeb",
      "execution_count": null,
      "outputs": []
    },
    {
      "cell_type": "markdown",
      "metadata": {
        "id": "0aee29f8-e059-4817-819e-7084597217b9"
      },
      "source": [
        "#### Cross validation"
      ],
      "id": "0aee29f8-e059-4817-819e-7084597217b9"
    },
    {
      "cell_type": "code",
      "metadata": {
        "id": "79b905ee-a676-4326-b2e0-ec7245433ebc"
      },
      "source": [
        "# Vamos a utilizar cross validation en train set, esto nos dará aún más seguridad sobre las métricas"
      ],
      "id": "79b905ee-a676-4326-b2e0-ec7245433ebc",
      "execution_count": null,
      "outputs": []
    },
    {
      "cell_type": "markdown",
      "metadata": {
        "id": "ad537c8f-8ad7-4bf0-abe9-216d2c64eb39"
      },
      "source": [
        "#### Cálculo de predicciones y métricas"
      ],
      "id": "ad537c8f-8ad7-4bf0-abe9-216d2c64eb39"
    },
    {
      "cell_type": "code",
      "metadata": {
        "id": "56a38da7-7956-465c-8e84-4082f1b6ca76"
      },
      "source": [
        "# Verificar las métricas en relación al validation y test set\n",
        "# Verificar si hay overfitting"
      ],
      "id": "56a38da7-7956-465c-8e84-4082f1b6ca76",
      "execution_count": null,
      "outputs": []
    },
    {
      "cell_type": "markdown",
      "metadata": {
        "id": "90b3a872-0a4c-4394-ac42-8b7b81b9c367"
      },
      "source": [
        "### Guardar el modelo en formato .pkl"
      ],
      "id": "90b3a872-0a4c-4394-ac42-8b7b81b9c367"
    },
    {
      "cell_type": "code",
      "metadata": {
        "id": "7892517f-581f-48b2-b058-4a664eb4b1c9"
      },
      "source": [
        "# Investigar cómo podemos serializar nuestro modelo para guardarlo como un archivo"
      ],
      "id": "7892517f-581f-48b2-b058-4a664eb4b1c9",
      "execution_count": null,
      "outputs": []
    }
  ]
}