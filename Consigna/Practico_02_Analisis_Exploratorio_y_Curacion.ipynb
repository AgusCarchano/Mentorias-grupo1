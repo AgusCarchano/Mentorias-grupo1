{
 "cells": [
  {
   "cell_type": "code",
   "execution_count": 7,
   "id": "d6e3a8e9-d57f-43bc-8574-cb8b8640cf95",
   "metadata": {},
   "outputs": [],
   "source": [
    "import numpy as np\n",
    "import pandas as pd\n",
    "import matplotlib.pyplot as plt\n",
    "import seaborn as sns"
   ]
  },
  {
   "cell_type": "code",
   "execution_count": 8,
   "id": "66f58817-99a9-420e-ba98-8515f8d7b153",
   "metadata": {},
   "outputs": [],
   "source": [
    "# Opción para ver todas las columnas del dataset en el notebook\n",
    "pd.set_option('display.max_columns', 50)"
   ]
  },
  {
   "cell_type": "markdown",
   "id": "3d777221-43e0-4eec-86f9-ecc19f327675",
   "metadata": {},
   "source": [
    "# Práctico 02: Análisis Exploratorio y Curación"
   ]
  },
  {
   "cell_type": "markdown",
   "id": "5e4a8a37-b485-472c-a083-d12e6535641b",
   "metadata": {},
   "source": [
    "Para poder continuar trabajando con nuestros datos, haremos la limpieza de los mismos, verificando cardinalidad, nulos, dispersiones, etc. Si es necesario, realizaremos agrupaciones y transformaciones."
   ]
  },
  {
   "cell_type": "markdown",
   "id": "c5a7e865-52b6-44cf-9304-9bf9f9f8de3c",
   "metadata": {},
   "source": [
    "## Objetivo del práctico"
   ]
  },
  {
   "cell_type": "markdown",
   "id": "ad2e5dd3-2d30-4466-b791-d592c992867f",
   "metadata": {},
   "source": [
    "### Verificar variable por variable\n",
    "- Distribución\n",
    "- Valores nulos\n",
    "- Cardinalidad y distribución\n",
    "- Outliers\n",
    "- Fechas\n",
    "- Correlaciones\n",
    "- Otros aspectos..."
   ]
  },
  {
   "cell_type": "markdown",
   "id": "6a5ebc3d-05ce-4054-8c85-e0dcdd1ce1c1",
   "metadata": {},
   "source": [
    "### Modificar el dataset aplicando transformaciones"
   ]
  },
  {
   "cell_type": "markdown",
   "id": "e50c78c7-480c-412d-9d54-e509416d2dfc",
   "metadata": {},
   "source": [
    "Una vez verificadas las variables tenemos que realizar transformaciones para que podamos utilizarlas en el futuro.\n",
    "- ¿Existen valores nulos? ¿Qué alternativas podrían realizarse?\n",
    "- ¿Existen outliers? ¿Qué podemos hacer con los outliers?\n",
    "- Debemos encodear los valores nulos correctamente, no deberíamos tener observaciones con valores como -99.\n",
    "- No cambiemos el nombre de las variables, pero sí podríamos cambiar los atributos si es necesario.\n",
    "- ¿Todas las variables son necesarias? ¿Deberíamos eliminar alguna columna?\n",
    "- ¿Existen variable correlacionadas? ¿Qué podemos hacer con éstas variables?\n"
   ]
  },
  {
   "cell_type": "markdown",
   "id": "7d3f5365-e26a-43ec-a2c3-d32af19f1277",
   "metadata": {},
   "source": [
    "### Presentación"
   ]
  },
  {
   "cell_type": "markdown",
   "id": "016b43f4-f32c-4633-b9ac-11b588309a40",
   "metadata": {},
   "source": [
    "Al final del práctico, es necesario hacer 1 o 2 slides que irán incluidos en la presentación final.  \n",
    "Los slides deberán contener las principales transformaciones que realizamos en el dataset.  \n",
    "Además será necesario realizar el primer video con la explicación de los prácticos 1 y 2."
   ]
  },
  {
   "cell_type": "markdown",
   "id": "9d816609-1700-4638-a473-f89f92561cd0",
   "metadata": {},
   "source": [
    "### Librerías recomendadas"
   ]
  },
  {
   "cell_type": "markdown",
   "id": "f6a9029c-0df9-4b15-96f8-fdc0464cd561",
   "metadata": {},
   "source": [
    "Sólo usaremos la librería \"pandas\". Recomiendo el siguiente material:  \n",
    "- https://jakevdp.github.io/PythonDataScienceHandbook/ -> Muy buen libro con explicaciones claras de cómo funciona lo básico de pandas (cap. 3)\n",
    "- https://pandas.pydata.org/docs/index.html -> Referencia de pandas, para buscar funciones, ejemplos, etc."
   ]
  },
  {
   "cell_type": "code",
   "execution_count": null,
   "id": "ef4594bb-0bbd-469a-9939-fd19c2fef8c5",
   "metadata": {},
   "outputs": [],
   "source": []
  },
  {
   "cell_type": "code",
   "execution_count": null,
   "id": "c01e7413-474e-43dc-90ec-dad4e074bd45",
   "metadata": {},
   "outputs": [],
   "source": []
  },
  {
   "cell_type": "code",
   "execution_count": null,
   "id": "db951002-b093-44c6-a46f-a8d08ab5df44",
   "metadata": {},
   "outputs": [],
   "source": []
  },
  {
   "cell_type": "markdown",
   "id": "6aebe6c2-201c-4a50-9a23-5ac2b45e7e65",
   "metadata": {},
   "source": [
    "## Práctico 02: Análisis Exploratorio y Curación - Resolución"
   ]
  },
  {
   "cell_type": "markdown",
   "id": "5de799ed-8976-4434-8553-33224957c10f",
   "metadata": {},
   "source": [
    "### Leer el dataset"
   ]
  },
  {
   "cell_type": "code",
   "execution_count": 21,
   "id": "bf3b1566-2bb9-446e-8f3d-bacbeca84539",
   "metadata": {},
   "outputs": [],
   "source": [
    "# Leemos el dataset con la función de pandas \"read_csv\"\n",
    "df = pd.read_csv(\"data/bank-additional-full.csv\", sep=\";\")"
   ]
  },
  {
   "cell_type": "code",
   "execution_count": 10,
   "id": "5cc33131-1f42-4c15-a16a-1bf6259f7d26",
   "metadata": {},
   "outputs": [
    {
     "data": {
      "text/html": [
       "<div>\n",
       "<style scoped>\n",
       "    .dataframe tbody tr th:only-of-type {\n",
       "        vertical-align: middle;\n",
       "    }\n",
       "\n",
       "    .dataframe tbody tr th {\n",
       "        vertical-align: top;\n",
       "    }\n",
       "\n",
       "    .dataframe thead th {\n",
       "        text-align: right;\n",
       "    }\n",
       "</style>\n",
       "<table border=\"1\" class=\"dataframe\">\n",
       "  <thead>\n",
       "    <tr style=\"text-align: right;\">\n",
       "      <th></th>\n",
       "      <th>age</th>\n",
       "      <th>job</th>\n",
       "      <th>marital</th>\n",
       "      <th>education</th>\n",
       "      <th>default</th>\n",
       "      <th>housing</th>\n",
       "      <th>loan</th>\n",
       "      <th>contact</th>\n",
       "      <th>month</th>\n",
       "      <th>day_of_week</th>\n",
       "      <th>duration</th>\n",
       "      <th>campaign</th>\n",
       "      <th>pdays</th>\n",
       "      <th>previous</th>\n",
       "      <th>poutcome</th>\n",
       "      <th>emp.var.rate</th>\n",
       "      <th>cons.price.idx</th>\n",
       "      <th>cons.conf.idx</th>\n",
       "      <th>euribor3m</th>\n",
       "      <th>nr.employed</th>\n",
       "      <th>y</th>\n",
       "    </tr>\n",
       "  </thead>\n",
       "  <tbody>\n",
       "    <tr>\n",
       "      <th>0</th>\n",
       "      <td>56</td>\n",
       "      <td>housemaid</td>\n",
       "      <td>married</td>\n",
       "      <td>basic.4y</td>\n",
       "      <td>no</td>\n",
       "      <td>no</td>\n",
       "      <td>no</td>\n",
       "      <td>telephone</td>\n",
       "      <td>may</td>\n",
       "      <td>mon</td>\n",
       "      <td>261</td>\n",
       "      <td>1</td>\n",
       "      <td>999</td>\n",
       "      <td>0</td>\n",
       "      <td>nonexistent</td>\n",
       "      <td>1.1</td>\n",
       "      <td>93.994</td>\n",
       "      <td>-36.4</td>\n",
       "      <td>4.857</td>\n",
       "      <td>5191.0</td>\n",
       "      <td>no</td>\n",
       "    </tr>\n",
       "    <tr>\n",
       "      <th>1</th>\n",
       "      <td>57</td>\n",
       "      <td>services</td>\n",
       "      <td>married</td>\n",
       "      <td>high.school</td>\n",
       "      <td>unknown</td>\n",
       "      <td>no</td>\n",
       "      <td>no</td>\n",
       "      <td>telephone</td>\n",
       "      <td>may</td>\n",
       "      <td>mon</td>\n",
       "      <td>149</td>\n",
       "      <td>1</td>\n",
       "      <td>999</td>\n",
       "      <td>0</td>\n",
       "      <td>nonexistent</td>\n",
       "      <td>1.1</td>\n",
       "      <td>93.994</td>\n",
       "      <td>-36.4</td>\n",
       "      <td>4.857</td>\n",
       "      <td>5191.0</td>\n",
       "      <td>no</td>\n",
       "    </tr>\n",
       "    <tr>\n",
       "      <th>2</th>\n",
       "      <td>37</td>\n",
       "      <td>services</td>\n",
       "      <td>married</td>\n",
       "      <td>high.school</td>\n",
       "      <td>no</td>\n",
       "      <td>yes</td>\n",
       "      <td>no</td>\n",
       "      <td>telephone</td>\n",
       "      <td>may</td>\n",
       "      <td>mon</td>\n",
       "      <td>226</td>\n",
       "      <td>1</td>\n",
       "      <td>999</td>\n",
       "      <td>0</td>\n",
       "      <td>nonexistent</td>\n",
       "      <td>1.1</td>\n",
       "      <td>93.994</td>\n",
       "      <td>-36.4</td>\n",
       "      <td>4.857</td>\n",
       "      <td>5191.0</td>\n",
       "      <td>no</td>\n",
       "    </tr>\n",
       "    <tr>\n",
       "      <th>3</th>\n",
       "      <td>40</td>\n",
       "      <td>admin.</td>\n",
       "      <td>married</td>\n",
       "      <td>basic.6y</td>\n",
       "      <td>no</td>\n",
       "      <td>no</td>\n",
       "      <td>no</td>\n",
       "      <td>telephone</td>\n",
       "      <td>may</td>\n",
       "      <td>mon</td>\n",
       "      <td>151</td>\n",
       "      <td>1</td>\n",
       "      <td>999</td>\n",
       "      <td>0</td>\n",
       "      <td>nonexistent</td>\n",
       "      <td>1.1</td>\n",
       "      <td>93.994</td>\n",
       "      <td>-36.4</td>\n",
       "      <td>4.857</td>\n",
       "      <td>5191.0</td>\n",
       "      <td>no</td>\n",
       "    </tr>\n",
       "    <tr>\n",
       "      <th>4</th>\n",
       "      <td>56</td>\n",
       "      <td>services</td>\n",
       "      <td>married</td>\n",
       "      <td>high.school</td>\n",
       "      <td>no</td>\n",
       "      <td>no</td>\n",
       "      <td>yes</td>\n",
       "      <td>telephone</td>\n",
       "      <td>may</td>\n",
       "      <td>mon</td>\n",
       "      <td>307</td>\n",
       "      <td>1</td>\n",
       "      <td>999</td>\n",
       "      <td>0</td>\n",
       "      <td>nonexistent</td>\n",
       "      <td>1.1</td>\n",
       "      <td>93.994</td>\n",
       "      <td>-36.4</td>\n",
       "      <td>4.857</td>\n",
       "      <td>5191.0</td>\n",
       "      <td>no</td>\n",
       "    </tr>\n",
       "    <tr>\n",
       "      <th>...</th>\n",
       "      <td>...</td>\n",
       "      <td>...</td>\n",
       "      <td>...</td>\n",
       "      <td>...</td>\n",
       "      <td>...</td>\n",
       "      <td>...</td>\n",
       "      <td>...</td>\n",
       "      <td>...</td>\n",
       "      <td>...</td>\n",
       "      <td>...</td>\n",
       "      <td>...</td>\n",
       "      <td>...</td>\n",
       "      <td>...</td>\n",
       "      <td>...</td>\n",
       "      <td>...</td>\n",
       "      <td>...</td>\n",
       "      <td>...</td>\n",
       "      <td>...</td>\n",
       "      <td>...</td>\n",
       "      <td>...</td>\n",
       "      <td>...</td>\n",
       "    </tr>\n",
       "    <tr>\n",
       "      <th>41183</th>\n",
       "      <td>73</td>\n",
       "      <td>retired</td>\n",
       "      <td>married</td>\n",
       "      <td>professional.course</td>\n",
       "      <td>no</td>\n",
       "      <td>yes</td>\n",
       "      <td>no</td>\n",
       "      <td>cellular</td>\n",
       "      <td>nov</td>\n",
       "      <td>fri</td>\n",
       "      <td>334</td>\n",
       "      <td>1</td>\n",
       "      <td>999</td>\n",
       "      <td>0</td>\n",
       "      <td>nonexistent</td>\n",
       "      <td>-1.1</td>\n",
       "      <td>94.767</td>\n",
       "      <td>-50.8</td>\n",
       "      <td>1.028</td>\n",
       "      <td>4963.6</td>\n",
       "      <td>yes</td>\n",
       "    </tr>\n",
       "    <tr>\n",
       "      <th>41184</th>\n",
       "      <td>46</td>\n",
       "      <td>blue-collar</td>\n",
       "      <td>married</td>\n",
       "      <td>professional.course</td>\n",
       "      <td>no</td>\n",
       "      <td>no</td>\n",
       "      <td>no</td>\n",
       "      <td>cellular</td>\n",
       "      <td>nov</td>\n",
       "      <td>fri</td>\n",
       "      <td>383</td>\n",
       "      <td>1</td>\n",
       "      <td>999</td>\n",
       "      <td>0</td>\n",
       "      <td>nonexistent</td>\n",
       "      <td>-1.1</td>\n",
       "      <td>94.767</td>\n",
       "      <td>-50.8</td>\n",
       "      <td>1.028</td>\n",
       "      <td>4963.6</td>\n",
       "      <td>no</td>\n",
       "    </tr>\n",
       "    <tr>\n",
       "      <th>41185</th>\n",
       "      <td>56</td>\n",
       "      <td>retired</td>\n",
       "      <td>married</td>\n",
       "      <td>university.degree</td>\n",
       "      <td>no</td>\n",
       "      <td>yes</td>\n",
       "      <td>no</td>\n",
       "      <td>cellular</td>\n",
       "      <td>nov</td>\n",
       "      <td>fri</td>\n",
       "      <td>189</td>\n",
       "      <td>2</td>\n",
       "      <td>999</td>\n",
       "      <td>0</td>\n",
       "      <td>nonexistent</td>\n",
       "      <td>-1.1</td>\n",
       "      <td>94.767</td>\n",
       "      <td>-50.8</td>\n",
       "      <td>1.028</td>\n",
       "      <td>4963.6</td>\n",
       "      <td>no</td>\n",
       "    </tr>\n",
       "    <tr>\n",
       "      <th>41186</th>\n",
       "      <td>44</td>\n",
       "      <td>technician</td>\n",
       "      <td>married</td>\n",
       "      <td>professional.course</td>\n",
       "      <td>no</td>\n",
       "      <td>no</td>\n",
       "      <td>no</td>\n",
       "      <td>cellular</td>\n",
       "      <td>nov</td>\n",
       "      <td>fri</td>\n",
       "      <td>442</td>\n",
       "      <td>1</td>\n",
       "      <td>999</td>\n",
       "      <td>0</td>\n",
       "      <td>nonexistent</td>\n",
       "      <td>-1.1</td>\n",
       "      <td>94.767</td>\n",
       "      <td>-50.8</td>\n",
       "      <td>1.028</td>\n",
       "      <td>4963.6</td>\n",
       "      <td>yes</td>\n",
       "    </tr>\n",
       "    <tr>\n",
       "      <th>41187</th>\n",
       "      <td>74</td>\n",
       "      <td>retired</td>\n",
       "      <td>married</td>\n",
       "      <td>professional.course</td>\n",
       "      <td>no</td>\n",
       "      <td>yes</td>\n",
       "      <td>no</td>\n",
       "      <td>cellular</td>\n",
       "      <td>nov</td>\n",
       "      <td>fri</td>\n",
       "      <td>239</td>\n",
       "      <td>3</td>\n",
       "      <td>999</td>\n",
       "      <td>1</td>\n",
       "      <td>failure</td>\n",
       "      <td>-1.1</td>\n",
       "      <td>94.767</td>\n",
       "      <td>-50.8</td>\n",
       "      <td>1.028</td>\n",
       "      <td>4963.6</td>\n",
       "      <td>no</td>\n",
       "    </tr>\n",
       "  </tbody>\n",
       "</table>\n",
       "<p>41188 rows × 21 columns</p>\n",
       "</div>"
      ],
      "text/plain": [
       "       age          job  marital            education  default housing loan  \\\n",
       "0       56    housemaid  married             basic.4y       no      no   no   \n",
       "1       57     services  married          high.school  unknown      no   no   \n",
       "2       37     services  married          high.school       no     yes   no   \n",
       "3       40       admin.  married             basic.6y       no      no   no   \n",
       "4       56     services  married          high.school       no      no  yes   \n",
       "...    ...          ...      ...                  ...      ...     ...  ...   \n",
       "41183   73      retired  married  professional.course       no     yes   no   \n",
       "41184   46  blue-collar  married  professional.course       no      no   no   \n",
       "41185   56      retired  married    university.degree       no     yes   no   \n",
       "41186   44   technician  married  professional.course       no      no   no   \n",
       "41187   74      retired  married  professional.course       no     yes   no   \n",
       "\n",
       "         contact month day_of_week  duration  campaign  pdays  previous  \\\n",
       "0      telephone   may         mon       261         1    999         0   \n",
       "1      telephone   may         mon       149         1    999         0   \n",
       "2      telephone   may         mon       226         1    999         0   \n",
       "3      telephone   may         mon       151         1    999         0   \n",
       "4      telephone   may         mon       307         1    999         0   \n",
       "...          ...   ...         ...       ...       ...    ...       ...   \n",
       "41183   cellular   nov         fri       334         1    999         0   \n",
       "41184   cellular   nov         fri       383         1    999         0   \n",
       "41185   cellular   nov         fri       189         2    999         0   \n",
       "41186   cellular   nov         fri       442         1    999         0   \n",
       "41187   cellular   nov         fri       239         3    999         1   \n",
       "\n",
       "          poutcome  emp.var.rate  cons.price.idx  cons.conf.idx  euribor3m  \\\n",
       "0      nonexistent           1.1          93.994          -36.4      4.857   \n",
       "1      nonexistent           1.1          93.994          -36.4      4.857   \n",
       "2      nonexistent           1.1          93.994          -36.4      4.857   \n",
       "3      nonexistent           1.1          93.994          -36.4      4.857   \n",
       "4      nonexistent           1.1          93.994          -36.4      4.857   \n",
       "...            ...           ...             ...            ...        ...   \n",
       "41183  nonexistent          -1.1          94.767          -50.8      1.028   \n",
       "41184  nonexistent          -1.1          94.767          -50.8      1.028   \n",
       "41185  nonexistent          -1.1          94.767          -50.8      1.028   \n",
       "41186  nonexistent          -1.1          94.767          -50.8      1.028   \n",
       "41187      failure          -1.1          94.767          -50.8      1.028   \n",
       "\n",
       "       nr.employed    y  \n",
       "0           5191.0   no  \n",
       "1           5191.0   no  \n",
       "2           5191.0   no  \n",
       "3           5191.0   no  \n",
       "4           5191.0   no  \n",
       "...            ...  ...  \n",
       "41183       4963.6  yes  \n",
       "41184       4963.6   no  \n",
       "41185       4963.6   no  \n",
       "41186       4963.6  yes  \n",
       "41187       4963.6   no  \n",
       "\n",
       "[41188 rows x 21 columns]"
      ]
     },
     "execution_count": 10,
     "metadata": {},
     "output_type": "execute_result"
    }
   ],
   "source": [
    "df"
   ]
  },
  {
   "cell_type": "markdown",
   "id": "21891885-8749-4bd7-80fe-42cd503fc27b",
   "metadata": {},
   "source": [
    "### Análisis de las variables"
   ]
  },
  {
   "cell_type": "markdown",
   "id": "4fb0f243-4165-4e18-86f8-9a0edc89fa8c",
   "metadata": {},
   "source": [
    "#### Valores nulos"
   ]
  },
  {
   "cell_type": "code",
   "execution_count": null,
   "id": "16512741-5d00-4b33-81ca-42e42a4eb881",
   "metadata": {},
   "outputs": [],
   "source": []
  },
  {
   "cell_type": "markdown",
   "id": "ef09fa6b-4504-4997-8c10-bfd162d3ab81",
   "metadata": {},
   "source": [
    "#### Outliers"
   ]
  },
  {
   "cell_type": "code",
   "execution_count": null,
   "id": "ffbda9f3-4f7a-4bee-9995-6340b4dcd998",
   "metadata": {},
   "outputs": [],
   "source": []
  },
  {
   "cell_type": "markdown",
   "id": "c4e5d18a-bebb-49d6-8096-824ba4510256",
   "metadata": {},
   "source": [
    "#### Distribuciones de las variables numéricas"
   ]
  },
  {
   "cell_type": "code",
   "execution_count": null,
   "id": "6d94ae07-7fbb-4283-af6b-a0da2d9761dc",
   "metadata": {},
   "outputs": [],
   "source": []
  },
  {
   "cell_type": "markdown",
   "id": "70b5712c-8889-4e24-ab99-7c1a19705f63",
   "metadata": {},
   "source": [
    "#### Cardinalidad de las variables categóricas"
   ]
  },
  {
   "cell_type": "code",
   "execution_count": null,
   "id": "10d8355c-344a-4383-bfbf-cfbdb7ae4b6a",
   "metadata": {},
   "outputs": [],
   "source": []
  },
  {
   "cell_type": "markdown",
   "id": "03d48365-353d-4858-abef-c8b858cb5acf",
   "metadata": {},
   "source": [
    "#### Correlación entre variables"
   ]
  },
  {
   "cell_type": "code",
   "execution_count": 26,
   "id": "2a07afe4-8bbc-4c56-b7c2-296b1ca83186",
   "metadata": {},
   "outputs": [],
   "source": [
    "# Recomiendo usar el heatmap de seaborn: https://seaborn.pydata.org/examples/many_pairwise_correlations.html"
   ]
  },
  {
   "cell_type": "markdown",
   "id": "b8d2e0fd-5317-47bc-94ef-d58acfd569be",
   "metadata": {},
   "source": [
    "#### Otros análisis"
   ]
  },
  {
   "cell_type": "code",
   "execution_count": null,
   "id": "a34796d2-9ef7-433c-a23b-31947663af1c",
   "metadata": {},
   "outputs": [],
   "source": []
  },
  {
   "cell_type": "markdown",
   "id": "cf445a01-edbe-4e3f-af17-fe69271b25c7",
   "metadata": {},
   "source": [
    "### Tratamiento y modificación de las variables"
   ]
  },
  {
   "cell_type": "markdown",
   "id": "d34976dc-0397-41d4-95ae-6a2220872522",
   "metadata": {},
   "source": [
    "#### Valores nulos"
   ]
  },
  {
   "cell_type": "code",
   "execution_count": null,
   "id": "8cdc1fe7-3d36-4704-986a-2f4a009c67ee",
   "metadata": {},
   "outputs": [],
   "source": []
  },
  {
   "cell_type": "markdown",
   "id": "9aede13d-ab5a-4ab6-865b-be6132770e5c",
   "metadata": {},
   "source": [
    "#### Outliers"
   ]
  },
  {
   "cell_type": "code",
   "execution_count": null,
   "id": "cee45716-5639-408d-a8a7-3ce8e14c42ac",
   "metadata": {},
   "outputs": [],
   "source": []
  },
  {
   "cell_type": "markdown",
   "id": "cbf014ef-350a-4b19-b998-bf9c19d26d4e",
   "metadata": {},
   "source": [
    "#### Distribuciones de las variables numéricas"
   ]
  },
  {
   "cell_type": "code",
   "execution_count": null,
   "id": "49b1d282-c15f-458c-b531-45ec10390eeb",
   "metadata": {},
   "outputs": [],
   "source": []
  },
  {
   "cell_type": "markdown",
   "id": "0aee29f8-e059-4817-819e-7084597217b9",
   "metadata": {},
   "source": [
    "#### Cardinalidad de las variables categóricas"
   ]
  },
  {
   "cell_type": "code",
   "execution_count": null,
   "id": "79b905ee-a676-4326-b2e0-ec7245433ebc",
   "metadata": {},
   "outputs": [],
   "source": []
  },
  {
   "cell_type": "markdown",
   "id": "ad537c8f-8ad7-4bf0-abe9-216d2c64eb39",
   "metadata": {},
   "source": [
    "#### Correlación entre variables"
   ]
  },
  {
   "cell_type": "code",
   "execution_count": null,
   "id": "56a38da7-7956-465c-8e84-4082f1b6ca76",
   "metadata": {},
   "outputs": [],
   "source": [
    "# Vamos a eliminar variables correlacionadas?"
   ]
  },
  {
   "cell_type": "markdown",
   "id": "6bf527cb-bf85-4231-9c1f-82e836c7a334",
   "metadata": {},
   "source": [
    "#### Otras transformaciones"
   ]
  },
  {
   "cell_type": "code",
   "execution_count": null,
   "id": "b5d62bd5-6de6-4732-b70c-d83d600ab331",
   "metadata": {},
   "outputs": [],
   "source": [
    "# Verificar los tipos por ejemplo (str, int). Es necesario cambiar algún tipo?"
   ]
  },
  {
   "cell_type": "markdown",
   "id": "89e08174-c807-49d8-8823-2a5309f1bf19",
   "metadata": {},
   "source": [
    "#### Codificación del target"
   ]
  },
  {
   "cell_type": "code",
   "execution_count": 13,
   "id": "91a7be7c-11a0-41d2-968a-3d19790cd4a5",
   "metadata": {},
   "outputs": [
    {
     "data": {
      "text/plain": [
       "no     36548\n",
       "yes     4640\n",
       "Name: y, dtype: int64"
      ]
     },
     "execution_count": 13,
     "metadata": {},
     "output_type": "execute_result"
    }
   ],
   "source": [
    "# Nuestro target o variable dependiente tiene valores \"yes\" y \"no\".\n",
    "df.y.value_counts()"
   ]
  },
  {
   "cell_type": "code",
   "execution_count": null,
   "id": "5530e511-d5df-4014-99fd-cb00652f8795",
   "metadata": {},
   "outputs": [],
   "source": [
    "# Para poder ser utilizado en el futuro debemos codificar esta columna en valores numéricos (1 y 0 por ejemplo)\n",
    "# Utilizar la función de pandas \"replace\""
   ]
  },
  {
   "cell_type": "code",
   "execution_count": null,
   "id": "b99191db-881e-4009-ba0d-1ed4d7f4af73",
   "metadata": {},
   "outputs": [],
   "source": []
  },
  {
   "cell_type": "markdown",
   "id": "90b3a872-0a4c-4394-ac42-8b7b81b9c367",
   "metadata": {},
   "source": [
    "### Guardar el dataset final"
   ]
  },
  {
   "cell_type": "code",
   "execution_count": 25,
   "id": "7892517f-581f-48b2-b058-4a664eb4b1c9",
   "metadata": {},
   "outputs": [],
   "source": [
    "# Deberemos guardar el dataset final para ser utilizado en los próximos prácticos\n",
    "# Utilizar la función de pandas \"to_csv\""
   ]
  },
  {
   "cell_type": "code",
   "execution_count": null,
   "id": "13b1b8e4-f8e8-46c8-819a-b441411530c2",
   "metadata": {},
   "outputs": [],
   "source": []
  }
 ],
 "metadata": {
  "kernelspec": {
   "display_name": "Python 3",
   "language": "python",
   "name": "python3"
  },
  "language_info": {
   "codemirror_mode": {
    "name": "ipython",
    "version": 3
   },
   "file_extension": ".py",
   "mimetype": "text/x-python",
   "name": "python",
   "nbconvert_exporter": "python",
   "pygments_lexer": "ipython3",
   "version": "3.8.8"
  },
  "toc-autonumbering": true
 },
 "nbformat": 4,
 "nbformat_minor": 5
}
