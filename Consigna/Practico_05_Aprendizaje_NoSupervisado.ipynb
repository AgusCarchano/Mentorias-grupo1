{
  "nbformat": 4,
  "nbformat_minor": 5,
  "metadata": {
    "kernelspec": {
      "display_name": "Python 3",
      "language": "python",
      "name": "python3"
    },
    "language_info": {
      "codemirror_mode": {
        "name": "ipython",
        "version": 3
      },
      "file_extension": ".py",
      "mimetype": "text/x-python",
      "name": "python",
      "nbconvert_exporter": "python",
      "pygments_lexer": "ipython3",
      "version": "3.9.5"
    },
    "toc-autonumbering": true,
    "colab": {
      "name": "Practico_05_Aprendizaje_NoSupervisado.ipynb",
      "provenance": []
    }
  },
  "cells": [
    {
      "cell_type": "code",
      "metadata": {
        "id": "d6e3a8e9-d57f-43bc-8574-cb8b8640cf95"
      },
      "source": [
        "import numpy as np\n",
        "import pandas as pd\n",
        "import matplotlib.pyplot as plt\n",
        "import seaborn as sns\n",
        "\n",
        "from sklearn.cluster import KMeans, DBSCAN, AgglomerativeClustering"
      ],
      "id": "d6e3a8e9-d57f-43bc-8574-cb8b8640cf95",
      "execution_count": null,
      "outputs": []
    },
    {
      "cell_type": "code",
      "metadata": {
        "id": "66f58817-99a9-420e-ba98-8515f8d7b153"
      },
      "source": [
        "# Opción para ver todas las columnas del dataset en el notebook\n",
        "pd.set_option('display.max_columns', 50)"
      ],
      "id": "66f58817-99a9-420e-ba98-8515f8d7b153",
      "execution_count": null,
      "outputs": []
    },
    {
      "cell_type": "markdown",
      "metadata": {
        "id": "3d777221-43e0-4eec-86f9-ecc19f327675"
      },
      "source": [
        "# Práctico 05: Aprendizaje No Supervisado"
      ],
      "id": "3d777221-43e0-4eec-86f9-ecc19f327675"
    },
    {
      "cell_type": "markdown",
      "metadata": {
        "id": "5e4a8a37-b485-472c-a083-d12e6535641b"
      },
      "source": [
        "Realizaremos estudios de segmentación de clientes. Para ello utilizaremos varios métodos de clustering como K-means y DBSCAN ¿Podemos agrupar a clientes propensos a adquirir un plazo fijo? ¿Bajo qué características pueden agruparse esos clientes?"
      ],
      "id": "5e4a8a37-b485-472c-a083-d12e6535641b"
    },
    {
      "cell_type": "markdown",
      "metadata": {
        "id": "c5a7e865-52b6-44cf-9304-9bf9f9f8de3c"
      },
      "source": [
        "## Objetivo del práctico"
      ],
      "id": "c5a7e865-52b6-44cf-9304-9bf9f9f8de3c"
    },
    {
      "cell_type": "markdown",
      "metadata": {
        "id": "970d7c4a-37e7-49f0-9239-d06e45b3f0aa"
      },
      "source": [
        "### Análisis de clustering con K-means\n",
        "- Método \"Elbow\" o codo\n",
        "- Explicación de cada cluster"
      ],
      "id": "970d7c4a-37e7-49f0-9239-d06e45b3f0aa"
    },
    {
      "cell_type": "markdown",
      "metadata": {
        "id": "ad2e5dd3-2d30-4466-b791-d592c992867f"
      },
      "source": [
        "### Análisis utilizando Hierarchical Clustering\n",
        "- Algoritmo de H-Clustering\n",
        "- Explicación de los clusters"
      ],
      "id": "ad2e5dd3-2d30-4466-b791-d592c992867f"
    },
    {
      "cell_type": "markdown",
      "metadata": {
        "id": "ab6d06b3-7f92-486d-89b5-f1e1649a9135"
      },
      "source": [
        "### Análisis utilizando DBSCAN\n",
        "- Algoritmo de DBSCAN\n",
        "- Explicación de los clusters"
      ],
      "id": "ab6d06b3-7f92-486d-89b5-f1e1649a9135"
    },
    {
      "cell_type": "markdown",
      "metadata": {
        "id": "3aa6badf-e0db-4c78-8129-3b0c0a3aee32"
      },
      "source": [
        "### Resultados Finales\n",
        "- Elección de clusters útiles\n",
        "- Explicación a nivel de negocio"
      ],
      "id": "3aa6badf-e0db-4c78-8129-3b0c0a3aee32"
    },
    {
      "cell_type": "markdown",
      "metadata": {
        "id": "7d3f5365-e26a-43ec-a2c3-d32af19f1277"
      },
      "source": [
        "### Presentación"
      ],
      "id": "7d3f5365-e26a-43ec-a2c3-d32af19f1277"
    },
    {
      "cell_type": "markdown",
      "metadata": {
        "id": "016b43f4-f32c-4633-b9ac-11b588309a40"
      },
      "source": [
        "Al final del práctico, es necesario hacer 1 o 2 slides que irán incluidos en la presentación final.  \n",
        "Los slides deberán contener los métodos de cluster que utilizamos y los resultados que obtuvimos. Por último responderemos desde el punto de vista de negocio si este análisis de clustering puede sernos útil."
      ],
      "id": "016b43f4-f32c-4633-b9ac-11b588309a40"
    },
    {
      "cell_type": "markdown",
      "metadata": {
        "id": "9d816609-1700-4638-a473-f89f92561cd0"
      },
      "source": [
        "### Librerías recomendadas"
      ],
      "id": "9d816609-1700-4638-a473-f89f92561cd0"
    },
    {
      "cell_type": "markdown",
      "metadata": {
        "id": "f6a9029c-0df9-4b15-96f8-fdc0464cd561"
      },
      "source": [
        "Utilizaremos los métodos de clustering K-means, Hierarchical Clustering y DBSCAN.\n",
        "Recomiendo el siguiente material:  \n",
        "- https://scikit-learn.org/stable/modules/clustering.html -> User guide de clustering de scikit-learn\n",
        "- https://scikit-learn.org/stable/modules/generated/sklearn.cluster.DBSCAN.html -> Referencia de librería scikit-learn, sección de DBSCAN.\n",
        "- https://scikit-learn.org/stable/modules/generated/sklearn.cluster.KMeans.html#sklearn.cluster.KMeans -> Referencia de librería scikit-learn, sección de KMeans.\n",
        "- https://scikit-learn.org/stable/modules/generated/sklearn.cluster.AgglomerativeClustering.html#sklearn.cluster.AgglomerativeClustering -> Referencia de librería scikit-learn, sección de un tipo de Hierarchical Clustering."
      ],
      "id": "f6a9029c-0df9-4b15-96f8-fdc0464cd561"
    },
    {
      "cell_type": "markdown",
      "metadata": {
        "id": "6aebe6c2-201c-4a50-9a23-5ac2b45e7e65"
      },
      "source": [
        "## Práctico 05: Aprendizaje Supervisado - Resolución"
      ],
      "id": "6aebe6c2-201c-4a50-9a23-5ac2b45e7e65"
    },
    {
      "cell_type": "code",
      "metadata": {
        "id": "bf3b1566-2bb9-446e-8f3d-bacbeca84539"
      },
      "source": [
        "# Leemos el dataset con la función de pandas \"read_csv\"\n",
        "df = pd.read_csv(\"data/bank-additional-full.csv\", sep=\";\")"
      ],
      "id": "bf3b1566-2bb9-446e-8f3d-bacbeca84539",
      "execution_count": null,
      "outputs": []
    },
    {
      "cell_type": "markdown",
      "metadata": {
        "id": "5de799ed-8976-4434-8553-33224957c10f"
      },
      "source": [
        "### Exploración de variables interesantes"
      ],
      "id": "5de799ed-8976-4434-8553-33224957c10f"
    },
    {
      "cell_type": "markdown",
      "metadata": {
        "id": "97553b0f-f1ef-4c12-bde5-f3e732d1510f"
      },
      "source": [
        "(Obtener el código del Práctico 01 y 02)"
      ],
      "id": "97553b0f-f1ef-4c12-bde5-f3e732d1510f"
    },
    {
      "cell_type": "code",
      "metadata": {
        "id": "bdd4f9e2-31ad-4f6e-ae1b-5d3f290a2585"
      },
      "source": [
        "# En esta sección buscaremos variables que puedan interesarnos para hacer clusters. Podríamos usar todas o casi todas las variables, pero luego resulta difícil explicar los clusters.\n",
        "\n",
        "# Por ejemplo, podemos intentar hacer clusters con age y education, o con age, job, marital status. Son muchas las posibilidades, lo ideal es experimentar."
      ],
      "id": "bdd4f9e2-31ad-4f6e-ae1b-5d3f290a2585",
      "execution_count": null,
      "outputs": []
    },
    {
      "cell_type": "markdown",
      "metadata": {
        "id": "b5b89edf-2da1-4fcb-a03a-7c5d200b4944"
      },
      "source": [
        "### Preprocesamiento"
      ],
      "id": "b5b89edf-2da1-4fcb-a03a-7c5d200b4944"
    },
    {
      "cell_type": "markdown",
      "metadata": {
        "id": "507c7144-1ac1-498b-8a86-6addf3815e65"
      },
      "source": [
        "(Obtener el código del Práctico 03)"
      ],
      "id": "507c7144-1ac1-498b-8a86-6addf3815e65"
    },
    {
      "cell_type": "code",
      "metadata": {
        "id": "67d0eb8c-17af-4abc-a257-0ddf5af9dcbc"
      },
      "source": [
        "# Vamos a tener que preprocesar las variables para que pueda realizarse el clustering correctamente.\n",
        "# Ver este link: https://medium.com/@evgen.ryzhkov/5-stages-of-data-preprocessing-for-k-means-clustering-b755426f9932"
      ],
      "id": "67d0eb8c-17af-4abc-a257-0ddf5af9dcbc",
      "execution_count": null,
      "outputs": []
    },
    {
      "cell_type": "code",
      "metadata": {
        "id": "1223298d-b633-44f1-b517-4a39e74b9a6a"
      },
      "source": [
        ""
      ],
      "id": "1223298d-b633-44f1-b517-4a39e74b9a6a",
      "execution_count": null,
      "outputs": []
    },
    {
      "cell_type": "markdown",
      "metadata": {
        "id": "7e1f0445-3f27-4987-8c43-f97264e219af"
      },
      "source": [
        "### KMeans"
      ],
      "id": "7e1f0445-3f27-4987-8c43-f97264e219af"
    },
    {
      "cell_type": "markdown",
      "metadata": {
        "id": "e467068b-1b2e-4abe-8688-125bfb191b18"
      },
      "source": [
        "#### Selección de variables a clusterizar"
      ],
      "id": "e467068b-1b2e-4abe-8688-125bfb191b18"
    },
    {
      "cell_type": "code",
      "metadata": {
        "id": "26196980-8b15-414c-b402-8f4aaf14df94"
      },
      "source": [
        "# Por ejemplo age y education"
      ],
      "id": "26196980-8b15-414c-b402-8f4aaf14df94",
      "execution_count": null,
      "outputs": []
    },
    {
      "cell_type": "markdown",
      "metadata": {
        "id": "aecb880f-c0d7-4637-9089-1758975f760b"
      },
      "source": [
        "#### Elbow method"
      ],
      "id": "aecb880f-c0d7-4637-9089-1758975f760b"
    },
    {
      "cell_type": "code",
      "metadata": {
        "id": "0bdaddf2-4294-4b91-b7f0-9cd1d72cd9a5"
      },
      "source": [
        "# Graficar el método elbow para determinar el número de clusters"
      ],
      "id": "0bdaddf2-4294-4b91-b7f0-9cd1d72cd9a5",
      "execution_count": null,
      "outputs": []
    },
    {
      "cell_type": "markdown",
      "metadata": {
        "id": "ca288372-2e4e-49fe-b285-4c936676a17e"
      },
      "source": [
        "#### Intentar explicar los clusters"
      ],
      "id": "ca288372-2e4e-49fe-b285-4c936676a17e"
    },
    {
      "cell_type": "code",
      "metadata": {
        "id": "334935e7-f1de-4a72-a630-c0f8066cb872"
      },
      "source": [
        "# Por ejemplo, cluster 1 son clientes jovenes con alto nivel educativo, generalmente no interesados en adquirir plazo fijo"
      ],
      "id": "334935e7-f1de-4a72-a630-c0f8066cb872",
      "execution_count": null,
      "outputs": []
    },
    {
      "cell_type": "markdown",
      "metadata": {
        "id": "17c15751-9121-4288-9255-b4595817797c"
      },
      "source": [
        "### Hierarchical Clustering"
      ],
      "id": "17c15751-9121-4288-9255-b4595817797c"
    },
    {
      "cell_type": "markdown",
      "metadata": {
        "id": "38f02349-ec9c-4db7-819b-8795c4485272"
      },
      "source": [
        "#### Selección de variables a clusterizar"
      ],
      "id": "38f02349-ec9c-4db7-819b-8795c4485272"
    },
    {
      "cell_type": "code",
      "metadata": {
        "id": "6a109c97-d96b-435a-b972-c578b2c4be81"
      },
      "source": [
        "# Por ejemplo age y education"
      ],
      "id": "6a109c97-d96b-435a-b972-c578b2c4be81",
      "execution_count": null,
      "outputs": []
    },
    {
      "cell_type": "markdown",
      "metadata": {
        "id": "be9fbd50-4167-4409-a2d1-9d71e48119d1"
      },
      "source": [
        "#### Hiperparámetros"
      ],
      "id": "be9fbd50-4167-4409-a2d1-9d71e48119d1"
    },
    {
      "cell_type": "code",
      "metadata": {
        "id": "22412601-4d33-42cb-bef5-feabd71f5634"
      },
      "source": [
        "# Verificar como cambian los clusters al modificar los hiperparámetros"
      ],
      "id": "22412601-4d33-42cb-bef5-feabd71f5634",
      "execution_count": null,
      "outputs": []
    },
    {
      "cell_type": "markdown",
      "metadata": {
        "id": "f7b31dce-4e29-4ecd-9807-9f52be085de4"
      },
      "source": [
        "#### Intentar explicar los clusters"
      ],
      "id": "f7b31dce-4e29-4ecd-9807-9f52be085de4"
    },
    {
      "cell_type": "code",
      "metadata": {
        "id": "2dc10140-9ee5-4dc5-97bf-0867e0b1f18f"
      },
      "source": [
        "# Por ejemplo, cluster 1 son clientes jovenes con alto nivel educativo, generalmente no interesados en adquirir plazo fijo."
      ],
      "id": "2dc10140-9ee5-4dc5-97bf-0867e0b1f18f",
      "execution_count": null,
      "outputs": []
    },
    {
      "cell_type": "markdown",
      "metadata": {
        "id": "088b3885-f841-4a81-aa12-0aabb0593cae"
      },
      "source": [
        "### DBSCAN"
      ],
      "id": "088b3885-f841-4a81-aa12-0aabb0593cae"
    },
    {
      "cell_type": "markdown",
      "metadata": {
        "id": "8eb53286-9dab-4ed4-85ef-5b2acbc0f7c4"
      },
      "source": [
        "#### Selección de variables a clusterizar"
      ],
      "id": "8eb53286-9dab-4ed4-85ef-5b2acbc0f7c4"
    },
    {
      "cell_type": "code",
      "metadata": {
        "id": "e91b22cb-9fa9-46f9-b1bd-c6dc534f48f0"
      },
      "source": [
        "# Por ejemplo age y education"
      ],
      "id": "e91b22cb-9fa9-46f9-b1bd-c6dc534f48f0",
      "execution_count": null,
      "outputs": []
    },
    {
      "cell_type": "markdown",
      "metadata": {
        "id": "5903bf3d-6e35-4404-9d8a-78f2fe787320"
      },
      "source": [
        "#### Hiperparámetros"
      ],
      "id": "5903bf3d-6e35-4404-9d8a-78f2fe787320"
    },
    {
      "cell_type": "code",
      "metadata": {
        "id": "d0dd74a8-9dad-4308-8982-674b51359cde"
      },
      "source": [
        "# Verificar como cambian los clusters al modificar los hiperparámetros"
      ],
      "id": "d0dd74a8-9dad-4308-8982-674b51359cde",
      "execution_count": null,
      "outputs": []
    },
    {
      "cell_type": "markdown",
      "metadata": {
        "id": "3837e6f1-c42b-4199-9756-2e5a6422cfaa"
      },
      "source": [
        "#### Intentar explicar los clusters"
      ],
      "id": "3837e6f1-c42b-4199-9756-2e5a6422cfaa"
    },
    {
      "cell_type": "code",
      "metadata": {
        "id": "6a0eee48-d716-4223-b645-8bac464ce10e"
      },
      "source": [
        "# Por ejemplo, cluster 1 son clientes jovenes con alto nivel educativo, generalmente no interesados en adquirir plazo fijo."
      ],
      "id": "6a0eee48-d716-4223-b645-8bac464ce10e",
      "execution_count": null,
      "outputs": []
    },
    {
      "cell_type": "markdown",
      "metadata": {
        "id": "9a5a6475-65da-4cd0-870d-a15116198684"
      },
      "source": [
        "### Conclusión"
      ],
      "id": "9a5a6475-65da-4cd0-870d-a15116198684"
    },
    {
      "cell_type": "code",
      "metadata": {
        "id": "c75c8278-d18f-48a9-b18c-94121cf2666a"
      },
      "source": [
        "# Qué clusters encontré que puedan interesarle al banco?\n",
        "# Qué método fue más efectivo?\n",
        "# Qué relación tienen los clusters con el target?"
      ],
      "id": "c75c8278-d18f-48a9-b18c-94121cf2666a",
      "execution_count": null,
      "outputs": []
    }
  ]
}